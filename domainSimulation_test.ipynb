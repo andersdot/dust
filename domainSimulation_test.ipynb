{
 "cells": [
  {
   "cell_type": "code",
   "execution_count": 1,
   "metadata": {},
   "outputs": [],
   "source": [
    "%load_ext autoreload\n",
    "%autoreload 2"
   ]
  },
  {
   "cell_type": "code",
   "execution_count": 2,
   "metadata": {},
   "outputs": [
    {
     "name": "stderr",
     "output_type": "stream",
     "text": [
      "/cm/shared/sw/pkg-old/devel/python3/3.6.2/lib/python3.6/site-packages/h5py/__init__.py:36: FutureWarning: Conversion of the second argument of issubdtype from `float` to `np.floating` is deprecated. In future, it will be treated as `np.float64 == np.dtype(float).type`.\n",
      "  from ._conv import register_converters as _register_converters\n"
     ]
    }
   ],
   "source": [
    "import sys\n",
    "sys.path[:]\n",
    "sys.path.insert(0, '/mnt/home/landerson/src/')\n",
    "sys.path.insert(0, '/mnt/home/landerson/.local/lib/python3.6/site-packages')\n",
    "import pynbody\n",
    "import gizmo_read\n",
    "import numpy as np\n",
    "import matplotlib as mpl\n",
    "import matplotlib.pyplot as plt\n",
    "%matplotlib inline\n",
    "import astropy.units as u\n",
    "from astropy.constants import c, m_p, M_sun\n",
    "import yt"
   ]
  },
  {
   "cell_type": "code",
   "execution_count": 4,
   "metadata": {},
   "outputs": [
    {
     "name": "stderr",
     "output_type": "stream",
     "text": [
      "/cm/shared/sw/pkg-old/devel/python3/3.6.2/lib/python3.6/site-packages/yt/fields/local_fields.py:46: UserWarning: Because 'sampling_type' not specified, yt will assume a cell 'sampling_type'\n",
      "  warnings.warn(\"Because 'sampling_type' not specified, yt will \"\n"
     ]
    }
   ],
   "source": [
    "from yt.units import dimensions\n",
    "\n",
    "def _rotCoordinates(field, data):\n",
    "    return get_coordinates_rotated(data, rotation_vectors=data.principal_axes_vectors)\n",
    "\n",
    "def _rotVelocities(field, data):\n",
    "    return get_coordinates_rotated(data, rotation_vectors=data.principal_axes_vectors)\n",
    "\n",
    "yt.add_field((\"all\",\"rotCoordinates\"), function=_rotCoordinates, units=\"auto\",\n",
    "             dimensions=dimensions.length)\n",
    "yt.add_field((\"all\",\"rotVelocities\"), function=_rotVelocities, units=\"auto\",\n",
    "             dimensions=dimensions.v)\n",
    "\n",
    "\n",
    "\n",
    "def get_coordinates_rotated(coordinate_vectors, rotation_vectors=None, rotation_angles=None):\n",
    "    '''\n",
    "    Get 3-D coordinate[s] (distance or velocity vector[s]) that are rotated by input rotation\n",
    "    vectors or input rotation angles.\n",
    "    If rotation_vectors, need to input vectors that are orthogonal.\n",
    "    If rotation_angles, rotate by rotation_angles[0] about x-axis, then by rotation_angles[1] about\n",
    "    y-axis, then by rotation_angles[2] about z-axis.\n",
    "\n",
    "    Parameters\n",
    "    ----------\n",
    "    coordinate_vectors : array : coordinate[s] (distance[s] or velocity[s]) wrt a center of rotation\n",
    "        (object number x dimension number)\n",
    "    rotation_vectors : array : *orthogonal* rotation vectors (such as max, med, min eigen-vectors)\n",
    "    rotation_angles : array : rotation angles about x-axis, y-axis, z-axis [radians]\n",
    "\n",
    "    Returns\n",
    "    -------\n",
    "    coordinate[s] (distance[s] or velocity[s]) in rotated basis :\n",
    "        array (object number x dimension number)\n",
    "    '''\n",
    "    if rotation_vectors is not None:\n",
    "        # sanity check - ensure input rotation vectors are orthogonal\n",
    "        tolerance = 1e-6\n",
    "        if (np.abs(np.dot(rotation_vectors[0], rotation_vectors[1])) > tolerance or\n",
    "                np.abs(np.dot(rotation_vectors[0], rotation_vectors[2])) > tolerance or\n",
    "                np.abs(np.dot(rotation_vectors[1], rotation_vectors[2])) > tolerance):\n",
    "            raise ValueError('input rotation_vectors are not orthogonal')\n",
    "\n",
    "    elif rotation_angles is not None:\n",
    "        m11 = np.cos(rotation_angles[1]) * np.cos(rotation_angles[2])\n",
    "        m12 = (np.cos(rotation_angles[0]) * np.sin(rotation_angles[2]) +\n",
    "               np.sin(rotation_angles[0]) * np.sin(rotation_angles[1]) * np.cos(rotation_angles[2]))\n",
    "        m13 = (np.sin(rotation_angles[0]) * np.sin(rotation_angles[2]) -\n",
    "               np.cos(rotation_angles[0]) * np.sin(rotation_angles[1]) * np.cos(rotation_angles[2]))\n",
    "        m21 = -np.cos(rotation_angles[1]) * np.sin(rotation_angles[2])\n",
    "        m22 = (np.cos(rotation_angles[0]) * np.cos(rotation_angles[2]) -\n",
    "               np.sin(rotation_angles[0]) * np.sin(rotation_angles[1]) * np.sin(rotation_angles[2]))\n",
    "        m23 = (np.sin(rotation_angles[0]) * np.cos(rotation_angles[2]) +\n",
    "               np.cos(rotation_angles[0]) * np.sin(rotation_angles[1]) * np.sin(rotation_angles[2]))\n",
    "        m31 = np.sin(rotation_angles[1])\n",
    "        m32 = -np.sin(rotation_angles[0]) * np.cos(rotation_angles[1])\n",
    "        m33 = np.cos(rotation_angles[0]) * np.cos(rotation_angles[1])\n",
    "\n",
    "        rotation_vectors = np.array([\n",
    "            [m11, m12, m13],\n",
    "            [m21, m22, m23],\n",
    "            [m31, m32, m33]],\n",
    "            dtype=coordinate_vectors.dtype\n",
    "        )\n",
    "\n",
    "    else:\n",
    "        raise ValueError('need to input either rotation angles or rotation vectors')\n",
    "\n",
    "    # have to do this way\n",
    "    coordinate_vectors_rotated = np.asarray(\n",
    "        np.dot(coordinate_vectors, rotation_vectors.transpose()), dtype=coordinate_vectors.dtype)\n",
    "\n",
    "    return coordinate_vectors_rotated\n"
   ]
  },
  {
   "cell_type": "code",
   "execution_count": 5,
   "metadata": {},
   "outputs": [],
   "source": [
    "simname = 'm12f'"
   ]
  },
  {
   "cell_type": "code",
   "execution_count": 6,
   "metadata": {},
   "outputs": [],
   "source": [
    "directory = '/mnt/ceph/users/firesims/ananke/Latte/' + simname + '/'"
   ]
  },
  {
   "cell_type": "code",
   "execution_count": 7,
   "metadata": {},
   "outputs": [
    {
     "name": "stderr",
     "output_type": "stream",
     "text": [
      "yt : [INFO     ] 2019-03-22 11:48:53,330 Calculating time from 1.000e+00 to be 4.355e+17 seconds\n",
      "yt : [INFO     ] 2019-03-22 11:48:53,332 Assuming length units are in kpc/h (comoving)\n",
      "yt : [INFO     ] 2019-03-22 11:48:53,353 Parameters: current_time              = 4.3545571088051386e+17 s\n",
      "yt : [INFO     ] 2019-03-22 11:48:53,355 Parameters: domain_dimensions         = [2 2 2]\n",
      "yt : [INFO     ] 2019-03-22 11:48:53,356 Parameters: domain_left_edge          = [0. 0. 0.]\n",
      "yt : [INFO     ] 2019-03-22 11:48:53,357 Parameters: domain_right_edge         = [60000. 60000. 60000.]\n",
      "yt : [INFO     ] 2019-03-22 11:48:53,359 Parameters: cosmological_simulation   = 1\n",
      "yt : [INFO     ] 2019-03-22 11:48:53,360 Parameters: current_redshift          = 0.0\n",
      "yt : [INFO     ] 2019-03-22 11:48:53,361 Parameters: omega_lambda              = 0.728\n",
      "yt : [INFO     ] 2019-03-22 11:48:53,362 Parameters: omega_matter              = 0.272\n",
      "yt : [INFO     ] 2019-03-22 11:48:53,364 Parameters: hubble_constant           = 0.702\n"
     ]
    }
   ],
   "source": [
    "filename = '/mnt/ceph/users/firesims/ananke/Latte/' + simname + '/snapdir_600/snapshot_600.0.hdf5'\n",
    "ds = yt.load(filename)\n",
    "ad = ds.all_data()"
   ]
  },
  {
   "cell_type": "code",
   "execution_count": 8,
   "metadata": {},
   "outputs": [
    {
     "name": "stdout",
     "output_type": "stream",
     "text": [
      "reading header from:\n",
      "  /mnt/ceph/users/firesims/ananke/Latte/m12f/snapdir_600/snapshot_600.0.hdf5\n",
      "\n",
      "snapshot contains the following number of particles:\n",
      "  dark   (id = 1): 96239056 particles\n",
      "  dark.2 (id = 2): 7591203 particles\n",
      "  gas    (id = 0): 80307825 particles\n",
      "  star   (id = 4): 16066489 particles\n",
      "\n",
      "reading dark properties:\n",
      "  ['id', 'mass', 'position', 'potential', 'velocity']\n",
      "reading dark.2 properties:\n",
      "  ['id', 'mass', 'position', 'potential', 'velocity']\n",
      "reading gas properties:\n",
      "  ['density', 'electron.fraction', 'hydrogen.neutral.fraction', 'id', 'mass', 'massfraction', 'position', 'potential', 'temperature', 'velocity']\n",
      "reading star properties:\n",
      "  ['form.scalefactor', 'id', 'mass', 'massfraction', 'position', 'potential', 'velocity']\n",
      "\n",
      "reading particles from:\n",
      "  snapshot_600.0.hdf5\n",
      "  snapshot_600.1.hdf5\n",
      "  snapshot_600.2.hdf5\n",
      "  snapshot_600.3.hdf5\n",
      "\n",
      "reading galaxy center coordinates and principal axes from:  mnt/ceph/users/firesims/ananke/Latte/m12f/m12f_res7100_center.txt\n",
      "  center position [kpc] = 38711.761, 47665.072, 46817.265\n",
      "  center velocity [km/s] = -154.5, 160.9, 106.8\n",
      "\n",
      "adjusting particle coordinates to be relative to galaxy center\n",
      "  and aligned with the principal axes\n",
      "\n"
     ]
    }
   ],
   "source": [
    "part = gizmo_read.read.Read.read_snapshot(species='all', \n",
    "                                          properties= 'all', \n",
    "                                          directory=directory)"
   ]
  },
  {
   "cell_type": "code",
   "execution_count": 9,
   "metadata": {},
   "outputs": [
    {
     "name": "stdout",
     "output_type": "stream",
     "text": [
      "reading LSR coordinates from:\n",
      "  mnt/ceph/users/firesims/ananke/Latte/m12f/m12f_res7100_LSR2.txt\n",
      "  LSR_2 position [kpc] = 7.101, -4.100, 0.000\n",
      "  LSR_2 velocity [km/s] = -118.1, -187.8, -3.9\n",
      "\n"
     ]
    }
   ],
   "source": [
    "gizmo_read.read.Read.read_lsr_coordinates(part, directory=directory, lsr_index=2)\n",
    "for key in part.keys():\n",
    "    part[key]['position'] = part[key]['position'] - part.lsr_position\n",
    "    part[key]['velocity'] = part[key]['velocity'] - part.lsr_velocity\n"
   ]
  },
  {
   "cell_type": "code",
   "execution_count": 10,
   "metadata": {},
   "outputs": [
    {
     "name": "stdout",
     "output_type": "stream",
     "text": [
      "[38711.76113 47665.07165 46817.26477] [-154.47322  160.85855  106.8271 ] [[-4.64385979e-01  2.91482979e-01  8.36291418e-01]\n",
      " [ 7.08714933e-01 -4.43966940e-01  5.48285053e-01]\n",
      " [ 5.31101502e-01  8.47308108e-01 -4.06318212e-04]]\n"
     ]
    }
   ],
   "source": [
    "print(part.center_position, part.center_velocity, part.principal_axes_vectors)"
   ]
  },
  {
   "cell_type": "code",
   "execution_count": 29,
   "metadata": {},
   "outputs": [
    {
     "data": {
      "text/plain": [
       "\u001b[0;31mSignature:\u001b[0m \u001b[0mad\u001b[0m\u001b[0;34m.\u001b[0m\u001b[0mset_field_parameter\u001b[0m\u001b[0;34m(\u001b[0m\u001b[0mname\u001b[0m\u001b[0;34m,\u001b[0m \u001b[0mval\u001b[0m\u001b[0;34m)\u001b[0m\u001b[0;34m\u001b[0m\u001b[0m\n",
       "\u001b[0;31mDocstring:\u001b[0m\n",
       "Here we set up dictionaries that get passed up and down and ultimately\n",
       "to derived fields.\n",
       "\u001b[0;31mFile:\u001b[0m      /cm/shared/sw/pkg-old/devel/python3/3.6.2/lib/python3.6/site-packages/yt/data_objects/data_containers.py\n",
       "\u001b[0;31mType:\u001b[0m      method\n"
      ]
     },
     "metadata": {},
     "output_type": "display_data"
    }
   ],
   "source": [
    "ad.set_field_parameter?"
   ]
  },
  {
   "cell_type": "code",
   "execution_count": 11,
   "metadata": {},
   "outputs": [],
   "source": [
    "ad.set_field_parameter('center', part.center_position)\n",
    "ad.set_field_parameter('bulk velocity', part.center_velocity)"
   ]
  },
  {
   "cell_type": "code",
   "execution_count": 12,
   "metadata": {},
   "outputs": [
    {
     "name": "stderr",
     "output_type": "stream",
     "text": [
      "yt : [INFO     ] 2019-03-22 11:57:58,465 Allocating for 2.002e+08 particles (index particle type 'all')\n",
      "yt : [INFO     ] 2019-03-22 11:58:47,275 Identified 1.257e+07 octs\n"
     ]
    },
    {
     "ename": "AttributeError",
     "evalue": "'FieldDetector' object has no attribute 'principal_axes_vectors'",
     "output_type": "error",
     "traceback": [
      "\u001b[0;31m---------------------------------------------------------------------------\u001b[0m",
      "\u001b[0;31mAttributeError\u001b[0m                            Traceback (most recent call last)",
      "\u001b[0;32m<ipython-input-12-ab89c9b7cf40>\u001b[0m in \u001b[0;36m<module>\u001b[0;34m()\u001b[0m\n\u001b[0;32m----> 1\u001b[0;31m \u001b[0mad\u001b[0m\u001b[0;34m[\u001b[0m\u001b[0;34m(\u001b[0m\u001b[0;34m'all'\u001b[0m\u001b[0;34m,\u001b[0m \u001b[0;34m'rotCoordinates'\u001b[0m\u001b[0;34m)\u001b[0m\u001b[0;34m]\u001b[0m\u001b[0;34m\u001b[0m\u001b[0m\n\u001b[0m",
      "\u001b[0;32m/cm/shared/sw/pkg-old/devel/python3/3.6.2/lib/python3.6/site-packages/yt/data_objects/data_containers.py\u001b[0m in \u001b[0;36m__getitem__\u001b[0;34m(self, key)\u001b[0m\n\u001b[1;32m    272\u001b[0m         \u001b[0mReturns\u001b[0m \u001b[0ma\u001b[0m \u001b[0msingle\u001b[0m \u001b[0mfield\u001b[0m\u001b[0;34m.\u001b[0m  \u001b[0mWill\u001b[0m \u001b[0madd\u001b[0m \u001b[0;32mif\u001b[0m \u001b[0mnecessary\u001b[0m\u001b[0;34m.\u001b[0m\u001b[0;34m\u001b[0m\u001b[0m\n\u001b[1;32m    273\u001b[0m         \"\"\"\n\u001b[0;32m--> 274\u001b[0;31m         \u001b[0mf\u001b[0m \u001b[0;34m=\u001b[0m \u001b[0mself\u001b[0m\u001b[0;34m.\u001b[0m\u001b[0m_determine_fields\u001b[0m\u001b[0;34m(\u001b[0m\u001b[0;34m[\u001b[0m\u001b[0mkey\u001b[0m\u001b[0;34m]\u001b[0m\u001b[0;34m)\u001b[0m\u001b[0;34m[\u001b[0m\u001b[0;36m0\u001b[0m\u001b[0;34m]\u001b[0m\u001b[0;34m\u001b[0m\u001b[0m\n\u001b[0m\u001b[1;32m    275\u001b[0m         \u001b[0;32mif\u001b[0m \u001b[0mf\u001b[0m \u001b[0;32mnot\u001b[0m \u001b[0;32min\u001b[0m \u001b[0mself\u001b[0m\u001b[0;34m.\u001b[0m\u001b[0mfield_data\u001b[0m \u001b[0;32mand\u001b[0m \u001b[0mkey\u001b[0m \u001b[0;32mnot\u001b[0m \u001b[0;32min\u001b[0m \u001b[0mself\u001b[0m\u001b[0;34m.\u001b[0m\u001b[0mfield_data\u001b[0m\u001b[0;34m:\u001b[0m\u001b[0;34m\u001b[0m\u001b[0m\n\u001b[1;32m    276\u001b[0m             \u001b[0;32mif\u001b[0m \u001b[0mf\u001b[0m \u001b[0;32min\u001b[0m \u001b[0mself\u001b[0m\u001b[0;34m.\u001b[0m\u001b[0m_container_fields\u001b[0m\u001b[0;34m:\u001b[0m\u001b[0;34m\u001b[0m\u001b[0m\n",
      "\u001b[0;32m/cm/shared/sw/pkg-old/devel/python3/3.6.2/lib/python3.6/site-packages/yt/data_objects/data_containers.py\u001b[0m in \u001b[0;36m_determine_fields\u001b[0;34m(self, fields)\u001b[0m\n\u001b[1;32m   1119\u001b[0m                     \u001b[0;32mraise\u001b[0m \u001b[0mYTFieldNotParseable\u001b[0m\u001b[0;34m(\u001b[0m\u001b[0mfield\u001b[0m\u001b[0;34m)\u001b[0m\u001b[0;34m\u001b[0m\u001b[0m\n\u001b[1;32m   1120\u001b[0m                 \u001b[0mftype\u001b[0m\u001b[0;34m,\u001b[0m \u001b[0mfname\u001b[0m \u001b[0;34m=\u001b[0m \u001b[0mfield\u001b[0m\u001b[0;34m\u001b[0m\u001b[0m\n\u001b[0;32m-> 1121\u001b[0;31m                 \u001b[0mfinfo\u001b[0m \u001b[0;34m=\u001b[0m \u001b[0mself\u001b[0m\u001b[0;34m.\u001b[0m\u001b[0mds\u001b[0m\u001b[0;34m.\u001b[0m\u001b[0m_get_field_info\u001b[0m\u001b[0;34m(\u001b[0m\u001b[0mftype\u001b[0m\u001b[0;34m,\u001b[0m \u001b[0mfname\u001b[0m\u001b[0;34m)\u001b[0m\u001b[0;34m\u001b[0m\u001b[0m\n\u001b[0m\u001b[1;32m   1122\u001b[0m             \u001b[0;32melif\u001b[0m \u001b[0misinstance\u001b[0m\u001b[0;34m(\u001b[0m\u001b[0mfield\u001b[0m\u001b[0;34m,\u001b[0m \u001b[0mDerivedField\u001b[0m\u001b[0;34m)\u001b[0m\u001b[0;34m:\u001b[0m\u001b[0;34m\u001b[0m\u001b[0m\n\u001b[1;32m   1123\u001b[0m                 \u001b[0mftype\u001b[0m\u001b[0;34m,\u001b[0m \u001b[0mfname\u001b[0m \u001b[0;34m=\u001b[0m \u001b[0mfield\u001b[0m\u001b[0;34m.\u001b[0m\u001b[0mname\u001b[0m\u001b[0;34m\u001b[0m\u001b[0m\n",
      "\u001b[0;32m/cm/shared/sw/pkg-old/devel/python3/3.6.2/lib/python3.6/site-packages/yt/data_objects/static_output.py\u001b[0m in \u001b[0;36m_get_field_info\u001b[0;34m(self, ftype, fname)\u001b[0m\n\u001b[1;32m    709\u001b[0m     \u001b[0m_last_finfo\u001b[0m \u001b[0;34m=\u001b[0m \u001b[0;32mNone\u001b[0m\u001b[0;34m\u001b[0m\u001b[0m\n\u001b[1;32m    710\u001b[0m     \u001b[0;32mdef\u001b[0m \u001b[0m_get_field_info\u001b[0m\u001b[0;34m(\u001b[0m\u001b[0mself\u001b[0m\u001b[0;34m,\u001b[0m \u001b[0mftype\u001b[0m\u001b[0;34m,\u001b[0m \u001b[0mfname\u001b[0m \u001b[0;34m=\u001b[0m \u001b[0;32mNone\u001b[0m\u001b[0;34m)\u001b[0m\u001b[0;34m:\u001b[0m\u001b[0;34m\u001b[0m\u001b[0m\n\u001b[0;32m--> 711\u001b[0;31m         \u001b[0mself\u001b[0m\u001b[0;34m.\u001b[0m\u001b[0mindex\u001b[0m\u001b[0;34m\u001b[0m\u001b[0m\n\u001b[0m\u001b[1;32m    712\u001b[0m         \u001b[0;32mif\u001b[0m \u001b[0mfname\u001b[0m \u001b[0;32mis\u001b[0m \u001b[0;32mNone\u001b[0m\u001b[0;34m:\u001b[0m\u001b[0;34m\u001b[0m\u001b[0m\n\u001b[1;32m    713\u001b[0m             \u001b[0;32mif\u001b[0m \u001b[0misinstance\u001b[0m\u001b[0;34m(\u001b[0m\u001b[0mftype\u001b[0m\u001b[0;34m,\u001b[0m \u001b[0mDerivedField\u001b[0m\u001b[0;34m)\u001b[0m\u001b[0;34m:\u001b[0m\u001b[0;34m\u001b[0m\u001b[0m\n",
      "\u001b[0;32m/cm/shared/sw/pkg-old/devel/python3/3.6.2/lib/python3.6/site-packages/yt/data_objects/static_output.py\u001b[0m in \u001b[0;36mindex\u001b[0;34m(self)\u001b[0m\n\u001b[1;32m    507\u001b[0m             \u001b[0moldsettings\u001b[0m \u001b[0;34m=\u001b[0m \u001b[0mnp\u001b[0m\u001b[0;34m.\u001b[0m\u001b[0mgeterr\u001b[0m\u001b[0;34m(\u001b[0m\u001b[0;34m)\u001b[0m\u001b[0;34m\u001b[0m\u001b[0m\n\u001b[1;32m    508\u001b[0m             \u001b[0mnp\u001b[0m\u001b[0;34m.\u001b[0m\u001b[0mseterr\u001b[0m\u001b[0;34m(\u001b[0m\u001b[0mall\u001b[0m\u001b[0;34m=\u001b[0m\u001b[0;34m'ignore'\u001b[0m\u001b[0;34m)\u001b[0m\u001b[0;34m\u001b[0m\u001b[0m\n\u001b[0;32m--> 509\u001b[0;31m             \u001b[0mself\u001b[0m\u001b[0;34m.\u001b[0m\u001b[0mcreate_field_info\u001b[0m\u001b[0;34m(\u001b[0m\u001b[0;34m)\u001b[0m\u001b[0;34m\u001b[0m\u001b[0m\n\u001b[0m\u001b[1;32m    510\u001b[0m             \u001b[0mnp\u001b[0m\u001b[0;34m.\u001b[0m\u001b[0mseterr\u001b[0m\u001b[0;34m(\u001b[0m\u001b[0;34m**\u001b[0m\u001b[0moldsettings\u001b[0m\u001b[0;34m)\u001b[0m\u001b[0;34m\u001b[0m\u001b[0m\n\u001b[1;32m    511\u001b[0m         \u001b[0;32mreturn\u001b[0m \u001b[0mself\u001b[0m\u001b[0;34m.\u001b[0m\u001b[0m_instantiated_index\u001b[0m\u001b[0;34m\u001b[0m\u001b[0m\n",
      "\u001b[0;32m/cm/shared/sw/pkg-old/devel/python3/3.6.2/lib/python3.6/site-packages/yt/data_objects/static_output.py\u001b[0m in \u001b[0;36mcreate_field_info\u001b[0;34m(self)\u001b[0m\n\u001b[1;32m    564\u001b[0m         \u001b[0mself\u001b[0m\u001b[0;34m.\u001b[0m\u001b[0mfield_info\u001b[0m\u001b[0;34m.\u001b[0m\u001b[0msetup_extra_union_fields\u001b[0m\u001b[0;34m(\u001b[0m\u001b[0;34m)\u001b[0m\u001b[0;34m\u001b[0m\u001b[0m\n\u001b[1;32m    565\u001b[0m         \u001b[0mmylog\u001b[0m\u001b[0;34m.\u001b[0m\u001b[0mdebug\u001b[0m\u001b[0;34m(\u001b[0m\u001b[0;34m\"Loading field plugins.\"\u001b[0m\u001b[0;34m)\u001b[0m\u001b[0;34m\u001b[0m\u001b[0m\n\u001b[0;32m--> 566\u001b[0;31m         \u001b[0mself\u001b[0m\u001b[0;34m.\u001b[0m\u001b[0mfield_info\u001b[0m\u001b[0;34m.\u001b[0m\u001b[0mload_all_plugins\u001b[0m\u001b[0;34m(\u001b[0m\u001b[0;34m)\u001b[0m\u001b[0;34m\u001b[0m\u001b[0m\n\u001b[0m\u001b[1;32m    567\u001b[0m         \u001b[0mdeps\u001b[0m\u001b[0;34m,\u001b[0m \u001b[0munloaded\u001b[0m \u001b[0;34m=\u001b[0m \u001b[0mself\u001b[0m\u001b[0;34m.\u001b[0m\u001b[0mfield_info\u001b[0m\u001b[0;34m.\u001b[0m\u001b[0mcheck_derived_fields\u001b[0m\u001b[0;34m(\u001b[0m\u001b[0;34m)\u001b[0m\u001b[0;34m\u001b[0m\u001b[0m\n\u001b[1;32m    568\u001b[0m         \u001b[0mself\u001b[0m\u001b[0;34m.\u001b[0m\u001b[0mfield_dependencies\u001b[0m\u001b[0;34m.\u001b[0m\u001b[0mupdate\u001b[0m\u001b[0;34m(\u001b[0m\u001b[0mdeps\u001b[0m\u001b[0;34m)\u001b[0m\u001b[0;34m\u001b[0m\u001b[0m\n",
      "\u001b[0;32m/cm/shared/sw/pkg-old/devel/python3/3.6.2/lib/python3.6/site-packages/yt/fields/field_info_container.py\u001b[0m in \u001b[0;36mload_all_plugins\u001b[0;34m(self, ftype)\u001b[0m\n\u001b[1;32m    278\u001b[0m             only_on_root(mylog.debug, \"Loaded %s (%s new fields)\",\n\u001b[1;32m    279\u001b[0m                          n, len(loaded))\n\u001b[0;32m--> 280\u001b[0;31m         \u001b[0mself\u001b[0m\u001b[0;34m.\u001b[0m\u001b[0mfind_dependencies\u001b[0m\u001b[0;34m(\u001b[0m\u001b[0mloaded\u001b[0m\u001b[0;34m)\u001b[0m\u001b[0;34m\u001b[0m\u001b[0m\n\u001b[0m\u001b[1;32m    281\u001b[0m \u001b[0;34m\u001b[0m\u001b[0m\n\u001b[1;32m    282\u001b[0m     \u001b[0;32mdef\u001b[0m \u001b[0mload_plugin\u001b[0m\u001b[0;34m(\u001b[0m\u001b[0mself\u001b[0m\u001b[0;34m,\u001b[0m \u001b[0mplugin_name\u001b[0m\u001b[0;34m,\u001b[0m \u001b[0mftype\u001b[0m \u001b[0;34m=\u001b[0m \u001b[0;34m\"gas\"\u001b[0m\u001b[0;34m,\u001b[0m \u001b[0mskip_check\u001b[0m \u001b[0;34m=\u001b[0m \u001b[0;32mFalse\u001b[0m\u001b[0;34m)\u001b[0m\u001b[0;34m:\u001b[0m\u001b[0;34m\u001b[0m\u001b[0m\n",
      "\u001b[0;32m/cm/shared/sw/pkg-old/devel/python3/3.6.2/lib/python3.6/site-packages/yt/fields/field_info_container.py\u001b[0m in \u001b[0;36mfind_dependencies\u001b[0;34m(self, loaded)\u001b[0m\n\u001b[1;32m    291\u001b[0m \u001b[0;34m\u001b[0m\u001b[0m\n\u001b[1;32m    292\u001b[0m     \u001b[0;32mdef\u001b[0m \u001b[0mfind_dependencies\u001b[0m\u001b[0;34m(\u001b[0m\u001b[0mself\u001b[0m\u001b[0;34m,\u001b[0m \u001b[0mloaded\u001b[0m\u001b[0;34m)\u001b[0m\u001b[0;34m:\u001b[0m\u001b[0;34m\u001b[0m\u001b[0m\n\u001b[0;32m--> 293\u001b[0;31m         \u001b[0mdeps\u001b[0m\u001b[0;34m,\u001b[0m \u001b[0munavailable\u001b[0m \u001b[0;34m=\u001b[0m \u001b[0mself\u001b[0m\u001b[0;34m.\u001b[0m\u001b[0mcheck_derived_fields\u001b[0m\u001b[0;34m(\u001b[0m\u001b[0mloaded\u001b[0m\u001b[0;34m)\u001b[0m\u001b[0;34m\u001b[0m\u001b[0m\n\u001b[0m\u001b[1;32m    294\u001b[0m         \u001b[0mself\u001b[0m\u001b[0;34m.\u001b[0m\u001b[0mds\u001b[0m\u001b[0;34m.\u001b[0m\u001b[0mfield_dependencies\u001b[0m\u001b[0;34m.\u001b[0m\u001b[0mupdate\u001b[0m\u001b[0;34m(\u001b[0m\u001b[0mdeps\u001b[0m\u001b[0;34m)\u001b[0m\u001b[0;34m\u001b[0m\u001b[0m\n\u001b[1;32m    295\u001b[0m         \u001b[0;31m# Note we may have duplicated\u001b[0m\u001b[0;34m\u001b[0m\u001b[0;34m\u001b[0m\u001b[0m\n",
      "\u001b[0;32m/cm/shared/sw/pkg-old/devel/python3/3.6.2/lib/python3.6/site-packages/yt/fields/field_info_container.py\u001b[0m in \u001b[0;36mcheck_derived_fields\u001b[0;34m(self, fields_to_check)\u001b[0m\n\u001b[1;32m    364\u001b[0m             \u001b[0mfi\u001b[0m \u001b[0;34m=\u001b[0m \u001b[0mself\u001b[0m\u001b[0;34m[\u001b[0m\u001b[0mfield\u001b[0m\u001b[0;34m]\u001b[0m\u001b[0;34m\u001b[0m\u001b[0m\n\u001b[1;32m    365\u001b[0m             \u001b[0;32mtry\u001b[0m\u001b[0;34m:\u001b[0m\u001b[0;34m\u001b[0m\u001b[0m\n\u001b[0;32m--> 366\u001b[0;31m                 \u001b[0mfd\u001b[0m \u001b[0;34m=\u001b[0m \u001b[0mfi\u001b[0m\u001b[0;34m.\u001b[0m\u001b[0mget_dependencies\u001b[0m\u001b[0;34m(\u001b[0m\u001b[0mds\u001b[0m \u001b[0;34m=\u001b[0m \u001b[0mself\u001b[0m\u001b[0;34m.\u001b[0m\u001b[0mds\u001b[0m\u001b[0;34m)\u001b[0m\u001b[0;34m\u001b[0m\u001b[0m\n\u001b[0m\u001b[1;32m    367\u001b[0m             \u001b[0;32mexcept\u001b[0m \u001b[0mException\u001b[0m \u001b[0;32mas\u001b[0m \u001b[0me\u001b[0m\u001b[0;34m:\u001b[0m\u001b[0;34m\u001b[0m\u001b[0m\n\u001b[1;32m    368\u001b[0m                 \u001b[0;32mif\u001b[0m \u001b[0mfield\u001b[0m \u001b[0;32min\u001b[0m \u001b[0mself\u001b[0m\u001b[0;34m.\u001b[0m\u001b[0m_show_field_errors\u001b[0m\u001b[0;34m:\u001b[0m\u001b[0;34m\u001b[0m\u001b[0m\n",
      "\u001b[0;32m/cm/shared/sw/pkg-old/devel/python3/3.6.2/lib/python3.6/site-packages/yt/fields/derived_field.py\u001b[0m in \u001b[0;36mget_dependencies\u001b[0;34m(self, *args, **kwargs)\u001b[0m\n\u001b[1;32m    209\u001b[0m             \u001b[0me\u001b[0m\u001b[0;34m.\u001b[0m\u001b[0mrequested\u001b[0m\u001b[0;34m.\u001b[0m\u001b[0mappend\u001b[0m\u001b[0;34m(\u001b[0m\u001b[0mself\u001b[0m\u001b[0;34m.\u001b[0m\u001b[0mname\u001b[0m\u001b[0;34m)\u001b[0m\u001b[0;34m\u001b[0m\u001b[0m\n\u001b[1;32m    210\u001b[0m         \u001b[0;32melse\u001b[0m\u001b[0;34m:\u001b[0m\u001b[0;34m\u001b[0m\u001b[0m\n\u001b[0;32m--> 211\u001b[0;31m             \u001b[0me\u001b[0m\u001b[0;34m[\u001b[0m\u001b[0mself\u001b[0m\u001b[0;34m.\u001b[0m\u001b[0mname\u001b[0m\u001b[0;34m]\u001b[0m\u001b[0;34m\u001b[0m\u001b[0m\n\u001b[0m\u001b[1;32m    212\u001b[0m         \u001b[0;32mreturn\u001b[0m \u001b[0me\u001b[0m\u001b[0;34m\u001b[0m\u001b[0m\n\u001b[1;32m    213\u001b[0m \u001b[0;34m\u001b[0m\u001b[0m\n",
      "\u001b[0;32m/cm/shared/sw/pkg-old/devel/python3/3.6.2/lib/python3.6/site-packages/yt/fields/field_detector.py\u001b[0m in \u001b[0;36m__missing__\u001b[0;34m(self, item)\u001b[0m\n\u001b[1;32m     97\u001b[0m         \u001b[0;32mif\u001b[0m \u001b[0mfinfo\u001b[0m \u001b[0;32mis\u001b[0m \u001b[0;32mnot\u001b[0m \u001b[0;32mNone\u001b[0m \u001b[0;32mand\u001b[0m \u001b[0mfinfo\u001b[0m\u001b[0;34m.\u001b[0m\u001b[0m_function\u001b[0m\u001b[0;34m.\u001b[0m\u001b[0m__name__\u001b[0m \u001b[0;34m!=\u001b[0m \u001b[0;34m'NullFunc'\u001b[0m\u001b[0;34m:\u001b[0m\u001b[0;34m\u001b[0m\u001b[0m\n\u001b[1;32m     98\u001b[0m             \u001b[0;32mtry\u001b[0m\u001b[0;34m:\u001b[0m\u001b[0;34m\u001b[0m\u001b[0m\n\u001b[0;32m---> 99\u001b[0;31m                 \u001b[0mvv\u001b[0m \u001b[0;34m=\u001b[0m \u001b[0mfinfo\u001b[0m\u001b[0;34m(\u001b[0m\u001b[0mself\u001b[0m\u001b[0;34m)\u001b[0m\u001b[0;34m\u001b[0m\u001b[0m\n\u001b[0m\u001b[1;32m    100\u001b[0m             \u001b[0;32mexcept\u001b[0m \u001b[0mNeedsGridType\u001b[0m \u001b[0;32mas\u001b[0m \u001b[0mexc\u001b[0m\u001b[0;34m:\u001b[0m\u001b[0;34m\u001b[0m\u001b[0m\n\u001b[1;32m    101\u001b[0m                 \u001b[0mngz\u001b[0m \u001b[0;34m=\u001b[0m \u001b[0mexc\u001b[0m\u001b[0;34m.\u001b[0m\u001b[0mghost_zones\u001b[0m\u001b[0;34m\u001b[0m\u001b[0m\n",
      "\u001b[0;32m/cm/shared/sw/pkg-old/devel/python3/3.6.2/lib/python3.6/site-packages/yt/fields/derived_field.py\u001b[0m in \u001b[0;36m__call__\u001b[0;34m(self, data)\u001b[0m\n\u001b[1;32m    235\u001b[0m                 \"for %s\" % (self.name,))\n\u001b[1;32m    236\u001b[0m         \u001b[0;32mwith\u001b[0m \u001b[0mself\u001b[0m\u001b[0;34m.\u001b[0m\u001b[0munit_registry\u001b[0m\u001b[0;34m(\u001b[0m\u001b[0mdata\u001b[0m\u001b[0;34m)\u001b[0m\u001b[0;34m:\u001b[0m\u001b[0;34m\u001b[0m\u001b[0m\n\u001b[0;32m--> 237\u001b[0;31m             \u001b[0mdd\u001b[0m \u001b[0;34m=\u001b[0m \u001b[0mself\u001b[0m\u001b[0;34m.\u001b[0m\u001b[0m_function\u001b[0m\u001b[0;34m(\u001b[0m\u001b[0mself\u001b[0m\u001b[0;34m,\u001b[0m \u001b[0mdata\u001b[0m\u001b[0;34m)\u001b[0m\u001b[0;34m\u001b[0m\u001b[0m\n\u001b[0m\u001b[1;32m    238\u001b[0m         \u001b[0;32mfor\u001b[0m \u001b[0mfield_name\u001b[0m \u001b[0;32min\u001b[0m \u001b[0mdata\u001b[0m\u001b[0;34m.\u001b[0m\u001b[0mkeys\u001b[0m\u001b[0;34m(\u001b[0m\u001b[0;34m)\u001b[0m\u001b[0;34m:\u001b[0m\u001b[0;34m\u001b[0m\u001b[0m\n\u001b[1;32m    239\u001b[0m             \u001b[0;32mif\u001b[0m \u001b[0mfield_name\u001b[0m \u001b[0;32mnot\u001b[0m \u001b[0;32min\u001b[0m \u001b[0moriginal_fields\u001b[0m\u001b[0;34m:\u001b[0m\u001b[0;34m\u001b[0m\u001b[0m\n",
      "\u001b[0;32m<ipython-input-4-275e3f03eedf>\u001b[0m in \u001b[0;36m_rotVelocities\u001b[0;34m(field, data)\u001b[0m\n\u001b[1;32m      5\u001b[0m \u001b[0;34m\u001b[0m\u001b[0m\n\u001b[1;32m      6\u001b[0m \u001b[0;32mdef\u001b[0m \u001b[0m_rotVelocities\u001b[0m\u001b[0;34m(\u001b[0m\u001b[0mfield\u001b[0m\u001b[0;34m,\u001b[0m \u001b[0mdata\u001b[0m\u001b[0;34m)\u001b[0m\u001b[0;34m:\u001b[0m\u001b[0;34m\u001b[0m\u001b[0m\n\u001b[0;32m----> 7\u001b[0;31m     \u001b[0;32mreturn\u001b[0m \u001b[0mget_coordinates_rotated\u001b[0m\u001b[0;34m(\u001b[0m\u001b[0mdata\u001b[0m\u001b[0;34m,\u001b[0m \u001b[0mrotation_vectors\u001b[0m\u001b[0;34m=\u001b[0m\u001b[0mdata\u001b[0m\u001b[0;34m.\u001b[0m\u001b[0mprincipal_axes_vectors\u001b[0m\u001b[0;34m)\u001b[0m\u001b[0;34m\u001b[0m\u001b[0m\n\u001b[0m\u001b[1;32m      8\u001b[0m \u001b[0;34m\u001b[0m\u001b[0m\n\u001b[1;32m      9\u001b[0m yt.add_field((\"all\",\"rotCoordinates\"), function=_rotCoordinates, units=\"auto\",\n",
      "\u001b[0;31mAttributeError\u001b[0m: 'FieldDetector' object has no attribute 'principal_axes_vectors'"
     ]
    }
   ],
   "source": [
    "ad[('all', 'rotCoordinates')]"
   ]
  },
  {
   "cell_type": "code",
   "execution_count": 28,
   "metadata": {},
   "outputs": [
    {
     "data": {
      "text/plain": [
       "dict_keys(['g', 's', 'K', 'radian', 'dyne', 'erg', 'esu', 'gauss', 'degC', 'statA', 'statV', 'statohm', 'm', 'J', 'W', 'Hz', 'N', 'C', 'A', 'T', 'Pa', 'V', 'ohm', 'ft', 'mile', 'degF', 'R', 'lbf', 'lbm', 'atm', 'h', 'dimensionless', 'min', 'hr', 'day', 'yr', 'c', 'Msun', 'msun', 'Rsun', 'rsun', 'R_sun', 'r_sun', 'Lsun', 'Tsun', 'Zsun', 'Mjup', 'Mearth', 'AU', 'au', 'ly', 'pc', 'degree', 'arcmin', 'arcsec', 'mas', 'hourangle', 'steradian', 'lat', 'lon', 'eV', 'amu', 'angstrom', 'Jy', 'counts', 'photons', 'me', 'mp', 'mol', 'Sv', 'rayleigh', 'solMass', 'solRad', 'solLum', 'dyn', 'sr', 'rad', 'deg', 'Fr', 'G', 'd', 'Angstrom', 'statC', 'm_pl', 'l_pl', 't_pl', 'T_pl', 'q_pl', 'E_pl', 'm_geom', 'l_geom', 't_geom', 'R_earth', 'r_earth', 'R_jup', 'r_jup', 'code_length', 'code_mass', 'code_density', 'code_time', 'code_magnetic', 'code_temperature', 'code_pressure', 'code_velocity', 'code_metallicity', 'a', 'mcm', 'pccm', 'AUcm', 'aucm', 'kpccm', 'cm', 'kmcm', 'unitary', 'keV'])"
      ]
     },
     "execution_count": 28,
     "metadata": {},
     "output_type": "execute_result"
    }
   ],
   "source": [
    "ds.unit_registry.keys()"
   ]
  },
  {
   "cell_type": "code",
   "execution_count": 22,
   "metadata": {},
   "outputs": [
    {
     "data": {
      "text/plain": [
       "YTArray([[27139.21645042, 33484.46890911, 32859.658069  ],\n",
       "         [27138.93735779, 33484.61865698, 32859.30146507],\n",
       "         [27138.98488175, 33484.87376245, 32859.75935517],\n",
       "         ...,\n",
       "         [26726.81694266, 31046.06349684, 33119.72474516],\n",
       "         [26727.62432397, 31045.72253857, 33113.68700899],\n",
       "         [26721.38784047, 31053.77053939, 33110.44325612]]) code_length"
      ]
     },
     "execution_count": 22,
     "metadata": {},
     "output_type": "execute_result"
    }
   ],
   "source": [
    "ad[('PartType0', 'Coordinates')]"
   ]
  },
  {
   "cell_type": "code",
   "execution_count": 23,
   "metadata": {},
   "outputs": [
    {
     "data": {
      "text/plain": [
       "array([[ 1.95772373e+01, -5.23410718e+01,  9.06008988e-01],\n",
       "       [ 1.93992186e+01, -5.29960587e+01,  8.75810943e-01],\n",
       "       [ 2.00191887e+01, -5.27517897e+01,  1.21941055e+00],\n",
       "       ...,\n",
       "       [-4.10265491e+02,  1.27655974e+03, -3.25438223e+03],\n",
       "       [-4.18133906e+02,  1.27287481e+03, -3.25417944e+03],\n",
       "       [-4.14530960e+02,  1.25895538e+03, -3.24918194e+03]])"
      ]
     },
     "execution_count": 23,
     "metadata": {},
     "output_type": "execute_result"
    }
   ],
   "source": [
    "part['gas']['position']"
   ]
  },
  {
   "cell_type": "code",
   "execution_count": 14,
   "metadata": {},
   "outputs": [
    {
     "data": {
      "text/plain": [
       "\u001b[0;31mSignature:\u001b[0m \u001b[0mgizmo_read\u001b[0m\u001b[0;34m.\u001b[0m\u001b[0mread\u001b[0m\u001b[0;34m.\u001b[0m\u001b[0mRead\u001b[0m\u001b[0;34m.\u001b[0m\u001b[0mread_galaxy_center_coordinates\u001b[0m\u001b[0;34m(\u001b[0m\u001b[0mpart\u001b[0m\u001b[0;34m,\u001b[0m \u001b[0mdirectory\u001b[0m\u001b[0;34m=\u001b[0m\u001b[0;34m'.'\u001b[0m\u001b[0;34m)\u001b[0m\u001b[0;34m\u001b[0m\u001b[0m\n",
       "\u001b[0;31mDocstring:\u001b[0m\n",
       "Read pre-computed galaxy center position and velocity,\n",
       "as well as principal axes rotation vectors.\n",
       "Generally, this should be a file named:  m12*_res7100_center.txt\n",
       "Append to particle catalog dictionary class.\n",
       "\n",
       "Parameters\n",
       "----------\n",
       "part : dictionary class : catalog of particles at snapshot\n",
       "directory : string : directory of file\n",
       "\u001b[0;31mFile:\u001b[0m      ~/src/gizmo_read/read.py\n",
       "\u001b[0;31mType:\u001b[0m      method\n"
      ]
     },
     "metadata": {},
     "output_type": "display_data"
    }
   ],
   "source": [
    "gizmo_read.read.Read.read_galaxy_center_coordinates?"
   ]
  },
  {
   "cell_type": "code",
   "execution_count": 12,
   "metadata": {},
   "outputs": [
    {
     "data": {
      "text/plain": [
       "\u001b[0;31mSignature:\u001b[0m \u001b[0mds\u001b[0m\u001b[0;34m.\u001b[0m\u001b[0madd_field\u001b[0m\u001b[0;34m(\u001b[0m\u001b[0mname\u001b[0m\u001b[0;34m,\u001b[0m \u001b[0mfunction\u001b[0m\u001b[0;34m=\u001b[0m\u001b[0;32mNone\u001b[0m\u001b[0;34m,\u001b[0m \u001b[0msampling_type\u001b[0m\u001b[0;34m=\u001b[0m\u001b[0;32mNone\u001b[0m\u001b[0;34m,\u001b[0m \u001b[0;34m**\u001b[0m\u001b[0mkwargs\u001b[0m\u001b[0;34m)\u001b[0m\u001b[0;34m\u001b[0m\u001b[0m\n",
       "\u001b[0;31mDocstring:\u001b[0m\n",
       "Dataset-specific call to add_field\n",
       "\n",
       "Add a new field, along with supplemental metadata, to the list of\n",
       "available fields.  This respects a number of arguments, all of which\n",
       "are passed on to the constructor for\n",
       ":class:`~yt.data_objects.api.DerivedField`.\n",
       "\n",
       "Parameters\n",
       "----------\n",
       "\n",
       "name : str\n",
       "   is the name of the field.\n",
       "function : callable\n",
       "   A function handle that defines the field.  Should accept\n",
       "   arguments (field, data)\n",
       "units : str\n",
       "   A plain text string encoding the unit.  Powers must be in\n",
       "   python syntax (** instead of ^).\n",
       "take_log : bool\n",
       "   Describes whether the field should be logged\n",
       "validators : list\n",
       "   A list of :class:`FieldValidator` objects\n",
       "particle_type : bool\n",
       "   Is this a particle (1D) field?\n",
       "vector_field : bool\n",
       "   Describes the dimensionality of the field.  Currently unused.\n",
       "display_name : str\n",
       "   A name used in the plots\n",
       "force_override : bool\n",
       "   Whether to override an existing derived field. Does not work with\n",
       "   on-disk fields.\n",
       "\u001b[0;31mFile:\u001b[0m      /cm/shared/sw/pkg-old/devel/python3/3.6.2/lib/python3.6/site-packages/yt/data_objects/static_output.py\n",
       "\u001b[0;31mType:\u001b[0m      method\n"
      ]
     },
     "metadata": {},
     "output_type": "display_data"
    }
   ],
   "source": [
    "ds.add_field?"
   ]
  },
  {
   "cell_type": "code",
   "execution_count": null,
   "metadata": {},
   "outputs": [],
   "source": [
    "positions = ad['all', 'Coordinates']  - part.lsr_position\n",
    "velocities = ad['all', 'Velocities'] - part.lsr_velocity"
   ]
  },
  {
   "cell_type": "code",
   "execution_count": null,
   "metadata": {},
   "outputs": [],
   "source": [
    "#density ==> rho, smooth.length ==> smooth, mass ==> mass \n",
    "sim.gas['pos'] = pynbody.array.SimArray(positions)\n",
    "sim.gas['pos'].units = 'kpc'\n",
    "\n",
    "sim.gas['vel'] = pynbody.array.SimArray(velocities)\n",
    "sim.gas['vel'].units = 'km s^-1'\n",
    "\n",
    "sim.gas['eps'] = sim.gas['smooth']\n",
    "sim.gas['eps'].units = 'kpc'\n",
    "\n",
    "\n",
    "sim.gas['massfraction.all'] = part['gas']['massfraction'][:,0]\n",
    "sim.gas['massfraction.all'].units = '1'\n",
    "sim.gas['massfraction.he']  = part['gas']['massfraction'][:,1]\n",
    "sim.gas['massfraction.he'].units = '1'\n",
    "\n",
    "sim.gas['massfraction.all.relativesolar'] = 10.**part['gas']['metallicity.total']\n",
    "sim.gas['massfraction.all.relativesolar'].units = '1'\n",
    "\n",
    "for key in ['hydrogen.neutral.fraction']:\n",
    "    sim.gas[key] = pynbody.array.SimArray(part['gas'][key])\n",
    "    sim.gas[key].units = '1'\n"
   ]
  },
  {
   "cell_type": "code",
   "execution_count": null,
   "metadata": {},
   "outputs": [],
   "source": [
    "sim.gas['smooth']"
   ]
  },
  {
   "cell_type": "code",
   "execution_count": null,
   "metadata": {},
   "outputs": [],
   "source": [
    "solarMetallicity = 0.2\n",
    "fractionHydrogen = 1 - sim.gas['massfraction.he'] - sim.gas['massfraction.all']\n",
    "neutralHydrogenMass = sim.gas['mass']*(fractionHydrogen)*sim.gas['hydrogen.neutral.fraction']\n",
    "metalWeightedNeutralHydrogenMass = neutralHydrogenMass*sim.gas['massfraction.all.relativesolar']"
   ]
  },
  {
   "cell_type": "code",
   "execution_count": null,
   "metadata": {},
   "outputs": [],
   "source": [
    "metalWeightedNeutralHydrogenMass"
   ]
  },
  {
   "cell_type": "code",
   "execution_count": null,
   "metadata": {},
   "outputs": [],
   "source": [
    "fig, ax = plt.subplots(1, 3, figsize=(15, 5))\n",
    "ax[0].hist(np.log10(fractionHydrogen*sim.gas['hydrogen.neutral.fraction']*sim.gas['massfraction.all.relativesolar']), \n",
    "           range = [-10, 1], bins=100, log=True, histtype='step')\n",
    "ax[0].set_title('Metal Weighted Neutral Hydorgen Fraction')\n",
    "ax[0].set_xlabel('Metal Weighted Neutral Hydorgen Fraction')\n",
    "\n",
    "ax[1].hist(np.log10(neutralHydrogenMass), bins=100, log=True, range = [-5, 1], histtype='step')\n",
    "ax[1].set_title('Neutral Hydrogen Mass')\n",
    "ax[1].set_xlabel('Neutral Hydrogen Mass [Msol]')\n",
    "\n",
    "ax[2].hist(np.log10(metalWeightedNeutralHydrogenMass), bins=100, log=True, range = [-5, 1], histtype='step')\n",
    "ax[2].set_title('Metal Weighted Neutral Hydrogen Mass')\n",
    "ax[2].set_xlabel('Metal Weighted Neutral Hydrogen Mass [Msol]')\n"
   ]
  },
  {
   "cell_type": "code",
   "execution_count": null,
   "metadata": {},
   "outputs": [],
   "source": [
    "sim.gas['metalWeightedNeutralHydrogenMass'] = pynbody.array.SimArray(metalWeightedNeutralHydrogenMass.in_units('Msol'))\n",
    "sim.gas['metalWeightedNeutralHydrogenMass'].units = 'Msol'\n",
    "\n",
    "sim.gas['neutralHydrogenMass'] = pynbody.array.SimArray(neutralHydrogenMass.in_units('Msol'))\n",
    "sim.gas['neutralHydrogenMass'].units = 'Msol'\n",
    "\n",
    "sim.gas['metalWeightedNeutralHydrogenNumber'] = pynbody.array.SimArray(metalWeightedNeutralHydrogenMass.in_units('kg'), \n",
    "                                                                       dtype='float64')/m_p.to('kg')\n",
    "sim.gas['metalWeightedNeutralHydrogenNumber'].units = '1'"
   ]
  },
  {
   "cell_type": "code",
   "execution_count": null,
   "metadata": {},
   "outputs": [],
   "source": [
    "sim.gas['metalWeightedNeutralHydrogenNumber']"
   ]
  },
  {
   "cell_type": "code",
   "execution_count": null,
   "metadata": {},
   "outputs": [],
   "source": [
    "sim.gas['metalWeightedNeutralHydrogenMass']"
   ]
  },
  {
   "cell_type": "code",
   "execution_count": null,
   "metadata": {},
   "outputs": [],
   "source": [
    "sim.gas.keys()"
   ]
  },
  {
   "cell_type": "code",
   "execution_count": null,
   "metadata": {},
   "outputs": [],
   "source": [
    "for k in sim.gas.keys(): print(k, sim.gas[k].dtype)"
   ]
  },
  {
   "cell_type": "code",
   "execution_count": null,
   "metadata": {},
   "outputs": [],
   "source": [
    "for key in ['smooth', 'mass', 'metalWeightedNeutralHydrogenMass', 'eps', 'rho']:\n",
    "    arr = np.asanyarray(sim.gas[key], dtype=sim.gas['pos'].dtype)\n",
    "    del sim.gas[key]\n",
    "    sim.gas[key]= arr"
   ]
  },
  {
   "cell_type": "code",
   "execution_count": null,
   "metadata": {},
   "outputs": [],
   "source": [
    "x1 = \"-750 pc\"\n",
    "x2 = \"750 pc\"\n",
    "y1 = \"-750 pc\"\n",
    "y2 = \"750 pc\"\n",
    "z1 = \"-750 pc\"\n",
    "z2 = \"750 pc\"\n",
    "box = pynbody.filt.Cuboid(x1, y1=y1, z1=z1, x2=x2, y2=y2, z2=z2)\n",
    "\n",
    "im = pynbody.sph.to_3d_grid(sim[box].gas, qty='rho', nx=15, ny=15, nz=15, threaded=False, approximate_fast=False)\n"
   ]
  },
  {
   "cell_type": "code",
   "execution_count": null,
   "metadata": {},
   "outputs": [],
   "source": [
    "scale = '0.5 kpc'"
   ]
  },
  {
   "cell_type": "code",
   "execution_count": null,
   "metadata": {},
   "outputs": [],
   "source": [
    "fig, ax = plt.subplots(1, 2, figsize=(10, 5))\n",
    "pynbody.plot.image(sim.gas, qty='rho', width = '100 kpc', \n",
    "                   subplot=ax[0], show_cbar=False, title='Gas Density')\n",
    "pynbody.plot.image(sim.gas, qty='metalWeightedNeutralHydrogenMass', width = '100 kpc', \n",
    "                   subplot=ax[1], show_cbar=False, title='Metal Weighted')\n",
    "plt.tight_layout()\n",
    "plt.savefig('m12flsr2faceon.pdf', rasterized=True)"
   ]
  },
  {
   "cell_type": "code",
   "execution_count": null,
   "metadata": {},
   "outputs": [],
   "source": [
    "fig, ax = plt.subplots(1, 2, figsize=(10, 5))\n",
    "pynbody.plot.image(sim.gas, qty='rho', width = scale, \n",
    "                   subplot=ax[0], show_cbar=False, title='gas density')\n",
    "pynbody.plot.image(sim.gas, qty='metalWeightedNeutralHydrogenMass', width = scale, \n",
    "                   subplot=ax[1], show_cbar=False, title='Metal Weighted')\n",
    "plt.tight_layout()"
   ]
  },
  {
   "cell_type": "code",
   "execution_count": null,
   "metadata": {},
   "outputs": [],
   "source": [
    "fig, ax = plt.subplots(1, 2, figsize=(10, 5))\n",
    "sim.gas.rotate_x(90)\n",
    "pynbody.plot.image(sim.gas, qty='rho', width = '100 kpc', \n",
    "                   subplot=ax[0], show_cbar=False, title='Gas Density')\n",
    "pynbody.plot.image(sim.gas, qty='metalWeightedNeutralHydrogenMass', width = '100 kpc', \n",
    "                   subplot=ax[1], show_cbar=False, title='Metal Weighted')\n",
    "sim.gas.rotate_x(-90)\n",
    "plt.tight_layout()\n",
    "plt.savefig('m12flsr2sideone.pdf', rasterized=True)"
   ]
  },
  {
   "cell_type": "code",
   "execution_count": null,
   "metadata": {},
   "outputs": [],
   "source": [
    "fig, ax = plt.subplots(1, 2, figsize=(10, 5))\n",
    "sim.gas.rotate_x(90)\n",
    "pynbody.plot.image(sim.gas, qty='rho', width = scale, \n",
    "                   subplot=ax[0], show_cbar=False, title='gas density')\n",
    "pynbody.plot.image(sim.gas, qty='metalWeightedNeutralHydrogenMass', width = scale, \n",
    "                   subplot=ax[1], show_cbar=False, title='Metal Weighted')\n",
    "sim.gas.rotate_x(-90)\n",
    "plt.tight_layout()"
   ]
  },
  {
   "cell_type": "code",
   "execution_count": null,
   "metadata": {},
   "outputs": [],
   "source": [
    "fig, ax = plt.subplots(1, 2, figsize=(10, 5))\n",
    "sim.gas.rotate_y(90)\n",
    "pynbody.plot.image(sim.gas, qty='rho', width = '100 kpc', \n",
    "                   subplot=ax[0], show_cbar=False, title='Gas Density')\n",
    "pynbody.plot.image(sim.gas, qty='metalWeightedNeutralHydrogenMass', width = '100 kpc', \n",
    "                   subplot=ax[1], show_cbar=False, title='Metal Weighted')\n",
    "sim.gas.rotate_y(-90)\n",
    "plt.tight_layout()\n",
    "plt.savefig('m12flsr2sideon2.pdf', rasterized=True)"
   ]
  },
  {
   "cell_type": "code",
   "execution_count": null,
   "metadata": {},
   "outputs": [],
   "source": [
    "fig, ax = plt.subplots(1, 2, figsize=(10, 5))\n",
    "sim.gas.rotate_y(90)\n",
    "pynbody.plot.image(sim.gas, qty='rho', width = scale, \n",
    "                   subplot=ax[0], show_cbar=False, title='Neutral Hydrogen')\n",
    "pynbody.plot.image(sim.gas, qty='metalWeightedNeutralHydrogenMass', width = scale, \n",
    "                   subplot=ax[1], show_cbar=False, title='Metal Weighted')\n",
    "sim.gas.rotate_y(-90)\n",
    "plt.tight_layout()"
   ]
  },
  {
   "cell_type": "code",
   "execution_count": null,
   "metadata": {},
   "outputs": [],
   "source": [
    "np.linspace(-400, 400.0001, 5)"
   ]
  },
  {
   "cell_type": "code",
   "execution_count": null,
   "metadata": {},
   "outputs": [],
   "source": [
    "x1 = \"-10 kpc\"\n",
    "x2 = \"10 kpc\"\n",
    "y1 = \"-10 kpc\"\n",
    "y2 = \"10 kpc\"\n",
    "zup = np.linspace(-1000, 1000.0001, 10)[1:]\n",
    "zdown = np.linspace(-1000, 1000.0001, 10)[:-1]\n",
    "\n",
    "for i, (zu, zd) in enumerate(zip(zup, zdown)):\n",
    "        \n",
    "    box = pynbody.filt.Cuboid(x1, y1=y1, z1=str(zd) + ' pc', x2=x2, y2=y2, z2=str(zu) + ' pc')\n",
    "    fig, ax = plt.subplots(1, 2, figsize=(10, 5))\n",
    "    im = pynbody.plot.image(sim[box].gas, qty='rho', width = scale, \n",
    "                   subplot=ax[0], show_cbar=False, title='rho z {0:.1f} - {1:.1f} pc'.format(zu, zd))\n",
    "\n",
    "    im = pynbody.plot.image(sim[box].gas, qty='metalWeightedNeutralHydrogenMass', width =  scale, \n",
    "                   subplot=ax[1], show_cbar=True, title='Metal Weighted', vmax=1e4, vmin=1e2)\n",
    "\n",
    "    plt.tight_layout()\n",
    "    fig.savefig('anankedust{0}.pdf'.format(i), rasterized=True)"
   ]
  },
  {
   "cell_type": "code",
   "execution_count": 40,
   "metadata": {},
   "outputs": [],
   "source": [
    "radius = \"2 kpc\" # or might be a float if you already know your units\n",
    "centre = (0,0,0) # Take the origin for now\n",
    "sphere = pynbody.filt.Sphere(radius, centre)"
   ]
  },
  {
   "cell_type": "code",
   "execution_count": 50,
   "metadata": {},
   "outputs": [
    {
     "data": {
      "text/plain": [
       "<SimSnap \"/mnt/ceph/users/firesims/ananke/Latte/m12f/snapdir_600/snapshot_600:sphere::gas\" len=10575>"
      ]
     },
     "execution_count": 50,
     "metadata": {},
     "output_type": "execute_result"
    }
   ],
   "source": [
    "sim[sphere].gas"
   ]
  },
  {
   "cell_type": "code",
   "execution_count": 47,
   "metadata": {},
   "outputs": [
    {
     "data": {
      "text/plain": [
       "\u001b[0;31mSignature:\u001b[0m \u001b[0mpynbody\u001b[0m\u001b[0;34m.\u001b[0m\u001b[0msph\u001b[0m\u001b[0;34m.\u001b[0m\u001b[0mto_3d_grid\u001b[0m\u001b[0;34m(\u001b[0m\u001b[0msnap\u001b[0m\u001b[0;34m,\u001b[0m \u001b[0mqty\u001b[0m\u001b[0;34m=\u001b[0m\u001b[0;34m'rho'\u001b[0m\u001b[0;34m,\u001b[0m \u001b[0mnx\u001b[0m\u001b[0;34m=\u001b[0m\u001b[0;32mNone\u001b[0m\u001b[0;34m,\u001b[0m \u001b[0mny\u001b[0m\u001b[0;34m=\u001b[0m\u001b[0;32mNone\u001b[0m\u001b[0;34m,\u001b[0m \u001b[0mnz\u001b[0m\u001b[0;34m=\u001b[0m\u001b[0;32mNone\u001b[0m\u001b[0;34m,\u001b[0m \u001b[0mx2\u001b[0m\u001b[0;34m=\u001b[0m\u001b[0;32mNone\u001b[0m\u001b[0;34m,\u001b[0m \u001b[0mout_units\u001b[0m\u001b[0;34m=\u001b[0m\u001b[0;32mNone\u001b[0m\u001b[0;34m,\u001b[0m \u001b[0mxy_units\u001b[0m\u001b[0;34m=\u001b[0m\u001b[0;32mNone\u001b[0m\u001b[0;34m,\u001b[0m \u001b[0mkernel\u001b[0m\u001b[0;34m=\u001b[0m\u001b[0;34m<\u001b[0m\u001b[0mpynbody\u001b[0m\u001b[0;34m.\u001b[0m\u001b[0msph\u001b[0m\u001b[0;34m.\u001b[0m\u001b[0mKernel\u001b[0m \u001b[0mobject\u001b[0m \u001b[0mat\u001b[0m \u001b[0;36m0x2aab20e8add8\u001b[0m\u001b[0;34m>\u001b[0m\u001b[0;34m,\u001b[0m \u001b[0msmooth\u001b[0m\u001b[0;34m=\u001b[0m\u001b[0;34m'smooth'\u001b[0m\u001b[0;34m,\u001b[0m \u001b[0mapproximate_fast\u001b[0m\u001b[0;34m=\u001b[0m\u001b[0;32mTrue\u001b[0m\u001b[0;34m,\u001b[0m \u001b[0mthreaded\u001b[0m\u001b[0;34m=\u001b[0m\u001b[0;32mNone\u001b[0m\u001b[0;34m,\u001b[0m \u001b[0msnap_slice\u001b[0m\u001b[0;34m=\u001b[0m\u001b[0;32mNone\u001b[0m\u001b[0;34m,\u001b[0m \u001b[0mdenoise\u001b[0m\u001b[0;34m=\u001b[0m\u001b[0;32mNone\u001b[0m\u001b[0;34m)\u001b[0m\u001b[0;34m\u001b[0m\u001b[0m\n",
       "\u001b[0;31mDocstring:\u001b[0m\n",
       "Project SPH onto a grid using a typical (mass/rho)-weighted 'scatter'\n",
       "scheme.\n",
       "\n",
       "**Keyword arguments:**\n",
       "\n",
       "*qty* ('rho'): The name of the array within the simulation to render\n",
       "\n",
       "*nx* (x2-x1 / soft): The number of pixels wide to make the grid\n",
       "\n",
       "*ny* (nx): The number of pixels tall to make the grid\n",
       "\n",
       "*nz* (nx): The number of pixels deep to make the grid\n",
       "\n",
       "*out_units* (no conversion): The units to convert the output grid into\n",
       "\n",
       "*xy_units*: The units for the x and y axes\n",
       "\n",
       "*kernel*: The Kernel object to use (default Kernel(), a 3D spline kernel)\n",
       "\n",
       "*smooth*: The name of the array which contains the smoothing lengths\n",
       "  (default 'smooth')\n",
       "\n",
       "*denoise*: if True, divide through by an estimate of the discreteness noise.\n",
       "  The returned image is then not strictly an SPH estimate, but this option\n",
       "  can be useful to reduce noise especially when rendering AMR grids which\n",
       "  often introduce problematic edge effects.\n",
       "\u001b[0;31mFile:\u001b[0m      ~/.local/lib/python3.6/site-packages/pynbody/sph/__init__.py\n",
       "\u001b[0;31mType:\u001b[0m      function\n"
      ]
     },
     "metadata": {},
     "output_type": "display_data"
    }
   ],
   "source": [
    "pynbody.sph.to_3d_grid?"
   ]
  },
  {
   "cell_type": "code",
   "execution_count": 34,
   "metadata": {},
   "outputs": [
    {
     "data": {
      "text/plain": [
       "'0.46'"
      ]
     },
     "execution_count": 34,
     "metadata": {},
     "output_type": "execute_result"
    }
   ],
   "source": [
    "pynbody.__version__"
   ]
  },
  {
   "cell_type": "code",
   "execution_count": 36,
   "metadata": {},
   "outputs": [
    {
     "ename": "TypeError",
     "evalue": "No matching signature found",
     "output_type": "error",
     "traceback": [
      "\u001b[0;31m---------------------------------------------------------------------------\u001b[0m",
      "\u001b[0;31mTypeError\u001b[0m                                 Traceback (most recent call last)",
      "\u001b[0;32m<ipython-input-36-c68412bce88c>\u001b[0m in \u001b[0;36m<module>\u001b[0;34m()\u001b[0m\n\u001b[1;32m      7\u001b[0m \u001b[0mbox\u001b[0m \u001b[0;34m=\u001b[0m \u001b[0mpynbody\u001b[0m\u001b[0;34m.\u001b[0m\u001b[0mfilt\u001b[0m\u001b[0;34m.\u001b[0m\u001b[0mCuboid\u001b[0m\u001b[0;34m(\u001b[0m\u001b[0mx1\u001b[0m\u001b[0;34m,\u001b[0m \u001b[0my1\u001b[0m\u001b[0;34m=\u001b[0m\u001b[0my1\u001b[0m\u001b[0;34m,\u001b[0m \u001b[0mz1\u001b[0m\u001b[0;34m=\u001b[0m\u001b[0mz1\u001b[0m\u001b[0;34m,\u001b[0m \u001b[0mx2\u001b[0m\u001b[0;34m=\u001b[0m\u001b[0mx2\u001b[0m\u001b[0;34m,\u001b[0m \u001b[0my2\u001b[0m\u001b[0;34m=\u001b[0m\u001b[0my2\u001b[0m\u001b[0;34m,\u001b[0m \u001b[0mz2\u001b[0m\u001b[0;34m=\u001b[0m\u001b[0mz2\u001b[0m\u001b[0;34m)\u001b[0m\u001b[0;34m\u001b[0m\u001b[0m\n\u001b[1;32m      8\u001b[0m \u001b[0;34m\u001b[0m\u001b[0m\n\u001b[0;32m----> 9\u001b[0;31m \u001b[0mim\u001b[0m \u001b[0;34m=\u001b[0m \u001b[0mpynbody\u001b[0m\u001b[0;34m.\u001b[0m\u001b[0msph\u001b[0m\u001b[0;34m.\u001b[0m\u001b[0mto_3d_grid\u001b[0m\u001b[0;34m(\u001b[0m\u001b[0msim\u001b[0m\u001b[0;34m[\u001b[0m\u001b[0mbox\u001b[0m\u001b[0;34m]\u001b[0m\u001b[0;34m.\u001b[0m\u001b[0mgas\u001b[0m\u001b[0;34m,\u001b[0m \u001b[0mqty\u001b[0m\u001b[0;34m=\u001b[0m\u001b[0;34m'mass'\u001b[0m\u001b[0;34m,\u001b[0m \u001b[0mnx\u001b[0m\u001b[0;34m=\u001b[0m\u001b[0;36m15\u001b[0m\u001b[0;34m,\u001b[0m \u001b[0mny\u001b[0m\u001b[0;34m=\u001b[0m\u001b[0;36m15\u001b[0m\u001b[0;34m,\u001b[0m \u001b[0mnz\u001b[0m\u001b[0;34m=\u001b[0m\u001b[0;36m15\u001b[0m\u001b[0;34m,\u001b[0m \u001b[0mthreaded\u001b[0m\u001b[0;34m=\u001b[0m\u001b[0;32mFalse\u001b[0m\u001b[0;34m,\u001b[0m \u001b[0mapproximate_fast\u001b[0m\u001b[0;34m=\u001b[0m\u001b[0;32mFalse\u001b[0m\u001b[0;34m)\u001b[0m\u001b[0;34m\u001b[0m\u001b[0m\n\u001b[0m",
      "\u001b[0;32m~/.local/lib/python3.6/site-packages/pynbody/sph/__init__.py\u001b[0m in \u001b[0;36mto_3d_grid\u001b[0;34m(snap, qty, nx, ny, nz, x2, out_units, xy_units, kernel, smooth, approximate_fast, threaded, snap_slice, denoise)\u001b[0m\n\u001b[1;32m    769\u001b[0m     \u001b[0;32melse\u001b[0m\u001b[0;34m:\u001b[0m\u001b[0;34m\u001b[0m\u001b[0m\n\u001b[1;32m    770\u001b[0m         im = renderer(snap, qty, nx, ny, nz, x1, x2, y1, y2, z1, z2, out_units,\n\u001b[0;32m--> 771\u001b[0;31m                       xy_units, kernel, smooth, False)\n\u001b[0m\u001b[1;32m    772\u001b[0m \u001b[0;34m\u001b[0m\u001b[0m\n\u001b[1;32m    773\u001b[0m     \u001b[0mlogger\u001b[0m\u001b[0;34m.\u001b[0m\u001b[0minfo\u001b[0m\u001b[0;34m(\u001b[0m\u001b[0;34m\"Render done at %.2f s\"\u001b[0m \u001b[0;34m%\u001b[0m \u001b[0;34m(\u001b[0m\u001b[0mtime\u001b[0m\u001b[0;34m.\u001b[0m\u001b[0mtime\u001b[0m\u001b[0;34m(\u001b[0m\u001b[0;34m)\u001b[0m \u001b[0;34m-\u001b[0m \u001b[0min_time\u001b[0m\u001b[0;34m)\u001b[0m\u001b[0;34m)\u001b[0m\u001b[0;34m\u001b[0m\u001b[0m\n",
      "\u001b[0;32m~/.local/lib/python3.6/site-packages/pynbody/sph/__init__.py\u001b[0m in \u001b[0;36m_to_3d_grid\u001b[0;34m(snap, qty, nx, ny, nz, x1, x2, y1, y2, z1, z2, out_units, xy_units, kernel, smooth, __threaded, res_downgrade, snap_slice, smooth_range)\u001b[0m\n\u001b[1;32m    856\u001b[0m \u001b[0;34m\u001b[0m\u001b[0m\n\u001b[1;32m    857\u001b[0m     result = _render.to_3d_grid(nx,ny,nz,x,y,z,sm,x1,x2,y1,y2,z1,z2,\n\u001b[0;32m--> 858\u001b[0;31m                                 qty,mass,rho,smooth_lo,smooth_hi,kernel)\n\u001b[0m\u001b[1;32m    859\u001b[0m     \u001b[0mresult\u001b[0m \u001b[0;34m=\u001b[0m \u001b[0mresult\u001b[0m\u001b[0;34m.\u001b[0m\u001b[0mview\u001b[0m\u001b[0;34m(\u001b[0m\u001b[0marray\u001b[0m\u001b[0;34m.\u001b[0m\u001b[0mSimArray\u001b[0m\u001b[0;34m)\u001b[0m\u001b[0;34m\u001b[0m\u001b[0m\n\u001b[1;32m    860\u001b[0m \u001b[0;34m\u001b[0m\u001b[0m\n",
      "\u001b[0;32mpynbody/sph/_render.pyx\u001b[0m in \u001b[0;36mpynbody.sph._render.__pyx_fused_cpdef (pynbody/sph/_render.c:86953)\u001b[0;34m()\u001b[0m\n",
      "\u001b[0;31mTypeError\u001b[0m: No matching signature found"
     ]
    }
   ],
   "source": [
    "x1 = \"-750 pc\"\n",
    "x2 = \"750 pc\"\n",
    "y1 = \"-750 pc\"\n",
    "y2 = \"750 pc\"\n",
    "z1 = \"-750 pc\"\n",
    "z2 = \"750 pc\"\n",
    "box = pynbody.filt.Cuboid(x1, y1=y1, z1=z1, x2=x2, y2=y2, z2=z2)\n",
    "\n",
    "im = pynbody.sph.to_3d_grid(sim[box].gas, qty='mass', nx=15, ny=15, nz=15, threaded=False, approximate_fast=False)\n"
   ]
  },
  {
   "cell_type": "code",
   "execution_count": 44,
   "metadata": {},
   "outputs": [],
   "source": [
    "H0 = sim.gas['smooth']\n",
    "m0 = sim.gas['mass']\n",
    "z0 = part['gas']['metallicity.total']\n",
    "#z0 = sim.gas['metallicity.total']\n",
    "yHe = part['gas']['metallicity.he']\n",
    "#yHe = sim.gas['metallicity.he']\n",
    "fH = 1 - yHe - z0\n",
    "fneutral = part['gas']['hydrogen.neutral.fraction']\n",
    "#fneutral = sim.gas['hydrogen.neutral.fraction']\n",
    "fH_0 = fH*fneutral\n",
    "hubble = sim.properties['h']\n",
    "Hmin = 0.25*0.0131968*hubble\n",
    "H0 = np.sqrt(H0*H0 + Hmin*Hmin)\n",
    "z0 = np.sqrt(z0*z0 + 1e-5*1e-5)\n",
    "wt = fH_0*m0*(z0/0.2)/(H0 * H0 * H0) #*hubble took out, but need to check"
   ]
  },
  {
   "cell_type": "code",
   "execution_count": 38,
   "metadata": {},
   "outputs": [
    {
     "data": {
      "text/plain": [
       "SimArray([3.0117901e-03, 1.9458423e-05, 2.1456985e-06, ..., 3.1745850e-04,\n",
       "          2.8330507e-04, 2.6646798e-04], dtype=float32)"
      ]
     },
     "execution_count": 38,
     "metadata": {},
     "output_type": "execute_result"
    }
   ],
   "source": [
    "fH_0*z0/0.2"
   ]
  },
  {
   "cell_type": "code",
   "execution_count": 79,
   "metadata": {},
   "outputs": [],
   "source": [
    "numberH = pynbody.array.SimArray(m0.in_units('kg'), dtype='float64')*fH_0*z0/0.2/m_p.value"
   ]
  },
  {
   "cell_type": "code",
   "execution_count": 80,
   "metadata": {},
   "outputs": [],
   "source": [
    "numberH.sim = sim # this links the array to the simulation\n",
    "\n",
    "numberH.units = '1'"
   ]
  },
  {
   "cell_type": "code",
   "execution_count": 81,
   "metadata": {},
   "outputs": [
    {
     "data": {
      "text/plain": [
       "SimArray([2.80229182e+58, 1.63800227e+56, 1.84048903e+55, ...,\n",
       "          2.66783288e+57, 2.38081691e+57, 2.23932283e+57], '1.00e+00')"
      ]
     },
     "execution_count": 81,
     "metadata": {},
     "output_type": "execute_result"
    }
   ],
   "source": [
    "numberH"
   ]
  },
  {
   "cell_type": "code",
   "execution_count": null,
   "metadata": {},
   "outputs": [],
   "source": [
    "pynbody.sph.to_3d_grid(sim.gas, qty=)"
   ]
  },
  {
   "cell_type": "code",
   "execution_count": 9,
   "metadata": {},
   "outputs": [],
   "source": [
    "radius = np.sqrt(np.sum(part['gas']['position']**2, axis=1))"
   ]
  },
  {
   "cell_type": "code",
   "execution_count": 10,
   "metadata": {},
   "outputs": [],
   "source": [
    "smoothlength = (part['gas']['mass']/part['gas']['density'])**(1/3)"
   ]
  },
  {
   "cell_type": "code",
   "execution_count": 53,
   "metadata": {},
   "outputs": [
    {
     "data": {
      "text/plain": [
       "<matplotlib.text.Text at 0x2aaca5b3ef98>"
      ]
     },
     "execution_count": 53,
     "metadata": {},
     "output_type": "execute_result"
    },
    {
     "data": {
      "image/png": "[encoded data removed]",
      "text/plain": [
       "<matplotlib.figure.Figure at 0x2aaca5c80d68>"
      ]
     },
     "metadata": {},
     "output_type": "display_data"
    }
   ],
   "source": [
    "plt.hist(np.log10(smoothlength[radius < 2]), log=True, bins=100)\n",
    "plt.xlabel('smoothing lengths [kpc]')\n",
    "plt.title('smoothing lengths inside 2 kpc')"
   ]
  },
  {
   "cell_type": "code",
   "execution_count": 48,
   "metadata": {},
   "outputs": [],
   "source": [
    "xbins = np.linspace(0, 100, 100)\n",
    "ybins = np.linspace(0, 2.5, 100)\n",
    "H, xe, ye = np.histogram2d(radius, smoothlength, bins=[xbins,ybins])"
   ]
  },
  {
   "cell_type": "code",
   "execution_count": 49,
   "metadata": {},
   "outputs": [
    {
     "data": {
      "image/png": "[encoded data removed]",
      "text/plain": [
       "<matplotlib.figure.Figure at 0x2aaca58e82b0>"
      ]
     },
     "metadata": {},
     "output_type": "display_data"
    }
   ],
   "source": [
    "im = plt.pcolormesh(xe, ye, H.T,\n",
    "  norm=mpl.colors.LogNorm(), cmap=plt.get_cmap('Blues'))#vmax=75))#, vmax=20) #, vmin=-100, vmax=100)\n",
    "im.set_rasterized(True)\n",
    "plt.xlabel('radius [kpc]')\n",
    "plt.ylabel('smoothing length [kpc]')\n",
    "plt.colorbar()\n",
    "plt.savefig('smoothinglengths.pdf')\n"
   ]
  },
  {
   "cell_type": "code",
   "execution_count": 45,
   "metadata": {},
   "outputs": [
    {
     "data": {
      "image/png": "[encoded data removed]",
      "text/plain": [
       "<matplotlib.figure.Figure at 0x2aaca57ea668>"
      ]
     },
     "metadata": {},
     "output_type": "display_data"
    }
   ],
   "source": [
    "xbins = np.linspace(-1, 2, 100)\n",
    "ybins = np.linspace(-3, 0.5, 100)\n",
    "H, xe, ye = np.histogram2d(np.log10(radius), np.log10(smoothlength), bins=[xbins,ybins])\n",
    "im = plt.pcolormesh(xe, ye, H.T,\n",
    "  norm=mpl.colors.LogNorm(), cmap=plt.get_cmap('Blues'))#vmax=75))#, vmax=20) #, vmin=-100, vmax=100)\n",
    "im.set_rasterized(True)\n",
    "plt.xlabel('log10 radius [kpc]')\n",
    "plt.ylabel('log10 smoothing length [kpc]')\n",
    "plt.colorbar()\n",
    "plt.savefig('smoothinglengths_logspace.pdf')"
   ]
  },
  {
   "cell_type": "code",
   "execution_count": 8,
   "metadata": {},
   "outputs": [
    {
     "data": {
      "text/plain": [
       "dict_keys(['position', 'density', 'mass', 'massfraction', 'hydrogen.neutral.fraction', 'velocity', 'metallicity.total', 'metallicity.he', 'metallicity.c', 'metallicity.n', 'metallicity.o', 'metallicity.ne', 'metallicity.mg', 'metallicity.si', 'metallicity.s', 'metallicity.ca', 'metallicity.fe'])"
      ]
     },
     "execution_count": 8,
     "metadata": {},
     "output_type": "execute_result"
    }
   ],
   "source": [
    "part['gas'].keys()"
   ]
  },
  {
   "cell_type": "code",
   "execution_count": 56,
   "metadata": {},
   "outputs": [
    {
     "data": {
      "text/plain": [
       "0.702"
      ]
     },
     "execution_count": 56,
     "metadata": {},
     "output_type": "execute_result"
    }
   ],
   "source": [
    "part.info['hubble']"
   ]
  },
  {
   "cell_type": "code",
   "execution_count": null,
   "metadata": {},
   "outputs": [],
   "source": []
  },
  {
   "cell_type": "code",
   "execution_count": 57,
   "metadata": {},
   "outputs": [],
   "source": [
    "\n",
    "H0 = smoothlength\n",
    "m0 = part['gas']['mass']\n",
    "z0 = part['gas']['metallicity.total']\n",
    "yHe = part['gas']['metallicity.he']\n",
    "fH = 1 - yHe - z0\n",
    "fneutral = part['gas']['hydrogen.neutral.fraction']\n",
    "fH_0 = fH*fneutral\n",
    "hubble = part.info['hubble']\n",
    "Hmin = 0.25*0.0131968*hubble\n",
    "H0 = np.sqrt(H0*H0 + Hmin*Hmin)\n",
    "z0 = np.sqrt(z0*z0 + 1e-5*1e-5)\n",
    "wt = fH_0*m0*(z0/0.2)*hubble*2.08854/(H0 * H0 * H0)*6.7702543e-32"
   ]
  },
  {
   "cell_type": "code",
   "execution_count": 58,
   "metadata": {},
   "outputs": [
    {
     "data": {
      "text/plain": [
       "array([2.7916403e-29, 6.0049988e-32, 5.1357469e-33, ..., 1.1868977e-34,\n",
       "       9.8885191e-35, 8.5286609e-35], dtype=float32)"
      ]
     },
     "execution_count": 58,
     "metadata": {},
     "output_type": "execute_result"
    }
   ],
   "source": [
    "wt"
   ]
  },
  {
   "cell_type": "code",
   "execution_count": 133,
   "metadata": {},
   "outputs": [],
   "source": []
  },
  {
   "cell_type": "code",
   "execution_count": 139,
   "metadata": {},
   "outputs": [
    {
     "data": {
      "text/plain": [
       "<matplotlib.text.Text at 0x2aaca7206ba8>"
      ]
     },
     "execution_count": 139,
     "metadata": {},
     "output_type": "execute_result"
    },
    {
     "data": {
      "image/png": "[encoded data removed]",
      "text/plain": [
       "<matplotlib.figure.Figure at 0x2aaca74857f0>"
      ]
     },
     "metadata": {},
     "output_type": "display_data"
    }
   ],
   "source": [
    "plt.hist(smoothlength*2. - sim.gas['smooth'], bins=100, log=True)\n",
    "plt.title('difference between smoothing lengths')\n",
    "plt.xlabel('delta smoothing length [kpc]')"
   ]
  },
  {
   "cell_type": "code",
   "execution_count": 96,
   "metadata": {},
   "outputs": [
    {
     "data": {
      "text/plain": [
       "array([ 0.87517923,  1.2212816 ,  1.3375983 , ..., 24.667978  ,\n",
       "       25.239653  , 25.979477  ], dtype=float32)"
      ]
     },
     "execution_count": 96,
     "metadata": {},
     "output_type": "execute_result"
    }
   ],
   "source": [
    "smoothlength*2."
   ]
  },
  {
   "cell_type": "code",
   "execution_count": 94,
   "metadata": {},
   "outputs": [
    {
     "data": {
      "text/plain": [
       "SimArray([ 0.8604047,  1.2018559,  1.3172091, ..., 24.284779 , 24.854115 ,\n",
       "          25.59525  ], dtype=float32, 'kpc')"
      ]
     },
     "execution_count": 94,
     "metadata": {},
     "output_type": "execute_result"
    }
   ],
   "source": [
    "sim.gas['smooth']"
   ]
  },
  {
   "cell_type": "code",
   "execution_count": 5,
   "metadata": {},
   "outputs": [
    {
     "data": {
      "text/plain": [
       "{'CompactLevel': 0,\n",
       " 'Compactify_Version': 'v0.2',\n",
       " 'Flag_Cooling': 1,\n",
       " 'Flag_DoublePrecision': 0,\n",
       " 'Flag_Feedback': 1,\n",
       " 'Flag_IC_Info': 3,\n",
       " 'Flag_Metals': 15,\n",
       " 'Flag_Sfr': 1,\n",
       " 'Flag_StellarAge': 1,\n",
       " 'MassTable': array([0., 0., 0., 0., 0., 0.]),\n",
       " 'NumFilesPerSnapshot': 8,\n",
       " 'NumPart_ThisFile': array([12287337, 15681167,  1156375,        0,  2907365,        0],\n",
       "       dtype=int32),\n",
       " 'NumPart_Total': array([116752958, 140876456,  10063684,         0,  25344979,         0],\n",
       "       dtype=uint32),\n",
       " 'NumPart_Total_HighWord': array([0, 0, 0, 0, 0, 0], dtype=uint32),\n",
       " 'ReadMe': 'This snapshot is part of the Feedback in Realistic Environments (FIRE) project -- Use, modification, or distribution only permitted with approval of the PI and the FIRE team -- No warranty, use at your own risk -- compactify_hdf5 (c) RF 2018',\n",
       " 'Redshift': 0.0,\n",
       " 'a': 1.0,\n",
       " 'boxsize': Unit(\"6.00e+04 kpc a h**-1\"),\n",
       " 'h': 0.702,\n",
       " 'omegaL0': 0.728,\n",
       " 'omegaM0': 0.272,\n",
       " 'time': Unit(\"1.38e+01 Gyr\")}"
      ]
     },
     "execution_count": 5,
     "metadata": {},
     "output_type": "execute_result"
    }
   ],
   "source": [
    "sim.properties"
   ]
  },
  {
   "cell_type": "code",
   "execution_count": 140,
   "metadata": {},
   "outputs": [
    {
     "data": {
      "text/plain": [
       "{'box.length': 85470.08547008547,\n",
       " 'box.length/h': 60000.0,\n",
       " 'compression.level': 0,\n",
       " 'compression.readme': 'This snapshot is part of the Feedback in Realistic Environments (FIRE) project -- Use, modification, or distribution only permitted with approval of the PI and the FIRE team -- No warranty, use at your own risk -- compactify_hdf5 (c) RF 2018',\n",
       " 'compression.version': 'v0.2',\n",
       " 'file.number.per.snapshot': 4,\n",
       " 'has.cooling': 1,\n",
       " 'has.double.precision': 0,\n",
       " 'has.feedback': 1,\n",
       " 'has.ic.info': 3,\n",
       " 'has.metals': 11,\n",
       " 'has.star.age': 1,\n",
       " 'has.star.formation': 1,\n",
       " 'hubble': 0.702,\n",
       " 'omega_lambda': 0.728,\n",
       " 'omega_matter': 0.272,\n",
       " 'particle.masses': array([0., 0., 0., 0., 0., 0.]),\n",
       " 'particle.numbers.in.file': array([17469196, 22580726,  1143988,        0,  3530159,        0],\n",
       "       dtype=int32),\n",
       " 'particle.numbers.total': array([80307825, 96239056,  7591203,        0, 16066489,        0],\n",
       "       dtype=uint32),\n",
       " 'particle.numbers.total.high.word': array([0, 0, 0, 0, 0, 0], dtype=uint32),\n",
       " 'redshift': 0.0,\n",
       " 'scalefactor': 1.0}"
      ]
     },
     "execution_count": 140,
     "metadata": {},
     "output_type": "execute_result"
    }
   ],
   "source": [
    "part.info"
   ]
  },
  {
   "cell_type": "code",
   "execution_count": 24,
   "metadata": {},
   "outputs": [
    {
     "data": {
      "text/plain": [
       "SimArray([[ 23608.521,  23651.838,  23695.154, ..., 341265.94 ,\n",
       "           345980.12 , 350694.3  ],\n",
       "          [ 23579.764,  23622.121,  23664.479, ..., 341088.44 ,\n",
       "           345823.94 , 350559.44 ],\n",
       "          [ 23551.008,  23592.404,  23633.803, ..., 340910.9  ,\n",
       "           345667.75 , 350424.6  ],\n",
       "          ...,\n",
       "          [ 75173.555,  75946.77 ,  76719.99 , ...,  14089.778,\n",
       "            14087.451,  14085.125],\n",
       "          [ 74193.266,  74967.34 ,  75741.414, ...,  14074.972,\n",
       "            14073.712,  14072.452],\n",
       "          [ 73212.984,  73987.914,  74762.836, ...,  14060.165,\n",
       "            14059.972,  14059.778]], dtype=float32, 'Msol kpc**-3')"
      ]
     },
     "execution_count": 24,
     "metadata": {},
     "output_type": "execute_result"
    }
   ],
   "source": [
    "pynbody.plot.image(sim.gas, qty='rho', threaded=False)"
   ]
  },
  {
   "cell_type": "code",
   "execution_count": 28,
   "metadata": {},
   "outputs": [
    {
     "data": {
      "text/plain": [
       "\u001b[0;31mSignature:\u001b[0m \u001b[0mpynbody\u001b[0m\u001b[0;34m.\u001b[0m\u001b[0mplot\u001b[0m\u001b[0;34m.\u001b[0m\u001b[0mimage\u001b[0m\u001b[0;34m(\u001b[0m\u001b[0msim\u001b[0m\u001b[0;34m,\u001b[0m \u001b[0mqty\u001b[0m\u001b[0;34m=\u001b[0m\u001b[0;34m'rho'\u001b[0m\u001b[0;34m,\u001b[0m \u001b[0mwidth\u001b[0m\u001b[0;34m=\u001b[0m\u001b[0;34m'10 kpc'\u001b[0m\u001b[0;34m,\u001b[0m \u001b[0mresolution\u001b[0m\u001b[0;34m=\u001b[0m\u001b[0;36m500\u001b[0m\u001b[0;34m,\u001b[0m \u001b[0munits\u001b[0m\u001b[0;34m=\u001b[0m\u001b[0;32mNone\u001b[0m\u001b[0;34m,\u001b[0m \u001b[0mlog\u001b[0m\u001b[0;34m=\u001b[0m\u001b[0;32mTrue\u001b[0m\u001b[0;34m,\u001b[0m \u001b[0mvmin\u001b[0m\u001b[0;34m=\u001b[0m\u001b[0;32mNone\u001b[0m\u001b[0;34m,\u001b[0m \u001b[0mvmax\u001b[0m\u001b[0;34m=\u001b[0m\u001b[0;32mNone\u001b[0m\u001b[0;34m,\u001b[0m \u001b[0mav_z\u001b[0m\u001b[0;34m=\u001b[0m\u001b[0;32mFalse\u001b[0m\u001b[0;34m,\u001b[0m \u001b[0mfilename\u001b[0m\u001b[0;34m=\u001b[0m\u001b[0;32mNone\u001b[0m\u001b[0;34m,\u001b[0m \u001b[0mz_camera\u001b[0m\u001b[0;34m=\u001b[0m\u001b[0;32mNone\u001b[0m\u001b[0;34m,\u001b[0m \u001b[0mclear\u001b[0m\u001b[0;34m=\u001b[0m\u001b[0;32mTrue\u001b[0m\u001b[0;34m,\u001b[0m \u001b[0mcmap\u001b[0m\u001b[0;34m=\u001b[0m\u001b[0;32mNone\u001b[0m\u001b[0;34m,\u001b[0m \u001b[0mtitle\u001b[0m\u001b[0;34m=\u001b[0m\u001b[0;32mNone\u001b[0m\u001b[0;34m,\u001b[0m \u001b[0mqtytitle\u001b[0m\u001b[0;34m=\u001b[0m\u001b[0;32mNone\u001b[0m\u001b[0;34m,\u001b[0m \u001b[0mshow_cbar\u001b[0m\u001b[0;34m=\u001b[0m\u001b[0;32mTrue\u001b[0m\u001b[0;34m,\u001b[0m \u001b[0msubplot\u001b[0m\u001b[0;34m=\u001b[0m\u001b[0;32mFalse\u001b[0m\u001b[0;34m,\u001b[0m \u001b[0mnoplot\u001b[0m\u001b[0;34m=\u001b[0m\u001b[0;32mFalse\u001b[0m\u001b[0;34m,\u001b[0m \u001b[0mret_im\u001b[0m\u001b[0;34m=\u001b[0m\u001b[0;32mFalse\u001b[0m\u001b[0;34m,\u001b[0m \u001b[0mfill_nan\u001b[0m\u001b[0;34m=\u001b[0m\u001b[0;32mTrue\u001b[0m\u001b[0;34m,\u001b[0m \u001b[0mfill_val\u001b[0m\u001b[0;34m=\u001b[0m\u001b[0;36m0.0\u001b[0m\u001b[0;34m,\u001b[0m \u001b[0mlinthresh\u001b[0m\u001b[0;34m=\u001b[0m\u001b[0;32mNone\u001b[0m\u001b[0;34m,\u001b[0m \u001b[0;34m**\u001b[0m\u001b[0mkwargs\u001b[0m\u001b[0;34m)\u001b[0m\u001b[0;34m\u001b[0m\u001b[0m\n",
       "\u001b[0;31mDocstring:\u001b[0m\n",
       "Make an SPH image of the given simulation.\n",
       "\n",
       "**Keyword arguments:**\n",
       "\n",
       "*qty* (rho): The name of the array to interpolate\n",
       "\n",
       "*width* (10 kpc): The overall width and height of the plot. If\n",
       " ``width`` is a float or an int, then it is assumed to be in units\n",
       " of ``sim['pos']``. It can also be passed in as a string\n",
       " indicating the units, i.e. '10 kpc', in which case it is\n",
       " converted to units of ``sim['pos']``.\n",
       "\n",
       "*resolution* (500): The number of pixels wide and tall\n",
       "\n",
       "*units* (None): The units of the output\n",
       "\n",
       "*av_z* (False): If True, the requested quantity is averaged down\n",
       "        the line of sight (default False: image is generated in\n",
       "        the thin plane z=0, unless output units imply an integral\n",
       "        down the line of sight). If a string, the requested quantity\n",
       "        is averaged down the line of sight weighted by the av_z\n",
       "        array (e.g. use 'rho' for density-weighted quantity;\n",
       "        the default results when av_z=True are volume-weighted).\n",
       "\n",
       "*z_camera* (None): If set, a perspective image is rendered. See\n",
       "            :func:`pynbody.sph.image` for more details.\n",
       "\n",
       "*filename* (None): if set, the image will be saved in a file\n",
       "\n",
       "*clear* (True): whether to call clf() on the axes first\n",
       "\n",
       "*cmap* (None): user-supplied colormap instance\n",
       "\n",
       "*title* (None): plot title\n",
       "\n",
       "*qtytitle* (None): colorbar quantity title\n",
       "\n",
       "*show_cbar* (True): whether to plot the colorbar\n",
       "\n",
       "*subplot* (False): the user can supply a AxesSubPlot instance on\n",
       "which the image will be shown\n",
       "\n",
       "*noplot* (False): do not display the image, just return the image array\n",
       "\n",
       "*ret_im* (False): return the image instance returned by imshow\n",
       "\n",
       "*num_threads* (None) : if set, specify the number of threads for\n",
       "the multi-threaded routines; otherwise the pynbody.config default is used\n",
       "\n",
       "*fill_nan* (True): if any of the image values are NaN, replace with fill_val\n",
       "\n",
       "*fill_val* (0.0): the fill value to use when replacing NaNs\n",
       "\n",
       "*linthresh* (None): if the image has negative and positive values\n",
       " and a log scaling is requested, the part between `-linthresh` and\n",
       " `linthresh` is shown on a linear scale to avoid divergence at 0\n",
       "\u001b[0;31mFile:\u001b[0m      ~/.local/lib/python3.6/site-packages/pynbody/plot/sph.py\n",
       "\u001b[0;31mType:\u001b[0m      function\n"
      ]
     },
     "metadata": {},
     "output_type": "display_data"
    }
   ],
   "source": [
    "pynbody.plot.image?"
   ]
  },
  {
   "cell_type": "code",
   "execution_count": 31,
   "metadata": {},
   "outputs": [
    {
     "data": {
      "text/plain": [
       "SimArray([[ 424477.2  ,  393189.97 ,  361902.62 , ...,  126312.484,\n",
       "            132657.23 ,  139002.   ],\n",
       "          [ 503328.75 ,  455369.97 ,  407411.1  , ...,  119717.73 ,\n",
       "            125042.   ,  130366.26 ],\n",
       "          [ 582180.44 ,  517549.9  ,  452919.53 , ...,  113122.97 ,\n",
       "            117426.76 ,  121730.555],\n",
       "          ...,\n",
       "          [5566025.5  , 5480298.5  , 5394572.   , ...,  862430.4  ,\n",
       "            930834.94 ,  999239.2  ],\n",
       "          [4943844.   , 4899355.   , 4854867.5  , ...,  782047.8  ,\n",
       "            844457.5  ,  906867.2  ],\n",
       "          [4321662.5  , 4318412.5  , 4315163.5  , ...,  701665.4  ,\n",
       "            758080.3  ,  814495.06 ]], dtype=float32, 'Msol kpc**-3')"
      ]
     },
     "execution_count": 31,
     "metadata": {},
     "output_type": "execute_result"
    },
    {
     "data": {
      "image/png": "[encoded data removed]",
      "text/plain": [
       "<matplotlib.figure.Figure at 0x2aab26418d30>"
      ]
     },
     "metadata": {},
     "output_type": "display_data"
    }
   ],
   "source": []
  },
  {
   "cell_type": "code",
   "execution_count": 27,
   "metadata": {},
   "outputs": [
    {
     "data": {
      "text/plain": [
       "SimArray([[17295.158, 17297.473, 17299.79 , ..., 15341.798, 15295.941,\n",
       "           15250.077],\n",
       "          [17306.752, 17308.922, 17311.09 , ..., 15515.022, 15467.895,\n",
       "           15420.77 ],\n",
       "          [17318.348, 17320.371, 17322.389, ..., 15688.247, 15639.854,\n",
       "           15591.461],\n",
       "          ...,\n",
       "          [45054.527, 45579.07 , 46103.625, ..., 19413.475, 19394.088,\n",
       "           19374.7  ],\n",
       "          [44618.38 , 45133.63 , 45648.875, ..., 19219.459, 19196.738,\n",
       "           19174.02 ],\n",
       "          [44182.234, 44688.184, 45194.125, ..., 19025.451, 18999.389,\n",
       "           18973.334]], dtype=float32, 'Msol kpc**-3')"
      ]
     },
     "execution_count": 27,
     "metadata": {},
     "output_type": "execute_result"
    },
    {
     "data": {
      "image/png": "[encoded data removed]",
      "text/plain": [
       "<matplotlib.figure.Figure at 0x2aab264bef98>"
      ]
     },
     "metadata": {},
     "output_type": "display_data"
    }
   ],
   "source": [
    "pynbody.plot.sideon_image(sim.gas)"
   ]
  },
  {
   "cell_type": "code",
   "execution_count": 12,
   "metadata": {},
   "outputs": [
    {
     "data": {
      "text/plain": [
       "['u',\n",
       " 'p',\n",
       " 'HII',\n",
       " 'HeIII',\n",
       " 'ne',\n",
       " 'rho_ne',\n",
       " 'dm',\n",
       " 'cosmodm',\n",
       " 'redshift',\n",
       " 'doppler_redshift',\n",
       " 'em',\n",
       " 'halpha',\n",
       " 'c_n_sq',\n",
       " 'hetot',\n",
       " 'hydrogen',\n",
       " 'HI',\n",
       " 'HIeos',\n",
       " 'HID12',\n",
       " 'HeI',\n",
       " 'HeII',\n",
       " 'OI',\n",
       " 'OII',\n",
       " 'OVI',\n",
       " 'CIV',\n",
       " 'NV',\n",
       " 'SIV',\n",
       " 'MGII',\n",
       " 'feh',\n",
       " 'sixh',\n",
       " 'sxh',\n",
       " 'mgxh',\n",
       " 'oxh',\n",
       " 'nexh',\n",
       " 'cxh',\n",
       " 'caxh',\n",
       " 'nxh',\n",
       " 'ofe',\n",
       " 'mgfe',\n",
       " 'nefe',\n",
       " 'sife',\n",
       " 'smooth',\n",
       " 'rho',\n",
       " 'r',\n",
       " 'rxy',\n",
       " 'vr',\n",
       " 'v2',\n",
       " 'vt',\n",
       " 'ke',\n",
       " 'te',\n",
       " 'j',\n",
       " 'j2',\n",
       " 'jz',\n",
       " 'vrxy',\n",
       " 'vcxy',\n",
       " 'vphi',\n",
       " 'vtheta',\n",
       " 'v_mean',\n",
       " 'v_disp',\n",
       " 'age',\n",
       " 'u_mag',\n",
       " 'u_lum_den',\n",
       " 'b_mag',\n",
       " 'b_lum_den',\n",
       " 'v_mag',\n",
       " 'v_lum_den',\n",
       " 'r_mag',\n",
       " 'r_lum_den',\n",
       " 'i_mag',\n",
       " 'i_lum_den',\n",
       " 'j_mag',\n",
       " 'j_lum_den',\n",
       " 'h_mag',\n",
       " 'h_lum_den',\n",
       " 'k_mag',\n",
       " 'k_lum_den',\n",
       " 'U_mag',\n",
       " 'U_lum_den',\n",
       " 'B_mag',\n",
       " 'B_lum_den',\n",
       " 'V_mag',\n",
       " 'V_lum_den',\n",
       " 'R_mag',\n",
       " 'R_lum_den',\n",
       " 'I_mag',\n",
       " 'I_lum_den',\n",
       " 'J_mag',\n",
       " 'J_lum_den',\n",
       " 'H_mag',\n",
       " 'H_lum_den',\n",
       " 'K_mag',\n",
       " 'K_lum_den',\n",
       " 'theta',\n",
       " 'alt',\n",
       " 'az',\n",
       " 'cs',\n",
       " 'mu',\n",
       " 'p',\n",
       " 'u',\n",
       " 'temp',\n",
       " 'zeldovich_offset',\n",
       " 'aform',\n",
       " 'tform',\n",
       " 'mass',\n",
       " 'ParticleChildIDsNumber',\n",
       " 'ParticleIDGenerationNumber',\n",
       " 'vel',\n",
       " 'pos',\n",
       " 'iord',\n",
       " 'phi']"
      ]
     },
     "execution_count": 12,
     "metadata": {},
     "output_type": "execute_result"
    }
   ],
   "source": [
    "sim.all_keys()"
   ]
  },
  {
   "cell_type": "code",
   "execution_count": 13,
   "metadata": {},
   "outputs": [
    {
     "data": {
      "text/plain": [
       "SimArray([26649.53054413, 26650.36617036, 26650.6128479 , ...,\n",
       "          26362.59664787, 26362.55895669, 26362.6498881 ], 'Mpc a h**-1')"
      ]
     },
     "execution_count": 13,
     "metadata": {},
     "output_type": "execute_result"
    }
   ],
   "source": [
    "sim['x']"
   ]
  },
  {
   "cell_type": "code",
   "execution_count": null,
   "metadata": {},
   "outputs": [],
   "source": []
  }
 ],
 "metadata": {
  "kernelspec": {
   "display_name": "Python 3 (python3/3.6.2)",
   "language": "python",
   "name": "module-python3-3.6.2-python3"
  },
  "language_info": {
   "codemirror_mode": {
    "name": "ipython",
    "version": 3
   },
   "file_extension": ".py",
   "mimetype": "text/x-python",
   "name": "python",
   "nbconvert_exporter": "python",
   "pygments_lexer": "ipython3",
   "version": "3.6.2"
  }
 },
 "nbformat": 4,
 "nbformat_minor": 2
}
