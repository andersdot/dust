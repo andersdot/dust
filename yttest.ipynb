{
 "cells": [
  {
   "cell_type": "code",
   "execution_count": 1,
   "metadata": {},
   "outputs": [],
   "source": [
    "import numpy as np\n",
    "import matplotlib as mpl\n",
    "import matplotlib.pyplot as plt\n",
    "%matplotlib inline\n",
    "import astropy.units as u\n",
    "from astropy.constants import c, m_p, M_sun\n",
    "import yt"
   ]
  },
  {
   "cell_type": "markdown",
   "metadata": {},
   "source": [
    "## Generate fake data"
   ]
  },
  {
   "cell_type": "code",
   "execution_count": 2,
   "metadata": {},
   "outputs": [],
   "source": [
    "x = np.random.rand(1000) - 0.5\n",
    "y = np.random.rand(1000) - 0.5\n",
    "z = np.random.rand(1000) - 0.5 \n",
    "density = np.random.rand(1000)\n",
    "smoothing_length = np.random.rand(1000)/100\n",
    "mass = np.random.rand(1000)*100"
   ]
  },
  {
   "cell_type": "markdown",
   "metadata": {},
   "source": [
    "## Read into yt dataset using load_particles"
   ]
  },
  {
   "cell_type": "code",
   "execution_count": 3,
   "metadata": {},
   "outputs": [
    {
     "data": {
      "text/plain": [
       "'4.0.dev0'"
      ]
     },
     "execution_count": 3,
     "metadata": {},
     "output_type": "execute_result"
    }
   ],
   "source": [
    "yt.__version__"
   ]
  },
  {
   "cell_type": "code",
   "execution_count": 5,
   "metadata": {},
   "outputs": [
    {
     "name": "stderr",
     "output_type": "stream",
     "text": [
      "yt : [INFO     ] 2019-03-27 07:21:05,479 Parameters: current_time              = 4.3545533462416614e+17\n",
      "yt : [INFO     ] 2019-03-27 07:21:05,480 Parameters: domain_dimensions         = [1 1 1]\n",
      "yt : [INFO     ] 2019-03-27 07:21:05,481 Parameters: domain_left_edge          = [-1.54283879e+21 -1.54283879e+21 -1.54283879e+21]\n",
      "yt : [INFO     ] 2019-03-27 07:21:05,482 Parameters: domain_right_edge         = [1.54283879e+21 1.54283879e+21 1.54283879e+21]\n",
      "yt : [INFO     ] 2019-03-27 07:21:05,484 Parameters: cosmological_simulation   = 0.0\n"
     ]
    }
   ],
   "source": [
    "from yt.units import kiloparsec, Msun \n",
    "\n",
    "length_unit=3.08567758149137e21 #kpc to cm  \n",
    "mass_unit=1.98847e33 #solar mass to g \n",
    "time_unit=3.15576e16 #Gyr to s, \n",
    "velocity_unit=1e5 #km to cm   \n",
    "unit_system=\"galactic\" #'cgs'\n",
    "sim_time = 4.3545533462416614e+17\n",
    "field = 'io'\n",
    "data = {(field, 'particle_position_x'): x,\n",
    "        (field, 'particle_position_y'): y,\n",
    "        (field, 'particle_position_z'): z,\n",
    "        (field, 'density'): density,\n",
    "        (field, 'smoothing_length'): smoothing_length,\n",
    "        (field, 'particle_mass'): mass\n",
    "        }\n",
    "half_box = 0.5*length_unit\n",
    "bbox = np.array([[-half_box, half_box], [-half_box, half_box], [-half_box, half_box]])\n",
    "\n",
    "ds = yt.load_particles(data, length_unit=length_unit, mass_unit=mass_unit, velocity_unit=velocity_unit, \n",
    "                       time_unit=time_unit, bbox=bbox, unit_system=unit_system, sim_time=sim_time)"
   ]
  },
  {
   "cell_type": "markdown",
   "metadata": {},
   "source": [
    "## Create arbitrary_grid and check shape"
   ]
  },
  {
   "cell_type": "code",
   "execution_count": 6,
   "metadata": {},
   "outputs": [
    {
     "name": "stderr",
     "output_type": "stream",
     "text": [
      "yt : [INFO     ] 2019-03-27 07:21:09,519 Allocating for 1.000e+03 particles\n"
     ]
    }
   ],
   "source": [
    "from yt.units import kpc\n",
    "left_edge = [0, 0, 0]*kpc\n",
    "right_edge = [.99, .99, .99]*kpc\n",
    "ag = ds.arbitrary_grid(left_edge, right_edge, dims=[128]*3)\n",
    "ag_density = ag[(field, 'density')]"
   ]
  },
  {
   "cell_type": "code",
   "execution_count": 7,
   "metadata": {},
   "outputs": [
    {
     "name": "stdout",
     "output_type": "stream",
     "text": [
      "arbitrary grid shape:  (128, 128, 128)\n",
      "density grid shape:  (128, 128, 128)\n"
     ]
    }
   ],
   "source": [
    "print('arbitrary grid shape: ', ag.shape)\n",
    "print('density grid shape: ', ag_density.shape)\n"
   ]
  },
  {
   "cell_type": "code",
   "execution_count": null,
   "metadata": {},
   "outputs": [],
   "source": []
  },
  {
   "cell_type": "code",
   "execution_count": null,
   "metadata": {},
   "outputs": [],
   "source": []
  },
  {
   "cell_type": "code",
   "execution_count": null,
   "metadata": {},
   "outputs": [],
   "source": []
  }
 ],
 "metadata": {
  "kernelspec": {
   "display_name": "Python 3",
   "language": "python",
   "name": "python3"
  },
  "language_info": {
   "codemirror_mode": {
    "name": "ipython",
    "version": 3
   },
   "file_extension": ".py",
   "mimetype": "text/x-python",
   "name": "python",
   "nbconvert_exporter": "python",
   "pygments_lexer": "ipython3",
   "version": "3.7.1"
  }
 },
 "nbformat": 4,
 "nbformat_minor": 2
}
