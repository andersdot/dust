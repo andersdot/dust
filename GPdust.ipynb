{
 "cells": [
  {
   "cell_type": "code",
   "execution_count": 1,
   "metadata": {},
   "outputs": [
    {
     "name": "stderr",
     "output_type": "stream",
     "text": [
      "/mnt/xfs1/flatiron-sw/pkg/devel/python3/3.6.2/lib/python3.6/site-packages/h5py/__init__.py:36: FutureWarning: Conversion of the second argument of issubdtype from `float` to `np.floating` is deprecated. In future, it will be treated as `np.float64 == np.dtype(float).type`.\n",
      "  from ._conv import register_converters as _register_converters\n"
     ]
    }
   ],
   "source": [
    "import matplotlib.pyplot as plt\n",
    "%matplotlib inline\n",
    "import numpy as np\n",
    "import matplotlib as mpl\n",
    "from scipy import stats\n",
    "from dustmaps.sfd import SFDQuery\n",
    "from dustmaps.bayestar import BayestarQuery\n",
    "import astropy.coordinates as coord\n",
    "import astropy.units as u\n",
    "import scipy.stats\n",
    "from astropy.table import Table, unique, Column, hstack, vstack\n",
    "import healpy as hp"
   ]
  },
  {
   "cell_type": "code",
   "execution_count": 2,
   "metadata": {
    "collapsed": true
   },
   "outputs": [],
   "source": [
    "from xdgmm import XDGMM"
   ]
  },
  {
   "cell_type": "code",
   "execution_count": 3,
   "metadata": {
    "collapsed": true
   },
   "outputs": [],
   "source": [
    "def dust(ra, dec, distance, max_samples=10, mode='median'):\n",
    "    c = coord.SkyCoord(ra, dec, distance=distance)\n",
    "    sfd = SFDQuery()\n",
    "    bayes = BayestarQuery(max_samples=max_samples)\n",
    "\n",
    "    return sfd(c), bayes(c, mode=mode, return_flags=False) #, iphas(c, mode=mode), marshall(c), chen(c)\n",
    "def getDust(G, bp, rp, ebv, maxnit=100):\n",
    "    \"\"\" Compute the Gaia extinctions assuming relations from Babusieux\n",
    "    Arguments: G, bp, rp, E(B-V)\n",
    "    maxnit -- number of iterations\n",
    "    Returns extinction in G,bp, rp\n",
    "    Author: Sergey Koposov skoposov@cmu.edu\n",
    "    \"\"\"\n",
    "    c1, c2, c3, c4, c5, c6, c7 = [0.9761, -0.1704,\n",
    "                                  0.0086, 0.0011, -0.0438, 0.0013, 0.0099]\n",
    "    d1, d2, d3, d4, d5, d6, d7 = [\n",
    "        1.1517, -0.0871, -0.0333, 0.0173, -0.0230, 0.0006, 0.0043]\n",
    "    e1, e2, e3, e4, e5, e6, e7 = [\n",
    "        0.6104, -0.0170, -0.0026, -0.0017, -0.0078, 0.00005, 0.0006]\n",
    "    A0 = 3.1*ebv\n",
    "    P1 = np.poly1d([c1, c2, c3, c4][::-1])\n",
    "\n",
    "    def F1(bprp): return np.poly1d(\n",
    "        [c1, c2, c3, c4][::-1])(bprp)+c5*A0+c6*A0**2+c7*bprp*A0\n",
    "\n",
    "    def F2(bprp): return np.poly1d(\n",
    "        [d1, d2, d3, d4][::-1])(bprp)+d5*A0+d6*A0**2+d7*bprp*A0\n",
    "\n",
    "    def F3(bprp): return np.poly1d(\n",
    "        [e1, e2, e3, e4][::-1])(bprp)+e5*A0+e6*A0**2+e7*bprp*A0\n",
    "    xind = np.isfinite(bp+rp+G)\n",
    "    curbp = bp-rp\n",
    "    for i in range(maxnit):\n",
    "        AG = F1(curbp)*A0\n",
    "        Abp = F2(curbp)*A0\n",
    "        Arp = F3(curbp)*A0\n",
    "        curbp1 = bp-rp-Abp+Arp\n",
    "\n",
    "        delta = np.abs(curbp1-curbp)[xind]\n",
    "        curbp = curbp1\n",
    "    print(scipy.stats.scoreatpercentile(delta[np.isfinite(delta)], 99))\n",
    "    AG = F1(curbp)*A0\n",
    "    Abp = F2(curbp)*A0\n",
    "    Arp = F3(curbp)*A0\n",
    "    return AG, Abp, Arp"
   ]
  },
  {
   "cell_type": "code",
   "execution_count": 4,
   "metadata": {
    "collapsed": true
   },
   "outputs": [],
   "source": [
    "#data = Table.read('dust-result.fits.gz')\n",
    "datahigh = Table.read('dustHighLat-result.fits.gz')"
   ]
  },
  {
   "cell_type": "code",
   "execution_count": 5,
   "metadata": {
    "collapsed": true
   },
   "outputs": [],
   "source": [
    "datalow = Table.read('dustLowLat-result.fits.gz')"
   ]
  },
  {
   "cell_type": "markdown",
   "metadata": {},
   "source": [
    "## All sky with parallax S/N > 20 and good photometry: 25.5 Million Stars out to 3 kpc"
   ]
  },
  {
   "cell_type": "code",
   "execution_count": 6,
   "metadata": {},
   "outputs": [
    {
     "name": "stderr",
     "output_type": "stream",
     "text": [
      "WARNING: MergeConflictWarning: Cannot merge meta key 'DATE-HDU' types <class 'str'> and <class 'str'>, choosing DATE-HDU='2018-12-04T20:05:38' [astropy.utils.metadata]\n"
     ]
    }
   ],
   "source": [
    "data = vstack((datahigh, datalow))"
   ]
  },
  {
   "cell_type": "code",
   "execution_count": 7,
   "metadata": {},
   "outputs": [
    {
     "data": {
      "text/html": [
       "<i>Table length=25496246</i>\n",
       "<table id=\"table139867291305968\" class=\"table-striped table-bordered table-condensed\">\n",
       "<thead><tr><th>ra</th><th>dec</th><th>parallax</th><th>parallax_error</th><th>h_m</th><th>h_msigcom</th><th>w2mpro</th><th>w2mpro_error</th><th>phot_g_mean_mag</th><th>phot_g_mean_flux_over_error</th><th>phot_bp_mean_mag</th><th>phot_bp_mean_flux_over_error</th><th>phot_rp_mean_mag</th><th>phot_rp_mean_flux_over_error</th><th>j_m</th><th>j_msigcom</th><th>ks_m</th><th>ks_msigcom</th><th>w1mpro</th><th>w1mpro_error</th></tr></thead>\n",
       "<thead><tr><th>deg</th><th>deg</th><th>mas</th><th>mas</th><th>mag</th><th>mag</th><th>mag</th><th>mag</th><th>mag</th><th></th><th>mag</th><th></th><th>mag</th><th></th><th>mag</th><th>mag</th><th>mag</th><th>mag</th><th>mag</th><th>mag</th></tr></thead>\n",
       "<thead><tr><th>float64</th><th>float64</th><th>float64</th><th>float64</th><th>float32</th><th>float32</th><th>float64</th><th>float64</th><th>float32</th><th>float32</th><th>float32</th><th>float32</th><th>float32</th><th>float32</th><th>float32</th><th>float32</th><th>float32</th><th>float32</th><th>float64</th><th>float64</th></tr></thead>\n",
       "<tr><td>245.60890985779992</td><td>15.138096373883984</td><td>1.165034815943981</td><td>0.055317342303344876</td><td>14.16</td><td>0.043</td><td>14.061</td><td>0.039</td><td>16.433006</td><td>2421.5864</td><td>17.080744</td><td>276.6427</td><td>15.675535</td><td>671.29205</td><td>14.76</td><td>0.037</td><td>14.117</td><td>0.062</td><td>13.984</td><td>0.064</td></tr>\n",
       "<tr><td>295.2736692126975</td><td>25.330212432523595</td><td>2.1587254165453444</td><td>0.021978824691060835</td><td>11.745</td><td>0.025</td><td>11.635</td><td>0.024</td><td>13.362812</td><td>6578.832</td><td>13.7905035</td><td>1083.1605</td><td>12.782986</td><td>1237.9856</td><td>12.091</td><td>0.024</td><td>11.626</td><td>0.022</td><td>11.549</td><td>0.024</td></tr>\n",
       "<tr><td>246.28281654685398</td><td>14.752248845478498</td><td>2.385456105797465</td><td>0.07060413108483643</td><td>13.601</td><td>0.03</td><td>13.239</td><td>0.028</td><td>16.54985</td><td>2182.434</td><td>17.56838</td><td>176.47864</td><td>15.542453</td><td>528.54785</td><td>14.245</td><td>0.03</td><td>13.383</td><td>0.034</td><td>13.285</td><td>0.025</td></tr>\n",
       "<tr><td>294.23222089406846</td><td>34.13124981106596</td><td>0.6912784600410372</td><td>0.023866130943964777</td><td>13.718</td><td>0.037</td><td>13.732</td><td>0.039</td><td>15.1412325</td><td>3312.2026</td><td>15.4818735</td><td>595.2617</td><td>14.632838</td><td>946.0476</td><td>14.08</td><td>0.029</td><td>13.615</td><td>0.045</td><td>13.574</td><td>0.027</td></tr>\n",
       "<tr><td>246.65086682739724</td><td>15.02099307569786</td><td>0.7970932020000279</td><td>0.0327246131481686</td><td>13.762</td><td>0.035</td><td>13.668</td><td>0.032</td><td>15.162779</td><td>3953.9348</td><td>15.507965</td><td>682.38837</td><td>14.653856</td><td>1209.702</td><td>14.11</td><td>0.025</td><td>13.707</td><td>0.037</td><td>13.693</td><td>0.026</td></tr>\n",
       "<tr><td>151.1750847259315</td><td>-46.80083670540702</td><td>1.1416060242490351</td><td>0.03129243151441006</td><td>10.908</td><td>0.023</td><td>10.873</td><td>0.024</td><td>11.692712</td><td>2932.9814</td><td>11.866609</td><td>956.6198</td><td>11.400016</td><td>1259.3341</td><td>11.039</td><td>0.022</td><td>10.903</td><td>0.021</td><td>10.856</td><td>0.024</td></tr>\n",
       "<tr><td>295.20670608445107</td><td>34.32347848699651</td><td>1.9965514923115348</td><td>0.02082536338422129</td><td>12.102</td><td>0.022</td><td>12.023</td><td>0.022</td><td>13.581635</td><td>5032.603</td><td>13.978581</td><td>749.03986</td><td>13.034949</td><td>953.7408</td><td>12.371</td><td>0.02</td><td>12.011</td><td>0.021</td><td>11.936</td><td>0.023</td></tr>\n",
       "<tr><td>245.9748410566894</td><td>15.605668735959007</td><td>2.11791316982629</td><td>0.06970195537787299</td><td>13.185</td><td>0.026</td><td>12.847</td><td>0.026</td><td>16.354193</td><td>1101.7389</td><td>17.469122</td><td>160.46834</td><td>15.300782</td><td>410.5768</td><td>13.886</td><td>0.023</td><td>13.022</td><td>0.03</td><td>12.917</td><td>0.025</td></tr>\n",
       "<tr><td>246.5166704053596</td><td>14.877691797075395</td><td>2.1753975398834062</td><td>0.08601118899997967</td><td>13.351</td><td>0.033</td><td>13.005</td><td>0.028</td><td>15.496188</td><td>2149.8948</td><td>16.03258</td><td>639.9967</td><td>14.784142</td><td>923.5787</td><td>13.888</td><td>0.027</td><td>13.301</td><td>0.03</td><td>13.063</td><td>0.023</td></tr>\n",
       "<tr><td>...</td><td>...</td><td>...</td><td>...</td><td>...</td><td>...</td><td>...</td><td>...</td><td>...</td><td>...</td><td>...</td><td>...</td><td>...</td><td>...</td><td>...</td><td>...</td><td>...</td><td>...</td><td>...</td><td>...</td></tr>\n",
       "<tr><td>16.131024024193007</td><td>62.78892619189302</td><td>7.083867553062282</td><td>0.08697340104841371</td><td>13.404</td><td>0.031</td><td>12.871</td><td>0.027</td><td>16.985369</td><td>1297.6691</td><td>18.616167</td><td>50.391212</td><td>15.721441</td><td>364.37158</td><td>14.012</td><td>0.028</td><td>13.115</td><td>0.035</td><td>12.981</td><td>0.024</td></tr>\n",
       "<tr><td>11.826931920625869</td><td>62.78907244842648</td><td>1.0775524682387552</td><td>0.015293585590748716</td><td>12.103</td><td>0.031</td><td>11.902</td><td>0.022</td><td>13.589319</td><td>5954.262</td><td>13.989267</td><td>837.5019</td><td>13.018112</td><td>1194.457</td><td>12.321</td><td>0.023</td><td>12.0</td><td>0.025</td><td>11.892</td><td>0.024</td></tr>\n",
       "<tr><td>9.802591683914864</td><td>62.78909896074364</td><td>0.7623895025571058</td><td>0.027454383753165234</td><td>9.807</td><td>0.026</td><td>9.54</td><td>0.02</td><td>12.6207695</td><td>5357.7446</td><td>13.45972</td><td>1033.4044</td><td>11.727531</td><td>1741.8246</td><td>10.42</td><td>0.019</td><td>9.645</td><td>0.021</td><td>9.491</td><td>0.023</td></tr>\n",
       "<tr><td>14.179100862310325</td><td>62.789158472032895</td><td>2.444629248162441</td><td>0.054996095272730666</td><td>13.104</td><td>0.024</td><td>12.854</td><td>0.025</td><td>16.177656</td><td>1939.5986</td><td>17.190115</td><td>218.81122</td><td>15.180367</td><td>573.4896</td><td>13.824</td><td>0.026</td><td>12.929</td><td>0.03</td><td>12.835</td><td>0.023</td></tr>\n",
       "<tr><td>13.677578076033187</td><td>62.78927623993676</td><td>1.8507299789858689</td><td>0.030581585717059035</td><td>11.077</td><td>0.023</td><td>10.999</td><td>0.021</td><td>12.423212</td><td>5894.432</td><td>12.765771</td><td>1134.7705</td><td>11.920614</td><td>1188.2125</td><td>11.336</td><td>0.023</td><td>11.024</td><td>0.021</td><td>10.988</td><td>0.023</td></tr>\n",
       "<tr><td>15.022357441000072</td><td>62.78931405115571</td><td>1.239351293075222</td><td>0.03424146450913813</td><td>13.175</td><td>0.034</td><td>13.014</td><td>0.027</td><td>15.345183</td><td>1524.113</td><td>15.992885</td><td>276.85654</td><td>14.571928</td><td>541.2253</td><td>13.581</td><td>0.029</td><td>13.03</td><td>0.031</td><td>12.987</td><td>0.024</td></tr>\n",
       "<tr><td>13.28076778699134</td><td>62.789393853034845</td><td>0.7757158880294998</td><td>0.03818118358623369</td><td>13.017</td><td>0.036</td><td>12.779</td><td>0.023</td><td>15.721785</td><td>2500.8914</td><td>16.549227</td><td>236.00835</td><td>14.811541</td><td>717.34924</td><td>13.581</td><td>0.028</td><td>12.853</td><td>0.028</td><td>12.722</td><td>0.023</td></tr>\n",
       "<tr><td>13.499759999892788</td><td>62.78979923093894</td><td>1.5335901001927013</td><td>0.019868196693572402</td><td>11.587</td><td>0.03</td><td>11.416</td><td>0.02</td><td>13.101411</td><td>4104.8657</td><td>13.502029</td><td>1198.9406</td><td>12.534887</td><td>1907.2391</td><td>11.858</td><td>0.025</td><td>11.501</td><td>0.025</td><td>11.383</td><td>0.023</td></tr>\n",
       "<tr><td>14.795182303813606</td><td>62.79007616946185</td><td>1.101724307893989</td><td>0.02868335246437313</td><td>12.602</td><td>0.033</td><td>12.5</td><td>0.024</td><td>14.39179</td><td>3929.8623</td><td>14.893202</td><td>483.1725</td><td>13.734504</td><td>1075.0837</td><td>12.948</td><td>0.023</td><td>12.526</td><td>0.03</td><td>12.472</td><td>0.023</td></tr>\n",
       "<tr><td>13.8538791920358</td><td>62.79012412942304</td><td>1.2022193146711226</td><td>0.021106374706079744</td><td>12.14</td><td>0.021</td><td>12.031</td><td>0.023</td><td>13.978584</td><td>4996.8013</td><td>14.488865</td><td>1009.8918</td><td>13.316292</td><td>1392.6625</td><td>12.482</td><td>0.021</td><td>12.02</td><td>0.022</td><td>11.992</td><td>0.024</td></tr>\n",
       "</table>"
      ],
      "text/plain": [
       "<Table length=25496246>\n",
       "        ra                dec         ...  w1mpro w1mpro_error\n",
       "       deg                deg         ...   mag       mag     \n",
       "     float64            float64       ... float64   float64   \n",
       "------------------ ------------------ ... ------- ------------\n",
       "245.60890985779992 15.138096373883984 ...  13.984        0.064\n",
       " 295.2736692126975 25.330212432523595 ...  11.549        0.024\n",
       "246.28281654685398 14.752248845478498 ...  13.285        0.025\n",
       "294.23222089406846  34.13124981106596 ...  13.574        0.027\n",
       "246.65086682739724  15.02099307569786 ...  13.693        0.026\n",
       " 151.1750847259315 -46.80083670540702 ...  10.856        0.024\n",
       "295.20670608445107  34.32347848699651 ...  11.936        0.023\n",
       " 245.9748410566894 15.605668735959007 ...  12.917        0.025\n",
       " 246.5166704053596 14.877691797075395 ...  13.063        0.023\n",
       "               ...                ... ...     ...          ...\n",
       "16.131024024193007  62.78892619189302 ...  12.981        0.024\n",
       "11.826931920625869  62.78907244842648 ...  11.892        0.024\n",
       " 9.802591683914864  62.78909896074364 ...   9.491        0.023\n",
       "14.179100862310325 62.789158472032895 ...  12.835        0.023\n",
       "13.677578076033187  62.78927623993676 ...  10.988        0.023\n",
       "15.022357441000072  62.78931405115571 ...  12.987        0.024\n",
       " 13.28076778699134 62.789393853034845 ...  12.722        0.023\n",
       "13.499759999892788  62.78979923093894 ...  11.383        0.023\n",
       "14.795182303813606  62.79007616946185 ...  12.472        0.023\n",
       "  13.8538791920358  62.79012412942304 ...  11.992        0.024"
      ]
     },
     "execution_count": 7,
     "metadata": {},
     "output_type": "execute_result"
    }
   ],
   "source": [
    "data"
   ]
  },
  {
   "cell_type": "code",
   "execution_count": null,
   "metadata": {
    "collapsed": true
   },
   "outputs": [],
   "source": [
    "c = coord.SkyCoord(data['ra'], data['dec'], distance=1./data['parallax']/u.mas*u.kpc)\n",
    "galc = c.transform_to(coord.Galactic)\n",
    "galactic = c.transform_to(coord.Galactocentric)\n",
    "highlat = np.abs(galc.b) > 45*u.deg"
   ]
  },
  {
   "cell_type": "code",
   "execution_count": null,
   "metadata": {
    "collapsed": true
   },
   "outputs": [],
   "source": [
    "absmag = data['w2mpro'] - 5.*np.log10(1./(data['parallax']/1e2))\n",
    "color = data['h_m'] - data['w2mpro']"
   ]
  },
  {
   "cell_type": "code",
   "execution_count": null,
   "metadata": {
    "collapsed": true
   },
   "outputs": [],
   "source": [
    "def matrixize(data1, data2, err1, err2):\n",
    "    \"\"\"\n",
    "    vectorize the 2 pieces of data into a 2D mean and 2D covariance matrix\n",
    "    \"\"\"\n",
    "    X = np.vstack([data1, data2]).T\n",
    "    Xerr = np.zeros(X.shape + X.shape[-1:])\n",
    "    diag = np.arange(X.shape[-1])\n",
    "    Xerr[:, diag, diag] = np.vstack([err1**2., err2**2.]).T\n",
    "    return X, Xerr"
   ]
  },
  {
   "cell_type": "code",
   "execution_count": null,
   "metadata": {},
   "outputs": [],
   "source": [
    "colorErr = np.sqrt(data['h_msigcom']**2 + data['w2mpro_error']**2.)\n",
    "absmagErr = data['w2mpro_error']\n",
    "indices = highlat & (absmag < 2)\n",
    "print(np.sum(indices))"
   ]
  },
  {
   "cell_type": "code",
   "execution_count": null,
   "metadata": {},
   "outputs": [],
   "source": [
    "X, Xerr = matrixize(color[indices], absmag[indices], colorErr[indices], absmagErr[indices])\n",
    "try:\n",
    "    xdgmm = XDGMM(filename='rjce_lowdust.fits')\n",
    "except IOError:\n",
    "    xdgmm = XDGMM(method='Bovy')\n",
    "    xdgmm.n_components = 16\n",
    "    xdgmm = xdgmm.fit(X, Xerr)\n",
    "    xdgmm.save_model('rjce_lowdust.fits')\n",
    "sample = xdgmm.sample(np.sum(indices))"
   ]
  },
  {
   "cell_type": "code",
   "execution_count": null,
   "metadata": {
    "collapsed": true
   },
   "outputs": [],
   "source": [
    "xdgmm = XDGMM(filename='rjce_lowdust.fits')\n",
    "sample = xdgmm.sample(np.sum(indices))"
   ]
  },
  {
   "cell_type": "code",
   "execution_count": null,
   "metadata": {
    "collapsed": true
   },
   "outputs": [],
   "source": [
    "def plotXdgmm(xdgmm, ax, c='k', lw=1, label='prior', step=0.001):\n",
    "    ts = np.arange(0, 2. * np.pi, step) #magic\n",
    "    amps = xdgmm.weights\n",
    "    mus = xdgmm.mu\n",
    "    Vs = xdgmm.V\n",
    "    for gg in range(xdgmm.n_components):\n",
    "        if amps[gg] == np.max(amps):\n",
    "            label=label\n",
    "        else:\n",
    "            label=None\n",
    "        w, v = np.linalg.eigh(Vs[gg])\n",
    "        points = np.sqrt(w[0]) * (v[:, 0])[:,None] * (np.cos(ts))[None, :] + \\\n",
    "                 np.sqrt(w[1]) * (v[:, 1])[:,None] * (np.sin(ts))[None, :] + \\\n",
    "                 mus[gg][:, None]\n",
    "        ax.plot(points[0,:], points[1,:], c, lw=lw, alpha=amps[gg]/np.max(amps), rasterized=True, label=label)"
   ]
  },
  {
   "cell_type": "code",
   "execution_count": null,
   "metadata": {
    "collapsed": true
   },
   "outputs": [],
   "source": [
    "fig, ax = plt.subplots(1, 3, figsize=(30, 10))\n",
    "for a in ax: a.scatter(color[indices], absmag[indices], s=1, alpha=0.1)\n",
    "plotXdgmm(xdgmm, ax[1], lw=2)\n",
    "\n",
    "labels = ['data', 'gaussian mixture', 'samples']\n",
    "\n",
    "for a , l in zip(ax, labels):\n",
    "    a.set_xlabel('H-W2', fontsize=20)\n",
    "    a.set_ylabel('$M_{W2}$', fontsize=20)\n",
    "    a.set_xlim(0.25, 1.4)\n",
    "    a.set_ylim(21.5, 16)\n",
    "    a.set_title(l, fontsize=20)\n"
   ]
  },
  {
   "cell_type": "code",
   "execution_count": null,
   "metadata": {},
   "outputs": [],
   "source": [
    "sfddust, bayesdust = dust(data['ra'], data['dec'], 1./data['parallax']/u.mas*u.kpc, max_samples=10, \n",
    "                          mode='median')\n",
    "#bayesdust[np.isnan(bayesdust)] = 0.0"
   ]
  },
  {
   "cell_type": "markdown",
   "metadata": {},
   "source": [
    "## visualization of high latitude RJCE CMD"
   ]
  },
  {
   "cell_type": "code",
   "execution_count": null,
   "metadata": {},
   "outputs": [],
   "source": [
    "nbins = 50\n",
    "ybins = np.linspace(-5, 8, nbins)\n",
    "xbins = np.linspace(-.1, 1.0, nbins)\n",
    "\n",
    "H, xe, ye = np.histogram2d(color[highlat], \n",
    "                           absmag[highlat], \n",
    "                           bins=(xbins, ybins))\n",
    "im = plt.pcolormesh(xe, ye, H.T,\n",
    "      norm=mpl.colors.LogNorm(), cmap=plt.get_cmap('Blues'))#vmax=75))#, vmax=20) #, vmin=-100, vmax=100)\n",
    "im.set_rasterized(True)\n",
    "plt.gca().invert_yaxis()\n",
    "plt.xlabel('H - W2', fontsize=15)\n",
    "plt.ylabel('$M_{W2}$', fontsize=15)\n",
    "plt.colorbar()\n",
    "plt.axvline(0.08, c='black', linewidth=2, label='previous model')\n",
    "plt.legend(loc='upper right')\n",
    "plt.savefig('cmd_rjce.pdf')\n",
    "plt.savefig('cmd_rjce.png')"
   ]
  },
  {
   "cell_type": "code",
   "execution_count": null,
   "metadata": {},
   "outputs": [],
   "source": []
  },
  {
   "cell_type": "code",
   "execution_count": null,
   "metadata": {
    "collapsed": true
   },
   "outputs": [],
   "source": []
  },
  {
   "cell_type": "code",
   "execution_count": null,
   "metadata": {},
   "outputs": [],
   "source": []
  },
  {
   "cell_type": "code",
   "execution_count": null,
   "metadata": {},
   "outputs": [],
   "source": [
    "nbins = 50\n",
    "ybins = np.linspace(-5, 8, nbins)\n",
    "xbins = np.linspace(-.1, 1.0, nbins)\n",
    "\n",
    "H, xe, ye = np.histogram2d(color[indices], \n",
    "                           absmag[indices], \n",
    "                           bins=(xbins, ybins))\n",
    "im = plt.pcolormesh(xe, ye, H.T,\n",
    "      norm=mpl.colors.LogNorm(), cmap=plt.get_cmap('Blues'))#vmax=75))#, vmax=20) #, vmin=-100, vmax=100)\n",
    "im.set_rasterized(True)\n",
    "plt.gca().invert_yaxis()\n",
    "plt.xlabel('H - W2', fontsize=15)\n",
    "plt.ylabel('$M_{W2}$', fontsize=15)\n",
    "plt.colorbar()\n",
    "plt.axvline(0.08, c='black', linewidth=2, label='previous model')\n",
    "plt.legend(loc='upper right')\n",
    "plt.savefig('cmd_rjce.pdf')\n",
    "plt.savefig('cmd_rjce.png')"
   ]
  },
  {
   "cell_type": "code",
   "execution_count": null,
   "metadata": {},
   "outputs": [],
   "source": []
  },
  {
   "cell_type": "code",
   "execution_count": null,
   "metadata": {
    "collapsed": true
   },
   "outputs": [],
   "source": []
  },
  {
   "cell_type": "code",
   "execution_count": null,
   "metadata": {
    "collapsed": true
   },
   "outputs": [],
   "source": []
  },
  {
   "cell_type": "markdown",
   "metadata": {},
   "source": [
    "## Hacky test that there isn't much dust extinction at high lattitudes using 3D dust map, just to test"
   ]
  },
  {
   "cell_type": "code",
   "execution_count": null,
   "metadata": {},
   "outputs": [],
   "source": [
    "Q_H = 0.449\n",
    "dustvalues = bayesdust*Q_H\n",
    "dustvalues[np.isnan(dustvalues)] = 0.0\n",
    "\n",
    "fig, ax = plt.subplots(2, 4, figsize=(10, 5))\n",
    "ax = ax.flatten()\n",
    "\n",
    "nAbsMagbins = 9\n",
    "nColorbins = 30\n",
    "minAbsMag = -5\n",
    "maxAbsMag = 5\n",
    "absMagbins = np.linspace(minAbsMag, maxAbsMag, nAbsMagbins)\n",
    "#color=iter(plt.cm.Blues(np.linspace(0,1, nw2bins)))\n",
    "colorbins = np.linspace(0, 0.5, nColorbins)\n",
    "for i in range(nAbsMagbins-1):\n",
    "    ibin = (absmag > absMagbins[i]) & (absmag <= absMagbins[i+1])\n",
    "    ax[i].hist((color)[highlat & ibin], \n",
    "               bins=colorbins, histtype='step', log=True, \n",
    "               label='{0:.1f}<MW2<{1:.1f}'.format(absMagbins[i+1], absMagbins[i]))\n",
    "\n",
    "    ax[i].hist((color - dustvalues)[highlat & ibin], \n",
    "               bins=colorbins, histtype='step', log=True, \n",
    "               label='dust corrected')\n",
    "    ax[i].legend(loc='lower right')\n",
    "    ax[i].set_ylim(1,)\n",
    "    ax[i].axvline(0.08, color='black', label='prev model')\n",
    "plt.tight_layout()\n",
    "plt.savefig('cmd_slice_dust_rjce.pdf')\n",
    "plt.savefig('cmd_slice_dust_rjce.png')"
   ]
  },
  {
   "cell_type": "code",
   "execution_count": null,
   "metadata": {},
   "outputs": [],
   "source": [
    "colormin = -0.5\n",
    "colormax = 0.5\n",
    "absMagMin = -5\n",
    "absMagMax = 5\n",
    "fig, ax = plt.subplots(5, 5, figsize=(20, 20))\n",
    "ax = ax.flatten()\n",
    "\n",
    "nAbsMagbins = 26\n",
    "ncolorbins = 30\n",
    "absMagbins = np.linspace(absMagMin, absMagMax, nAbsMagbins)\n",
    "#color=iter(plt.cm.Blues(np.linspace(0, 1, nw2bins)))\n",
    "colorbins = np.linspace(colormin, colormax, ncolorbins)\n",
    "\n",
    "mean = np.zeros(nAbsMagbins - 1)\n",
    "std  = np.zeros(nAbsMagbins - 1)\n",
    "for i in range(nAbsMagbins-1):\n",
    "    ibin = (absmag > absMagbins[i]) & (absmag <= absMagbins[i+1])\n",
    "    ax[i].hist(color[highlat & ibin], \n",
    "               bins=colorbins, histtype='step', log=True, \n",
    "               label='{0:.1f}<MW2<{1:.1f}'.format(absMagbins[i+1], absMagbins[i]), normed=True)\n",
    "    ax[i].hist((color - dustvalues)[highlat & ibin], \n",
    "               bins=colorbins, histtype='step', log=True, color='black', normed=True, label=None)\n",
    "    ser = color[highlat & ibin]\n",
    "    lnspc = np.linspace(colormin, colormax, len(ser))\n",
    "    # lets try the normal distribution first\n",
    "    m, s = stats.norm.fit(ser) # get mean and standard deviation  \n",
    "    pdf_g = stats.norm.pdf(lnspc, m, s) # now get theoretical values in our interval  \n",
    "    ax[i].plot(lnspc, pdf_g, color='green') # plot itd\n",
    "    mean[i] = m\n",
    "    std[i] = s\n",
    "    \n",
    "    # exactly same as above\n",
    "    #ag,bg,cg = stats.alpha.fit(ser)  \n",
    "    #pdf_alpha = stats.alpha.pdf(lnspc, ag, bg,cg)  \n",
    "    #ax[i].plot(lnspc, pdf_alpha, color='red')\n",
    "\n",
    "    # guess what :) \n",
    "    #ab,bb,cb,db = stats.beta.fit(ser)  \n",
    "    #pdf_beta = stats.beta.pdf(lnspc, ab, bb,cb, db)  \n",
    "    #ax[i].plot(lnspc, pdf_beta, label=\"Beta\", color='purple')\n",
    "\n",
    "\n",
    "    ax[i].set_ylim(0.01,200)\n",
    "    ax[i].axvline(0.08, color='black', label='prev model')\n",
    "    ax[i].legend(loc='upper right')\n",
    "plt.tight_layout()\n",
    "plt.savefig('cmd_slice_fit_rjce.pdf')\n",
    "plt.savefig('cmd_slice_fit_rjce.png')"
   ]
  },
  {
   "cell_type": "code",
   "execution_count": null,
   "metadata": {
    "collapsed": true
   },
   "outputs": [],
   "source": [
    "class MixtureModel(scipy.stats.rv_continuous):\n",
    "    def __init__(self, submodels, *args, **kwargs):\n",
    "        super().__init__(*args, **kwargs)\n",
    "        self.submodels = submodels\n",
    "\n",
    "    def _pdf(self, x):\n",
    "        pdf = self.submodels[0].pdf(x)\n",
    "        for submodel in self.submodels[1:]:\n",
    "            pdf += submodel.pdf(x)\n",
    "        pdf /= len(self.submodels)\n",
    "        return pdf\n",
    "\n",
    "    def rvs(self, size):\n",
    "        submodel_choices = np.random.randint(len(self.submodels), size=size)\n",
    "        submodel_samples = [submodel.rvs(size=size) for submodel in self.submodels]\n",
    "        rvs = np.choose(submodel_choices, submodel_samples)\n",
    "        return rvs\n",
    "\n"
   ]
  },
  {
   "cell_type": "code",
   "execution_count": null,
   "metadata": {
    "collapsed": true
   },
   "outputs": [],
   "source": [
    "def lnlike(theta, x, y, yerr):\n",
    "    m, b, lnf = theta\n",
    "    model = m * x + b\n",
    "    inv_sigma2 = 1.0/(yerr**2 + model**2*np.exp(2*lnf))\n",
    "    return -0.5*(np.sum((y-model)**2*inv_sigma2 - np.log(inv_sigma2)))\n"
   ]
  },
  {
   "cell_type": "code",
   "execution_count": null,
   "metadata": {},
   "outputs": [],
   "source": [
    "colormin = -0.5\n",
    "colormax = 0.5\n",
    "absMagMin = -5\n",
    "absMagMax = 3\n",
    "fig, ax = plt.subplots(3, 5, figsize=(20, 15))\n",
    "ax = ax.flatten()\n",
    "\n",
    "nAbsMagbins = 16\n",
    "ncolorbins = 30\n",
    "absMagbins = np.linspace(absMagMin, absMagMax, nAbsMagbins)\n",
    "#color=iter(plt.cm.Blues(np.linspace(0, 1, nw2bins)))\n",
    "colorbins = np.linspace(colormin, colormax, ncolorbins)\n",
    "\n",
    "mean = np.zeros(nAbsMagbins - 1)\n",
    "std  = np.zeros(nAbsMagbins - 1)\n",
    "for i in range(nAbsMagbins-1):\n",
    "    ibin = (absmag > absMagbins[i]) & (absmag <= absMagbins[i+1])\n",
    "    ax[i].hist(color[highlat & ibin], \n",
    "               bins=colorbins, histtype='step', log=True, \n",
    "               label='{0:.1f}<MW2<{1:.1f}'.format(absMagbins[i+1], absMagbins[i]), normed=True)\n",
    "    ax[i].hist((color - dustvalues)[highlat & ibin], \n",
    "               bins=colorbins, histtype='step', log=True, color='black', normed=True, label=None)\n",
    "    ser = color[highlat & ibin]\n",
    "    lnspc = np.linspace(colormin, colormax, len(ser))\n",
    "    # lets try the normal distribution first\n",
    "    m, s = stats.norm.fit(ser) # get mean and standard deviation  \n",
    "    pdf_g = stats.norm.pdf(lnspc, m, s) # now get theoretical values in our interval  \n",
    "    ax[i].plot(lnspc, pdf_g, color='green') # plot it\n",
    "    mean[i] = m\n",
    "    std[i] = s\n",
    "    \n",
    "    \n",
    "    a, loc, scale = stats.skewnorm.fit(ser)\n",
    "    print(a, loc, scale)\n",
    "    pdf_skew = stats.skewnorm.pdf(lnspc, a, loc=loc, scale=scale)\n",
    "    ax[i].plot(lnspc, pdf_skew, color='purple')\n",
    "    \n",
    "    \"\"\"\n",
    "    mixture_model = MixtureModel([stats.norm(m, s), stats.lognorm(shape, loc=loc, scale=scale)])\n",
    "    #x_axis = np.arange(-6, 6, 0.001)\n",
    "    mixture_pdf = mixture_model.pdf(lnspc)\n",
    "    #mixture_rvs = mixture_gaussian_model.rvs(10)\n",
    "    ax[i].plot(lnspc, mixture_pdf, color='red')\n",
    "    \n",
    "\n",
    "    mixture_model = MixtureModel([stats.norm(m, s), stats.lognorm(shape*2., loc=loc, scale=scale)])\n",
    "    #x_axis = np.arange(-6, 6, 0.001)\n",
    "    mixture_pdf = mixture_model.pdf(lnspc)\n",
    "    #mixture_rvs = mixture_gaussian_model.rvs(10)\n",
    "    ax[i].plot(lnspc, mixture_pdf, color='blue')\n",
    "\n",
    "    # exactly same as above\n",
    "    ag,bg,cg = stats.alpha.fit(ser)  \n",
    "    pdf_alpha = stats.alpha.pdf(lnspc, ag, bg,cg)  \n",
    "    ax[i].plot(lnspc, pdf_alpha, color='red')\n",
    "    \"\"\"\n",
    "    # guess what :) \n",
    "    #ab,bb,cb,db = stats.beta.fit(ser)  \n",
    "    #pdf_beta = stats.beta.pdf(lnspc, ab, bb,cb, db)  \n",
    "    #ax[i].plot(lnspc, pdf_beta, label=\"Beta\", color='purple')\n",
    "\n",
    "\n",
    "    ax[i].set_ylim(0.01,200)\n",
    "    ax[i].axvline(0.08, color='black', label='prev model')\n",
    "    ax[i].legend(loc='upper right')\n",
    "plt.tight_layout()\n"
   ]
  },
  {
   "cell_type": "code",
   "execution_count": null,
   "metadata": {},
   "outputs": [],
   "source": [
    "\n",
    "fig, ax = plt.subplots(1,2, figsize=(7.5,3))\n",
    "absmagx = np.linspace(-1.8, 4, 100)\n",
    "ax[0].plot(0.5*(absMagbins[1:] + absMagbins[:-1]), mean, label='fit value')\n",
    "cubmean = np.polyfit(0.5*(absMagbins[1:] + absMagbins[:-1]), mean, 9)\n",
    "fcubmean = np.poly1d(cubmean)\n",
    "absmagxnew = np.linspace(-5., 4, 100)\n",
    "ax[0].plot(absmagxnew, fcubmean(absmagxnew), label='fit fit value')\n",
    "ax[1].plot(0.5*(absMagbins[1:] + absMagbins[:-1]), std, label='fit value')\n",
    "ax[1].axhline(0.05, color='black', label='used value')\n",
    "ax[0].legend()\n",
    "ax[1].legend()\n",
    "for a in ax: a.set_xlabel('$M_{W2}$')\n",
    "ax[0].set_ylabel('mean')\n",
    "ax[1].set_ylabel('std')\n",
    "plt.tight_layout()\n",
    "plt.savefig('cmd_slice_mean_std_rjce.pdf')\n",
    "plt.savefig('cmd_slice_mean_std_rjce.png')"
   ]
  },
  {
   "cell_type": "markdown",
   "metadata": {},
   "source": [
    "## Visualization of fit on CMD"
   ]
  },
  {
   "cell_type": "code",
   "execution_count": null,
   "metadata": {},
   "outputs": [],
   "source": [
    "nbins = 50\n",
    "ybins = np.linspace(-6, 8, nbins)\n",
    "xbins = np.linspace(-.1, 1.0, nbins)\n",
    "\n",
    "H, xe, ye = np.histogram2d(color[highlat], \n",
    "                           absmag[highlat], \n",
    "                           bins=(xbins, ybins))\n",
    "im = plt.pcolormesh(xe, ye, H.T,\n",
    "      norm=mpl.colors.LogNorm(), cmap=plt.get_cmap('Blues'))#vmax=75))#, vmax=20) #, vmin=-100, vmax=100)\n",
    "im.set_rasterized(True)\n",
    "plt.gca().invert_yaxis()\n",
    "plt.xlabel('H - W2', fontsize=15)\n",
    "plt.ylabel('$M_{W2}$', fontsize=15)\n",
    "plt.colorbar()\n",
    "plt.axvline(0.08, c='grey', linewidth=1)\n",
    "plt.savefig('cmd_rjce.pdf')\n",
    "plt.savefig('cmd_rjce.png')\n",
    "plt.plot(mean, 0.5*(absMagbins[1:] + absMagbins[:-1]))\n",
    "plt.plot(mean-std, 0.5*(absMagbins[1:] + absMagbins[:-1]), c='grey')\n",
    "plt.plot(mean+std, 0.5*(absMagbins[1:] + absMagbins[:-1]), c='grey')\n",
    "\n",
    "plt.plot(fcubmean(absmagxnew), absmagxnew)\n",
    "plt.plot(fcubmean(absmagxnew) - 0.05, absmagxnew, c='black')\n",
    "plt.plot(fcubmean(absmagxnew) + 0.05, absmagxnew, c='black')\n",
    "plt.axhline(3., color = 'black')"
   ]
  },
  {
   "cell_type": "code",
   "execution_count": null,
   "metadata": {},
   "outputs": [],
   "source": [
    "nbins = 50\n",
    "ybins = np.linspace(-6, 8, nbins)\n",
    "xbins = np.linspace(-.1, 1.0, nbins)\n",
    "\n",
    "H, xe, ye = np.histogram2d(color[highlat], \n",
    "                           absmag[highlat], \n",
    "                           bins=(xbins, ybins))\n",
    "im = plt.pcolormesh(xe, ye, H.T,\n",
    "      norm=mpl.colors.LogNorm(), cmap=plt.get_cmap('Blues'))#vmax=75))#, vmax=20) #, vmin=-100, vmax=100)\n",
    "im.set_rasterized(True)\n",
    "plt.gca().invert_yaxis()\n",
    "plt.xlabel('H - W2', fontsize=15)\n",
    "plt.ylabel('$M_{W2}$', fontsize=15)\n",
    "plt.colorbar()\n",
    "#plt.axvline(0.08, c='grey', linewidth=1)\n",
    "plt.savefig('cmd_rjce.pdf')\n",
    "plt.savefig('cmd_rjce.png')\n",
    "#plt.plot(mean, 0.5*(absMagbins[1:] + absMagbins[:-1]))\n",
    "#plt.plot(mean-std, 0.5*(absMagbins[1:] + absMagbins[:-1]), c='grey')\n",
    "#plt.plot(mean+std, 0.5*(absMagbins[1:] + absMagbins[:-1]), c='grey')\n",
    "\n",
    "plt.plot(fcubmean(absmagxnew), absmagxnew, c='black', alpha=0.5)\n",
    "plt.plot(fcubmean(absmagxnew) - 0.05, absmagxnew, c='black', alpha=0.5, linestyle='--')\n",
    "plt.plot(fcubmean(absmagxnew) + 0.05, absmagxnew, c='black', alpha=0.5, linestyle='--')\n",
    "plt.axhline(1., color = 'black', alpha=0.5)\n",
    "plt.axhline(-5, color='black', alpha=0.5)"
   ]
  },
  {
   "cell_type": "markdown",
   "metadata": {},
   "source": [
    "## Visualization of fit on full distribution, not just high lat"
   ]
  },
  {
   "cell_type": "code",
   "execution_count": null,
   "metadata": {},
   "outputs": [],
   "source": [
    "fig, ax = plt.subplots(1, 2, figsize=(10, 5))\n",
    "nbins = 100\n",
    "ybins = np.linspace(-5, 1, nbins)\n",
    "xbins = np.linspace(-0.5, 5.0, nbins)\n",
    "\n",
    "H, xe, ye = np.histogram2d(color, \n",
    "                           absmag, \n",
    "                           bins=(xbins, ybins))\n",
    "for a in ax:\n",
    "    im = a.pcolormesh(xe, ye, H.T,\n",
    "      norm=mpl.colors.LogNorm(), cmap=plt.get_cmap('Blues'))#vmax=75))#, vmax=20) #, vmin=-100, vmax=100)\n",
    "    im.set_rasterized(True)\n",
    "    a.set_xlabel('H - W2', fontsize=15)\n",
    "    a.set_ylabel('$M_{W2}$', fontsize=15)\n",
    "\n",
    "    a.plot(mean, 0.5*(absMagbins[1:] + absMagbins[:-1]))\n",
    "    a.plot(mean-std, 0.5*(absMagbins[1:] + absMagbins[:-1]), c='grey')\n",
    "    a.plot(mean+std, 0.5*(absMagbins[1:] + absMagbins[:-1]), c='grey')\n",
    "\n",
    "    a.plot(fcubmean(absmagxnew), absmagxnew)\n",
    "    a.plot(fcubmean(absmagxnew) - 0.05, absmagxnew, c='black')\n",
    "    a.plot(fcubmean(absmagxnew) + 0.05, absmagxnew, c='black')\n",
    "    a.set_ylim(1, -5)\n",
    "ax[1].set_xlim(-1, 1)\n",
    "plt.colorbar(im)"
   ]
  },
  {
   "cell_type": "markdown",
   "metadata": {},
   "source": [
    "## Position on sky of high extincted stars !! "
   ]
  },
  {
   "cell_type": "code",
   "execution_count": null,
   "metadata": {},
   "outputs": [],
   "source": [
    "plt.scatter(galc.l[color > 1], galc.b[color > 1], alpha=0.1, s=1)\n",
    "plt.xlabel('l')\n",
    "plt.ylabel('b')\n",
    "plt.axvline(210, zorder = -1, alpha=0.1)\n",
    "plt.axhline(-20, zorder = -1, alpha=0.1)"
   ]
  },
  {
   "cell_type": "code",
   "execution_count": null,
   "metadata": {
    "collapsed": true
   },
   "outputs": [],
   "source": [
    "Ak_all = 0.918*(color - fcubmean(absmag))\n",
    "varAk_all = 0.918**2.*(data['h_msigcom']**2 + data['w2mpro_error']**2 + 0.05**2)\n",
    "Q_K  = 0.302"
   ]
  },
  {
   "cell_type": "markdown",
   "metadata": {},
   "source": [
    "## Grab stars that are in the brightness range where the distribution is well behaved, the dust values and variances are not nans, gets us down to about 2 Million"
   ]
  },
  {
   "cell_type": "code",
   "execution_count": null,
   "metadata": {},
   "outputs": [],
   "source": [
    "works = (absmag > -5) & (absmag < 1)# & (color < 1)\n",
    "lowext = color < 1\n",
    "notnan = ~np.isnan(Ak_all) & ~np.isnan(varAk_all)\n",
    "print(np.sum(works & notnan))\n",
    "Ak = Ak_all[works & notnan]\n",
    "varAk = varAk_all[works & notnan]\n",
    "galcord = galactic[works & notnan]\n",
    "galangle = galc[works & notnan]"
   ]
  },
  {
   "cell_type": "code",
   "execution_count": null,
   "metadata": {},
   "outputs": [],
   "source": [
    "plt.plot(fcubmean(absmag[works]), absmag[works], 'ko', markersize=1, alpha=0.1, zorder=99)\n",
    "nbins = 50\n",
    "ybins = np.linspace(-5, 1, nbins)\n",
    "xbins = np.linspace(-0.4, 0.8, nbins)\n",
    "\n",
    "H, xe, ye = np.histogram2d(0.918*(color[works] - fcubmean(absmag[works])), \n",
    "                           absmag[works], \n",
    "                           bins=(xbins, ybins))\n",
    "im = plt.pcolormesh(xe, ye, H.T,\n",
    "      norm=mpl.colors.LogNorm(), cmap=plt.get_cmap('Blues'))#vmax=75))#, vmax=20) #, vmin=-100, vmax=100)\n",
    "im.set_rasterized(True)\n",
    "\n",
    "plt.gca().invert_yaxis()"
   ]
  },
  {
   "cell_type": "markdown",
   "metadata": {},
   "source": [
    "## Compare RJCE dust values to 3D dust map"
   ]
  },
  {
   "cell_type": "code",
   "execution_count": null,
   "metadata": {},
   "outputs": [],
   "source": [
    "nbins = 50\n",
    "ybins = np.linspace(-0.1, 0.5, nbins)\n",
    "xbins = np.linspace(-0.1, 0.5, nbins)\n",
    "\n",
    "H, xe, ye = np.histogram2d(bayesdust[works  & notnan]*Q_K, \n",
    "                           Ak, \n",
    "                           bins=(xbins, ybins))\n",
    "im = plt.pcolormesh(xe, ye, H.T,\n",
    "      norm=mpl.colors.LogNorm(), cmap=plt.get_cmap('Blues'), vmin=1e2)#vmax=75))#, vmax=20) #, vmin=-100, vmax=100)\n",
    "im.set_rasterized(True)\n",
    "plt.xlabel('3D dust', fontsize=15)\n",
    "plt.ylabel('RJCE dust', fontsize=15)\n",
    "plt.colorbar()\n",
    "plt.plot([-0.1, 0.5],[-0.1, 0.5], c='black', linewidth=2)\n",
    "plt.savefig('rjce_3ddust_comparison.pdf')\n",
    "plt.savefig('rjce_3ddust_comparison.png')"
   ]
  },
  {
   "cell_type": "code",
   "execution_count": null,
   "metadata": {},
   "outputs": [],
   "source": [
    "AG, Abp, Arp = getDust(data['phot_g_mean_mag'][works & notnan], \n",
    "                       data['phot_bp_mean_mag'][works & notnan], \n",
    "                       data['phot_rp_mean_mag'][works & notnan], Ak/Q_K)\n",
    "AGbayes, Abpbayes, Arpbayes = getDust(data['phot_g_mean_mag'][works & notnan], \n",
    "                       data['phot_bp_mean_mag'][works & notnan], \n",
    "                       data['phot_rp_mean_mag'][works & notnan], bayesdust[works & notnan])"
   ]
  },
  {
   "cell_type": "markdown",
   "metadata": {},
   "source": [
    "## Test dust values on Gaia CMD"
   ]
  },
  {
   "cell_type": "code",
   "execution_count": null,
   "metadata": {},
   "outputs": [],
   "source": [
    "fig, ax = plt.subplots(1, 2)\n",
    "bright = absmag < -2\n",
    "notnanbayes = ~np.isnan(bayesdust)\n",
    "ax[0].hist(bayesdust[works & notnan & notnanbayes], bins=100, histtype='step', log=True, linewidth=2, label='3D dust map')\n",
    "ax[0].hist(Ak_all[works & notnan]/Q_K, bins=100, histtype='step', log=True, linewidth=2, label='RJCE')\n",
    "ax[0].set_title('dust values comparison')\n",
    "ax[0].set_xlabel('E(B-V)')\n",
    "ax[1].hist(np.sqrt(varAk_all[works & notnan])/Q_K, bins=100, histtype='step', log=True, linewidth=2, label='RJCE')\n",
    "ax[0].axvline(0.08 + 3*0.18, color='grey', zorder=-1)\n",
    "ax[0].axvline(0.08 - 3*0.18, color='grey', zorder=-1)\n",
    "for a in ax:a.set_ylim(10,)\n",
    "ax[0].set_xlim(-3, 10)\n",
    "plt.savefig('compare3DRJCE.png')"
   ]
  },
  {
   "cell_type": "code",
   "execution_count": null,
   "metadata": {},
   "outputs": [],
   "source": [
    "fig, ax = plt.subplots(1,3, figsize=(15, 5))\n",
    "absmagGaia = data['phot_g_mean_mag'] - 5.*np.log10(1./(data['parallax']/1e2))\n",
    "nbins = 300\n",
    "ybins = np.linspace(-3, 8, nbins)\n",
    "xbins = np.linspace(-1, 3, nbins)\n",
    "\n",
    "H, xe, ye = np.histogram2d(data['phot_bp_mean_mag'][works & notnan] - \n",
    "                           data['phot_rp_mean_mag'][works & notnan], \n",
    "                           absmagGaia[works & notnan], bins=(xbins, ybins))\n",
    "im = ax[0].pcolormesh(xe, ye, H.T + 1,\n",
    "      norm=mpl.colors.LogNorm(), cmap=plt.get_cmap('Blues'))#vmax=75))#, vmax=20) #, vmin=-100, vmax=100)\n",
    "im.set_rasterized(True)\n",
    "ax[0].set_title('Raw')\n",
    "\n",
    "H, xe, ye = np.histogram2d(data['phot_bp_mean_mag'][works & notnan] - \n",
    "                           data['phot_rp_mean_mag'][works & notnan] - \n",
    "                           (np.clip(Abp, 0.0, None) - np.clip(Arp, 0.0, None)), \n",
    "                           absmagGaia[works & notnan] - np.clip(AG, 0.0, None), bins=(xbins, ybins))\n",
    "im = ax[1].pcolormesh(xe, ye, H.T + 1,\n",
    "      norm=mpl.colors.LogNorm(), cmap=plt.get_cmap('Blues'))#vmax=75))#, vmax=20) #, vmin=-100, vmax=100)\n",
    "im.set_rasterized(True)\n",
    "ax[1].set_title('RJCE Corrected')\n",
    "\n",
    "H, xe, ye = np.histogram2d(data['phot_bp_mean_mag'][works & notnan] - \n",
    "                           data['phot_rp_mean_mag'][works & notnan] - \n",
    "                           (np.clip(Abpbayes, 0.0, None) - np.clip(Arpbayes, 0.0, None)), \n",
    "                           absmagGaia[works & notnan] - np.clip(AGbayes, 0.0, None), bins=(xbins, ybins))\n",
    "im = ax[2].pcolormesh(xe, ye, H.T + 1,\n",
    "      norm=mpl.colors.LogNorm(), cmap=plt.get_cmap('Blues'))#vmax=75))#, vmax=20) #, vmin=-100, vmax=100)\n",
    "im.set_rasterized(True)\n",
    "ax[2].set_title('3D Corrected')\n",
    "\n",
    "for a in ax: \n",
    "    a.invert_yaxis()\n",
    "    a.set_xlabel('bp - rp', fontsize=15)\n",
    "    a.set_ylabel('M G', fontsize=15)\n",
    "plt.colorbar(im)\n",
    "plt.savefig('cmd_rjceCorrected.pdf')\n",
    "plt.tight_layout()"
   ]
  },
  {
   "cell_type": "markdown",
   "metadata": {},
   "source": [
    "## Visualizations of dust values on sky"
   ]
  },
  {
   "cell_type": "code",
   "execution_count": null,
   "metadata": {
    "collapsed": true
   },
   "outputs": [],
   "source": [
    "xmin = -11; xmax = -6\n",
    "ymin = -3; ymax = 3\n",
    "zmin = -2; zmax = 2\n",
    "\n",
    "\n",
    "nbins = 500\n",
    "xbins = np.linspace(xmin, xmax, nbins)\n",
    "ybins = np.linspace(ymin, ymax, nbins)\n",
    "zbins = np.linspace(zmin, zmax, nbins)"
   ]
  },
  {
   "cell_type": "code",
   "execution_count": null,
   "metadata": {},
   "outputs": [],
   "source": [
    "fig, ax = plt.subplots(1,3, figsize=(15, 5))\n",
    "\n",
    "H, xe, ye = np.histogram2d(galactic.x, \n",
    "                           galactic.y, bins=(xbins, ybins))\n",
    "im = ax[0].pcolormesh(xe, ye, H.T,\n",
    "      norm=mpl.colors.LogNorm(), cmap=plt.get_cmap('Blues'))#vmax=75))#, vmax=20) #, vmin=-100, vmax=100)\n",
    "im.set_rasterized(True)\n",
    "ax[0].set_xlabel('X'); ax[0].set_ylabel('Y')\n",
    "\n",
    "H, xe, ye = np.histogram2d(galactic.x, \n",
    "                           galactic.z, bins=(xbins, zbins))\n",
    "im = ax[1].pcolormesh(xe, ye, H.T,\n",
    "      norm=mpl.colors.LogNorm(), cmap=plt.get_cmap('Blues'))#vmax=75))#, vmax=20) #, vmin=-100, vmax=100)\n",
    "im.set_rasterized(True)\n",
    "ax[1].set_xlabel('X'); ax[1].set_ylabel('Z')\n",
    "\n",
    "H, xe, ye = np.histogram2d(galactic.y, \n",
    "                           galactic.z, bins=(ybins, zbins))\n",
    "im = ax[2].pcolormesh(xe, ye, H.T,\n",
    "      norm=mpl.colors.LogNorm(), cmap=plt.get_cmap('Blues'))#vmax=75))#, vmax=20) #, vmin=-100, vmax=100)\n",
    "im.set_rasterized(True)\n",
    "ax[2].set_xlabel('Y'); ax[2].set_ylabel('Z')\n",
    "\n",
    "\n",
    "plt.colorbar(im)\n",
    "plt.savefig('cmd_rjceCorrected.pdf')\n",
    "plt.tight_layout()"
   ]
  },
  {
   "cell_type": "code",
   "execution_count": null,
   "metadata": {},
   "outputs": [],
   "source": [
    "fig, ax = plt.subplots(1,3, figsize=(15, 5))\n",
    "H, xe, ye = np.histogram2d(galcord.x, \n",
    "                           galcord.y, bins=(xbins, ybins))\n",
    "im = ax[0].pcolormesh(xe, ye, H.T,\n",
    "      norm=mpl.colors.LogNorm(), cmap=plt.get_cmap('Blues'))#vmax=75))#, vmax=20) #, vmin=-100, vmax=100)\n",
    "im.set_rasterized(True)\n",
    "ax[0].set_xlabel('X'); ax[0].set_ylabel('Y')\n",
    "\n",
    "H, xe, ye = np.histogram2d(galcord.x, \n",
    "                           galcord.z, bins=(xbins, zbins))\n",
    "im = ax[1].pcolormesh(xe, ye, H.T,\n",
    "      norm=mpl.colors.LogNorm(), cmap=plt.get_cmap('Blues'))#vmax=75))#, vmax=20) #, vmin=-100, vmax=100)\n",
    "im.set_rasterized(True)\n",
    "ax[1].set_xlabel('X'); ax[1].set_ylabel('Z')\n",
    "\n",
    "H, xe, ye = np.histogram2d(galcord.y, \n",
    "                           galcord.z, bins=(ybins, zbins))\n",
    "im = ax[2].pcolormesh(xe, ye, H.T,\n",
    "      norm=mpl.colors.LogNorm(), cmap=plt.get_cmap('Blues'))#vmax=75))#, vmax=20) #, vmin=-100, vmax=100)\n",
    "im.set_rasterized(True)\n",
    "ax[2].set_xlabel('Y'); ax[2].set_ylabel('Z')\n",
    "\n",
    "\n",
    "plt.colorbar(im)\n",
    "plt.savefig('cmd_rjceCorrected.pdf')\n",
    "plt.tight_layout()"
   ]
  },
  {
   "cell_type": "code",
   "execution_count": null,
   "metadata": {
    "collapsed": true
   },
   "outputs": [],
   "source": [
    "nbins = 500\n",
    "\n",
    "xbins = np.linspace(xmin, xmax, nbins)\n",
    "ybins = np.linspace(ymin, ymax, nbins)\n",
    "zbins = np.linspace(zmin, zmax, nbins)\n",
    "\n",
    "H, xe, ye = np.histogram2d(galcord.x, \n",
    "                           galcord.y, bins=(xbins, ybins))\n",
    "H, xe, ze = np.histogram2d(galcord.x, \n",
    "                           galcord.z, bins=(xbins, zbins))\n",
    "\n",
    "#dustmean = scipy.stats.binned_statistic_dd([galcord.x, galcord.y, galcord.z], Ak, bins=[xe, ye, ze])\n",
    "#dustmean.statistic[np.isnan(dustmean.statistic)] = 0.0\n"
   ]
  },
  {
   "cell_type": "code",
   "execution_count": null,
   "metadata": {},
   "outputs": [],
   "source": [
    "vmin = 1e-5\n",
    "vmax = 5e-3\n",
    "fig, ax = plt.subplots(3,3, figsize=(15, 15))\n",
    "xedge = [xe, xe, ye]\n",
    "yedge = [ye, ze, ze]\n",
    "zedge = [np.linspace(zmin, zmax, 4), \n",
    "         np.linspace(ymin, ymax, 4),\n",
    "         np.linspace(xmin, xmax, 4)]\n",
    "\n",
    "titles = ['Below the Plane', 'Midplane', 'Above the Plane']\n",
    "xx = [galcord.x, galcord.x, galcord.y]\n",
    "yy = [galcord.y, galcord.z, galcord.z]\n",
    "zz = [galcord.z, galcord.y, galcord.x]\n",
    "axis = [2, 1, 0]\n",
    "xlabels = ['X', 'X', 'Y']\n",
    "ylabels = ['Y', 'Z', 'Z']\n",
    "for i, a in enumerate(ax):\n",
    "    for j in range(3):\n",
    "        im = a[j].pcolormesh(xedge[i], yedge[i], scipy.stats.binned_statistic_dd([xx[i], yy[i], zz[i]], Ak, bins=[xedge[i], yedge[i], zedge[i]], statistic='mean').statistic[:,:,j].T,\n",
    "      norm=mpl.colors.LogNorm(vmin=1e-4, vmax=1e-0), cmap=plt.get_cmap('Blues'))#vmax=75))#, vmax=20) #, vmin=-100, vmax=100)\n",
    "        im.set_rasterized(True)\n",
    "        if i == 0: a[j].set_title(titles[j])\n",
    "        a[j].set_xlabel(xlabels[i]); a[j].set_ylabel(ylabels[i])\n",
    "plt.colorbar(im)\n",
    "\n",
    "plt.tight_layout()"
   ]
  },
  {
   "cell_type": "markdown",
   "metadata": {},
   "source": [
    "vmin = 1e-5\n",
    "vmax = 5e-3\n",
    "fig, ax = plt.subplots(3,3, figsize=(15, 15))\n",
    "xedge = [xe, xe, ye]\n",
    "yedge = [ye, ze, ze]\n",
    "zedge = [np.linspace(zmin, zmax, 4), \n",
    "         np.linspace(ymin, ymax, 4),\n",
    "         np.linspace(xmin, xmax, 4)]\n",
    "\n",
    "titles = ['Below the Plane', 'Midplane', 'Above the Plane']\n",
    "xx = [galcord.x, galcord.x, galcord.y]\n",
    "yy = [galcord.y, galcord.z, galcord.z]\n",
    "zz = [galcord.z, galcord.y, galcord.x]\n",
    "axis = [2, 1, 0]\n",
    "xlabels = ['X', 'X', 'Y']\n",
    "ylabels = ['Y', 'Z', 'Z']\n",
    "for i, a in enumerate(ax):\n",
    "    for j in range(3):\n",
    "        im = a[j].pcolormesh(xedge[i], yedge[i], scipy.stats.binned_statistic_dd([xx[i], yy[i], zz[i]], Ak, bins=[xedge[i], yedge[i], zedge[i]], statistic='median').statistic[:,:,j].T,\n",
    "      norm=mpl.colors.LogNorm(vmin=1e-4, vmax=1e-0), cmap=plt.get_cmap('Blues'))#vmax=75))#, vmax=20) #, vmin=-100, vmax=100)\n",
    "        im.set_rasterized(True)\n",
    "        if i == 0: a[j].set_title(titles[j])\n",
    "        a[j].set_xlabel(xlabels[i]); a[j].set_ylabel(ylabels[i])\n",
    "plt.colorbar(im)\n",
    "\n",
    "plt.tight_layout()"
   ]
  },
  {
   "cell_type": "code",
   "execution_count": null,
   "metadata": {},
   "outputs": [],
   "source": [
    "np.random.seed(0)\n",
    "probs = np.clip(Ak, 0.0, None)/np.sum(np.clip(Ak, 0.0, None))\n",
    "randindex = np.random.choice(len(Ak), size=500, replace=False, p=probs)\n",
    "#randindex = np.random.randint(0, len(Ak), 1000)\n",
    "#randindex = (np.abs(galcord.x - -8.5*u.kpc) < 0.05*u.kpc) & (np.abs(galcord.z - -0.1*u.kpc) < 0.05*u.kpc) & (np.abs(galcord.y - 0.25*u.kpc) < 0.05*u.kpc)\n",
    "print(np.sum(randindex))\n",
    "fig, ax = plt.subplots(3, figsize=(30, 6))\n",
    "for a, coordinate in zip(ax, [galcord.x, galcord.y, galcord.z]):\n",
    "    a.plot(coordinate[randindex], Ak[randindex], 'ko', markersize=1)\n",
    "    a.errorbar(coordinate[randindex].value, Ak[randindex], yerr=np.sqrt(varAk[randindex]), fmt=None)"
   ]
  },
  {
   "cell_type": "code",
   "execution_count": null,
   "metadata": {
    "collapsed": true
   },
   "outputs": [],
   "source": [
    "import george"
   ]
  },
  {
   "cell_type": "code",
   "execution_count": null,
   "metadata": {
    "collapsed": true
   },
   "outputs": [],
   "source": [
    "def expsq_kernel(alpha, dx):\n",
    "    \"\"\"\n",
    "    The exponential-squared kernel function. The difference matrix\n",
    "    can be an arbitrarily shaped numpy array so make sure that you\n",
    "    use functions like ``numpy.exp`` for exponentiation.\n",
    "    \n",
    "    :param alpha: ``(2,)`` The parameter vector ``(amp, ell)``.\n",
    "    :param dx: ``numpy.array`` The difference matrix. This can be\n",
    "        a numpy array with arbitrary shape.\n",
    "    \n",
    "    :returns K: The kernel matrix (should be the same shape as the\n",
    "        input ``dx``). \n",
    "    \n",
    "    \"\"\"\n",
    "    amp, ell = alpha\n",
    "    return amp**2*np.exp(-0.5*(dx/ell)**2)"
   ]
  },
  {
   "cell_type": "code",
   "execution_count": null,
   "metadata": {},
   "outputs": [],
   "source": [
    "np.mean(Ak[Ak> 0])"
   ]
  },
  {
   "cell_type": "code",
   "execution_count": null,
   "metadata": {},
   "outputs": [],
   "source": [
    "fig, ax = plt.subplots(1, 2, figsize=(10, 5))\n",
    "l = 120\n",
    "b = 25\n",
    "colorlimit = 0.8\n",
    "ax[0].scatter(galc.l[color > colorlimit], galc.b[color > colorlimit], alpha=0.1, s=1)\n",
    "ax[0].set_xlabel('l')\n",
    "ax[0].set_ylabel('b')\n",
    "ax[0].axvline(l, zorder = -1, alpha=0.1)\n",
    "ax[0].axhline(b, zorder = -1, alpha=0.1)\n",
    "\n",
    "width = 10\n",
    "ax[1].scatter(galc.l[color > colorlimit], \n",
    "              galc.b[color > colorlimit], alpha=0.1, s=1)\n",
    "ax[1].set_xlabel('l')\n",
    "ax[1].set_ylabel('b')\n",
    "ax[1].axvline(l, zorder = -1, alpha=0.1)\n",
    "ax[1].axhline(b, zorder = -1, alpha=0.1)\n",
    "ax[1].set_xlim(l - width, l + width)\n",
    "ax[1].set_ylim(b - width, b + width)"
   ]
  },
  {
   "cell_type": "code",
   "execution_count": null,
   "metadata": {},
   "outputs": [],
   "source": [
    "nside=128\n",
    "print('Pixel area is: ', hp.nside2pixarea(nside, degrees=True)*u.deg)\n",
    "pixels = hp.ang2pix(nside, galangle.l.value, galangle.b.value, lonlat=True)\n",
    "print('Number of pixels is: ', hp.nside2npix(nside))\n",
    "randindex = pixels == hp.ang2pix(nside, l, b, lonlat=True)\n",
    "#randindex = np.random.randint(0, len(Ak), 1000)\n",
    "#randindex = (np.abs(galcord.x - -8.5*u.kpc) < 0.05*u.kpc) & (np.abs(galcord.z - -0.1*u.kpc) < 0.05*u.kpc) & (np.abs(galcord.y - 0.25*u.kpc) < 0.05*u.kpc)\n",
    "print(np.sum(randindex))\n",
    "fig, ax = plt.subplots(4, figsize=(15, 6))\n",
    "for a, coordinate, label in zip(ax, [galcord.x, galcord.y, galcord.z], ['X', 'Y', 'Z']):\n",
    "    a.plot(coordinate[randindex], Ak[randindex], 'ko', markersize=1)\n",
    "    a.errorbar(coordinate[randindex].value, Ak[randindex], yerr=np.sqrt(varAk[randindex]), fmt=None)\n",
    "    a.axhline(0.0, linewidth=0.5, alpha=0.5, color='k')\n",
    "    a.set_xlabel(label)\n",
    "ax[3].plot(galangle[randindex].distance, Ak[randindex], 'ko', markersize=1)\n",
    "ax[3].errorbar(galangle[randindex].distance.value, Ak[randindex], yerr=np.sqrt(varAk[randindex]), fmt=None)\n",
    "ax[3].axhline(0.0, linewidth=0.5, alpha=0.5, color='k')\n",
    "ax[3].set_xlabel('D')\n",
    "plt.tight_layout()"
   ]
  },
  {
   "cell_type": "code",
   "execution_count": null,
   "metadata": {},
   "outputs": [],
   "source": [
    "from george import kernels\n",
    "fig, ax = plt.subplots(2, figsize=(30, 5))\n",
    "kernel = np.var(Ak[randindex]) * kernels.ExpSquaredKernel(.01)\n",
    "gp = george.GP(kernel)\n",
    "gp.compute(galangle.distance[randindex].value, np.sqrt(varAk[randindex]))\n",
    "\n",
    "x_pred = np.linspace(0, 3, 500)\n",
    "pred, pred_var = gp.predict(Ak[randindex], x_pred, return_var=True)\n",
    "\n",
    "ax[0].fill_between(x_pred, pred - np.sqrt(pred_var), pred + np.sqrt(pred_var),\n",
    "                color=\"k\", alpha=0.2)\n",
    "ax[0].plot(x_pred, pred, \"k\", lw=1.5, alpha=0.5)\n",
    "\n",
    "ax[1].plot(x_pred[1:], np.cumsum(pred[:-1])*(x_pred[1:] - x_pred[:-1]))\n",
    "ax[1].errorbar(galangle.distance[randindex].value, Ak[randindex], yerr=np.sqrt(varAk[randindex]), fmt=\".k\", capsize=0)\n",
    "\n",
    "#pl.plot(x_pred, np.sin(x_pred), \"--g\")\n",
    "#pl.xlim(0, 10)\n",
    "#pl.ylim(-1.45, 1.45)\n",
    "#pl.xlabel(\"x\")\n",
    "#pl.ylabel(\"y\");"
   ]
  },
  {
   "cell_type": "code",
   "execution_count": null,
   "metadata": {
    "collapsed": true
   },
   "outputs": [],
   "source": []
  },
  {
   "cell_type": "code",
   "execution_count": null,
   "metadata": {
    "collapsed": true
   },
   "outputs": [],
   "source": []
  }
 ],
 "metadata": {
  "kernelspec": {
   "display_name": "Python 3",
   "language": "python",
   "name": "python3"
  },
  "language_info": {
   "codemirror_mode": {
    "name": "ipython",
    "version": 3
   },
   "file_extension": ".py",
   "mimetype": "text/x-python",
   "name": "python",
   "nbconvert_exporter": "python",
   "pygments_lexer": "ipython3",
   "version": "3.6.2"
  }
 },
 "nbformat": 4,
 "nbformat_minor": 2
}
