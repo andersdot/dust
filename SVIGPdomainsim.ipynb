{
 "cells": [
  {
   "cell_type": "code",
   "execution_count": 2,
   "metadata": {},
   "outputs": [],
   "source": [
    "%load_ext autoreload\n",
    "%autoreload 2\n",
    "import numpy as np\n",
    "import h5py\n",
    "import sys\n",
    "sys.path.insert(0, '/Users/landerson/dust-map/src/experiments')\n",
    "from experiments import experiment_util as eu\n",
    "import torch\n",
    "from ziggy import svgp\n",
    "import yt\n",
    "from yt.units import kpc, kiloparsec, Msun \n",
    "import matplotlib.pyplot as plt\n",
    "from scipy.interpolate import LinearNDInterpolator as NDInterp\n",
    "\n",
    "import matplotlib.pyplot as plt; plt.ion()\n",
    "import seaborn as sns; sns.set_style(\"white\")\n",
    "from ziggy import viz\n",
    "import os"
   ]
  },
  {
   "cell_type": "code",
   "execution_count": 3,
   "metadata": {},
   "outputs": [],
   "source": [
    "def genDustDensity(nx, ny, nz, xscale, yscale, zscale):\n",
    "\n",
    "    x = np.linspace(-xscale, xscale+0.00001, nx)\n",
    "    y = np.linspace(-yscale, yscale+0.00001, ny)\n",
    "    z = np.linspace(-zscale, zscale+0.00001, nz)\n",
    "    \n",
    "    xmesh, ymesh, zmesh = np.meshgrid(x, y, z)\n",
    "    xdustgrid = np.column_stack([xmesh.flatten(), ymesh.flatten(), zmesh.flatten()])\n",
    "    \n",
    "    left_edge = [-xscale, -yscale, -zscale]*kpc\n",
    "    right_edge = [xscale, yscale, zscale]*kpc\n",
    "    ag = ds.arbitrary_grid(left_edge, right_edge, dims=[nx, ny, nz])\n",
    "    \n",
    "    dustDensity = ag[('io', 'dustDensity')]\n",
    "\n",
    "    return xmesh, ymesh, zmesh, xdustgrid, dustDensity\n",
    "\n",
    "def ftestValues(xtest, xscale, yscale, zscale, nx=50, ny=None, nz=25):\n",
    "    if ny is None: ny = nx\n",
    "    x, y, z, xdustgrid, dustDensity = genDustDensity(nx, ny, nz, xscale, yscale, zscale)\n",
    "    dustgrid = dustDensity.flatten()\n",
    "    interp = NDInterp(xdustgrid, dustgrid)\n",
    "    return interp(xtest)"
   ]
  },
  {
   "cell_type": "code",
   "execution_count": 4,
   "metadata": {},
   "outputs": [],
   "source": [
    "from yt.units import dimensions\n",
    "def _metal_weighted_density(field, data):\n",
    "    solarMetallicity = 0.2\n",
    "    massfraction_he = data['massfraction_he']\n",
    "    massfraction_all  = data['massfraction_all']\n",
    "    fractionHydrogen = 1. - massfraction_all - massfraction_he\n",
    "    neutralHydrogenMass = data['density']*fractionHydrogen*data['hydrogen_neutral_fraction']\n",
    "    metalWeightedNeutralHydrogenMass = neutralHydrogenMass*10.**data['metallicity']\n",
    "    return metalWeightedNeutralHydrogenMass\n",
    "\n",
    "yt.add_field((\"io\",\"dustDensity\"), function=_metal_weighted_density, units='Msun/pc**3', #units=\"auto\", \n",
    "             dimensions=dimensions.density, sampling_type='particle', force_override=True)"
   ]
  },
  {
   "cell_type": "code",
   "execution_count": 5,
   "metadata": {},
   "outputs": [],
   "source": [
    "def plot_grid(model_name, fgrid, xobs, aobs, n, pretty_name=None,\n",
    "                        xx1=None, xx2=None, vmin=None, vmax=None):\n",
    "    \"\"\" Visualize posteiror grid slice\n",
    "    \"\"\"\n",
    "    # model name is model directory\n",
    "    if pretty_name is None:\n",
    "        pretty_name = os.path.split(model_name)[-1]\n",
    "\n",
    "    # error DF for dists\n",
    "    df = eu.make_error_dataframe([model_name], [pretty_name])\n",
    "    pdict = torch.load(os.path.join(model_name, \"predictions.pkl\"))\n",
    "    mdict = torch.load(os.path.join(model_name, \"model.pkl\"))\n",
    "    print(\"Kernel params! \", torch.exp(mdict['kernel_params']))\n",
    "\n",
    "    # plot posterior mean on xgrid\n",
    "    (xlo, xhi) = xx1.min(), xx1.max()\n",
    "    (ylo, yhi) = xx2.min(), xx2.max()\n",
    "    fig, axes = plt.subplots(2, 4, figsize=(16,9))\n",
    "    \n",
    "    ax = axes[0, 0]\n",
    "    cm = viz.plot_smooth(ax, fgrid, xlim=(xlo, xhi), ylim=(xlo, xhi), vmin=vmin, vmax=vmax)\n",
    "    ax.set_xlim(xlo, xhi)\n",
    "    ax.set_ylim(ylo, yhi)\n",
    "    ax.set_title('Truth')\n",
    "    \n",
    "    ax = axes[0, 1]\n",
    "    im = ax.scatter(xobs[:,0], xobs[:,1], c=aobs, s=10, vmin=vmin, vmax=vmax)\n",
    "    viz.colorbar(im, ax)\n",
    "    ax.axis('equal')\n",
    "    ax.set_xlim(xlo, xhi)\n",
    "    ax.set_ylim(ylo, yhi)\n",
    "    ax.set_title('Observations')\n",
    "\n",
    "    \n",
    "    \n",
    "    ax = axes[1,0]\n",
    "    cm = viz.plot_smooth(ax, pdict['fmu_grid'].reshape(xx1.shape)[:, :, n],\n",
    "                         xlim=(xlo, xhi), ylim=(xlo, xhi),\n",
    "                         vmin=vmin, vmax=vmax)\n",
    "    ax.set_xlim(xlo, xhi)\n",
    "    ax.set_ylim(ylo, yhi)\n",
    "    ax.set_title('Prediction')\n",
    "\n",
    "    ax = axes[1, 1]\n",
    "    cm = viz.plot_smooth(ax, 2*pdict['fsig_grid'].reshape(xx1.shape)[:, :, n],\n",
    "                         xlim=(xlo, xhi), ylim=(xlo, xhi))\n",
    "    ax.set_xlim(xlo, xhi)\n",
    "    ax.set_ylim(ylo, yhi)\n",
    "    ax.set_title(r'$\\sigma$')\n",
    "   \n",
    "    \"\"\" make plots that show error as a function of distance \"\"\"\n",
    "\n",
    "    # for zscore, show 1/2 sd, 1 sd, and 2 sd\n",
    "    error_types = [\"e zscore\", \"f zscore\"]\n",
    "    for error_type, ax in zip(error_types, [axes[0, 2], axes[1,2]]):\n",
    "\n",
    "        xlo, xhi = df['xtest_dist'].min(), df['xtest_dist'].max()\n",
    "        for sig in [.5, 1., 2.]:\n",
    "            ax.plot([xlo, xhi], [sig, sig], '--', linewidth=1.5, c='grey')\n",
    "            ax.plot([xlo, xhi], [-sig, -sig], '--', linewidth=1.5, c='grey')\n",
    "            ax.fill_between([xlo, xhi], [sig, sig], [-sig, -sig], color='grey', alpha=.2)\n",
    "\n",
    "        ax.scatter(df['xtest_dist'], df[error_type], s=15)\n",
    "        ax.set_xlabel(\"distance\", fontsize=12)\n",
    "        ax.set_ylabel(error_type, fontsize=12)\n",
    "        \n",
    "    for error_type, ax in zip(error_types, [axes[0, 3], axes[1, 3]]):\n",
    "\n",
    "        ax.hist(df[error_type], bins=30, density=True, alpha=.5, label=pretty_name)\n",
    "\n",
    "        from scipy.stats import norm\n",
    "        xlim = ax.get_xlim()\n",
    "        xgrid = np.linspace(-5, 5, 100)\n",
    "        #ax.set_xlim(-5, 5)\n",
    "        ax.plot(xgrid, norm.pdf(xgrid), label=\"$\\mathcal{N}(0,1)$\")\n",
    "\n",
    "        ax.set_xlabel(\"z score\", fontsize=12)\n",
    "        ax.set_ylabel(\"density\", fontsize=12)\n",
    "        ax.legend(fontsize=12, frameon=True, loc='upper left')\n",
    "\n",
    "    plt.tight_layout()\n",
    "    fig.savefig(os.path.join(model_name, 'plot_grid.pdf'), bbox_inches='tight', rasterized=True)"
   ]
  },
  {
   "cell_type": "code",
   "execution_count": 6,
   "metadata": {},
   "outputs": [],
   "source": [
    "latte = np.load('latte10kpc.npz')\n",
    "f = h5py.File('distance1kpc_snp5_lsr2_m12f.hdf5', mode='r')"
   ]
  },
  {
   "cell_type": "code",
   "execution_count": 7,
   "metadata": {},
   "outputs": [],
   "source": [
    "Q = 2.5e22 #H/cm2/mag\n",
    "EBV = 1/3.1\n",
    "m_p = 1.6726219e-24 #g\n",
    "length_unit=3.08567758149137e21 #kpc to cm  \n",
    "mass_unit=1.98847e33 #solar mass to g \n",
    "time_unit=3.15576e16 #Gyr to s, \n",
    "velocity_unit=1e5 #km to cm   \n",
    "unit_system=\"galactic\" #'cgs'\n",
    "sim_time = latte['snapshottime']*time_unit\n",
    "field = 'io'"
   ]
  },
  {
   "cell_type": "code",
   "execution_count": 8,
   "metadata": {},
   "outputs": [
    {
     "name": "stderr",
     "output_type": "stream",
     "text": [
      "yt : [INFO     ] 2019-07-03 17:18:01,167 Parameters: current_time              = 4.3545533462416614e+17\n",
      "yt : [INFO     ] 2019-07-03 17:18:01,168 Parameters: domain_dimensions         = [1 1 1]\n",
      "yt : [INFO     ] 2019-07-03 17:18:01,171 Parameters: domain_left_edge          = [-1.31866563e+26 -1.31866563e+26 -1.31866563e+26]\n",
      "yt : [INFO     ] 2019-07-03 17:18:01,174 Parameters: domain_right_edge         = [1.31866563e+26 1.31866563e+26 1.31866563e+26]\n",
      "yt : [INFO     ] 2019-07-03 17:18:01,175 Parameters: cosmological_simulation   = 0.0\n"
     ]
    }
   ],
   "source": [
    "data = {(field, 'particle_position_x'): np.array(latte['x'], dtype='float64'),\n",
    "        (field, 'particle_position_y'): np.array(latte['y'], dtype='float64'),\n",
    "        (field, 'particle_position_z'): np.array(latte['z'], dtype='float64'),\n",
    "        (field, 'particle_velocity_x'): np.array(latte['velocity'][:,0], dtype='float64'),\n",
    "        (field, 'particle_velocity_y'): np.array(latte['velocity'][:,1], dtype='float64'),\n",
    "        (field, 'particle_velocity_z'): np.array(latte['velocity'][:,2], dtype='float64'),\n",
    "        (field, 'density'):    np.array(latte['density'], dtype='float64'),\n",
    "        (field, 'hydrogen_neutral_fraction'): np.array(latte['hydrogenneutralfraction'], dtype='float64'),\n",
    "        (field, 'massfraction_he'): np.array(latte['massfraction'][:,1], dtype='float64'),\n",
    "        (field, 'massfraction_all'): np.array(latte['massfraction'][:,0], dtype='float64'),\n",
    "        (field, 'metallicity'): np.array(latte['metallicitytotal'], dtype='float64'),\n",
    "        (field, 'smoothing_length'): np.array(latte['smoothlength'], dtype='float64'),\n",
    "        (field, 'particle_mass'): np.array(latte['mass'], dtype='float64')\n",
    "        }\n",
    "half_box = latte['boxlength']/2.*length_unit\n",
    "bbox = np.array([[-half_box, half_box], [-half_box, half_box], [-half_box, half_box]])\n",
    "\n",
    "ds = yt.load_particles(data, length_unit=length_unit, mass_unit=mass_unit, velocity_unit=velocity_unit, \n",
    "                       time_unit=time_unit, bbox=bbox, unit_system=unit_system, sim_time=sim_time)"
   ]
  },
  {
   "cell_type": "code",
   "execution_count": 9,
   "metadata": {},
   "outputs": [],
   "source": [
    "xobs_all = np.array((f['data']['px_true'], \n",
    "                 f['data']['py_true'], \n",
    "                 f['data']['pz_true'])).T\n",
    "aobs_true = f['data']['A0']*50."
   ]
  },
  {
   "cell_type": "code",
   "execution_count": 10,
   "metadata": {},
   "outputs": [
    {
     "data": {
      "text/plain": [
       "39226428"
      ]
     },
     "execution_count": 10,
     "metadata": {},
     "output_type": "execute_result"
    }
   ],
   "source": [
    "integrated_dust_uncertainty_mean = 0.1\n",
    "integrated_dust_uncertainty_sig = 0.1\n",
    "sobs_all = (np.random.rand(*aobs_true.shape)*integrated_dust_uncertainty_sig + integrated_dust_uncertainty_mean)\n",
    "aobs_all = np.random.randn(*aobs_true.shape)*sobs_all + aobs_true\n",
    "len(aobs_all)"
   ]
  },
  {
   "cell_type": "code",
   "execution_count": 16,
   "metadata": {},
   "outputs": [
    {
     "name": "stdout",
     "output_type": "stream",
     "text": [
      "110000\n"
     ]
    }
   ],
   "source": [
    "scale = 0.5 #kpc\n",
    "zscale = 0.25 #kpc\n",
    "ntrain = 100000\n",
    "ntest = 10000\n",
    "subsample_size =ntrain + ntest\n",
    "#print(np.sum(np.all(np.abs(xobs_all) < scale, axis=1)))\n",
    "#subsample = np.where(np.all(np.abs(xobs_all) < scale, axis=1))[0]\n",
    "subsample = np.where((np.abs(xobs_all[:,0]) < scale) & (np.abs(xobs_all[:,1]) < scale) & (np.abs(xobs_all[:,2]) < zscale))[0]\n",
    "subsample = subsample[np.random.randint(0, high=len(subsample), size=subsample_size)]\n",
    "#subsample = np.random.randint(0, high=len(xobs_all), size=10000)\n",
    "print(len(subsample))\n"
   ]
  },
  {
   "cell_type": "code",
   "execution_count": 17,
   "metadata": {},
   "outputs": [],
   "source": [
    "xobs = xobs_all[subsample[0:ntrain]]\n",
    "aobs = aobs_all[subsample[0:ntrain]]\n",
    "sobs = sobs_all[subsample[0:ntrain]]\n",
    "\n",
    "xtest = xobs_all[subsample[ntrain:]]\n",
    "etest = aobs_true[subsample[ntrain:]]\n"
   ]
  },
  {
   "cell_type": "code",
   "execution_count": 24,
   "metadata": {},
   "outputs": [
    {
     "name": "stderr",
     "output_type": "stream",
     "text": []
    }
   ],
   "source": [
    "nx_induce = 15\n",
    "nz_induce = 7\n",
    "xinduce_grid = np.linspace(-scale, scale+0.0000001, nx_induce)\n",
    "xinduce_zgrid = np.linspace(-zscale, zscale + 0.00000001, nz_induce)\n",
    "XX, YY, ZZ = np.meshgrid(xinduce_grid, xinduce_grid, xinduce_zgrid)\n",
    "xinduce = np.column_stack([XX.flatten(), YY.flatten(), ZZ.flatten()])\n",
    "\n",
    "nx = ny = nx_induce*4\n",
    "nz = nz_induce*4\n",
    "xmesh, ymesh, zmesh, xgrid, fgrid = genDustDensity(nx, ny, nz, scale, scale, zscale)"
   ]
  },
  {
   "cell_type": "code",
   "execution_count": 25,
   "metadata": {},
   "outputs": [
    {
     "name": "stderr",
     "output_type": "stream",
     "text": []
    }
   ],
   "source": [
    "ftest = ftestValues(xtest, scale, scale, zscale, nx=nx, ny=ny, nz=nz)"
   ]
  },
  {
   "cell_type": "markdown",
   "metadata": {},
   "source": [
    "kernel_rate = 0 means leave kernel to values I set \n",
    "turn natgrad_rate down to 0.01 if elbo looks wonky \n",
    "if doing 1e6 data points make batch size bigger \n",
    "step_decay, after every epoch natgrad_rate multiplied by"
   ]
  },
  {
   "cell_type": "code",
   "execution_count": 15,
   "metadata": {},
   "outputs": [
    {
     "name": "stderr",
     "output_type": "stream",
     "text": []
    }
   ],
   "source": [
    "xmesh_low, ymesh_low, zmesh_low, xgrid_low, fgrid_low = genDustDensity(nx_induce, nx_induce, nz_induce, scale, scale, zscale)\n",
    "xmesh_high, ymesh_high, zmesh_high, xgrid_high, fgrid_high = genDustDensity(nx, ny, nz, scale, scale, zscale)"
   ]
  },
  {
   "cell_type": "code",
   "execution_count": 16,
   "metadata": {},
   "outputs": [
    {
     "data": {
      "text/plain": [
       "(10, 10, 5)"
      ]
     },
     "execution_count": 16,
     "metadata": {},
     "output_type": "execute_result"
    }
   ],
   "source": [
    "xmesh_low.shape"
   ]
  },
  {
   "cell_type": "code",
   "execution_count": 26,
   "metadata": {},
   "outputs": [
    {
     "ename": "NameError",
     "evalue": "name 'xmesh_low' is not defined",
     "output_type": "error",
     "traceback": [
      "\u001b[0;31m---------------------------------------------------------------------------\u001b[0m",
      "\u001b[0;31mNameError\u001b[0m                                 Traceback (most recent call last)",
      "\u001b[0;32m<ipython-input-26-fbbecdcfd088>\u001b[0m in \u001b[0;36m<module>\u001b[0;34m\u001b[0m\n\u001b[1;32m      3\u001b[0m \u001b[0max\u001b[0m \u001b[0;34m=\u001b[0m \u001b[0maxes\u001b[0m\u001b[0;34m[\u001b[0m\u001b[0;36m0\u001b[0m\u001b[0;34m]\u001b[0m\u001b[0;34m\u001b[0m\u001b[0;34m\u001b[0m\u001b[0m\n\u001b[1;32m      4\u001b[0m \u001b[0mn\u001b[0m \u001b[0;34m=\u001b[0m \u001b[0;36m2\u001b[0m\u001b[0;34m\u001b[0m\u001b[0;34m\u001b[0m\u001b[0m\n\u001b[0;32m----> 5\u001b[0;31m \u001b[0mim\u001b[0m \u001b[0;34m=\u001b[0m \u001b[0max\u001b[0m\u001b[0;34m.\u001b[0m\u001b[0mpcolormesh\u001b[0m\u001b[0;34m(\u001b[0m\u001b[0mxmesh_low\u001b[0m\u001b[0;34m[\u001b[0m\u001b[0;34m:\u001b[0m\u001b[0;34m,\u001b[0m\u001b[0;34m:\u001b[0m\u001b[0;34m,\u001b[0m\u001b[0mn\u001b[0m\u001b[0;34m]\u001b[0m\u001b[0;34m,\u001b[0m \u001b[0mymesh_low\u001b[0m\u001b[0;34m[\u001b[0m\u001b[0;34m:\u001b[0m\u001b[0;34m,\u001b[0m\u001b[0;34m:\u001b[0m\u001b[0;34m,\u001b[0m\u001b[0mn\u001b[0m\u001b[0;34m]\u001b[0m\u001b[0;34m,\u001b[0m \u001b[0mfgrid_low\u001b[0m\u001b[0;34m[\u001b[0m\u001b[0;34m:\u001b[0m\u001b[0;34m,\u001b[0m\u001b[0;34m:\u001b[0m\u001b[0;34m,\u001b[0m\u001b[0mn\u001b[0m\u001b[0;34m]\u001b[0m\u001b[0;34m.\u001b[0m\u001b[0mT\u001b[0m\u001b[0;34m)\u001b[0m\u001b[0;34m\u001b[0m\u001b[0;34m\u001b[0m\u001b[0m\n\u001b[0m\u001b[1;32m      6\u001b[0m \u001b[0mplt\u001b[0m\u001b[0;34m.\u001b[0m\u001b[0mcolorbar\u001b[0m\u001b[0;34m(\u001b[0m\u001b[0mim\u001b[0m\u001b[0;34m,\u001b[0m \u001b[0max\u001b[0m\u001b[0;34m=\u001b[0m\u001b[0max\u001b[0m\u001b[0;34m)\u001b[0m\u001b[0;34m\u001b[0m\u001b[0;34m\u001b[0m\u001b[0m\n\u001b[1;32m      7\u001b[0m \u001b[0;34m\u001b[0m\u001b[0m\n",
      "\u001b[0;31mNameError\u001b[0m: name 'xmesh_low' is not defined"
     ]
    },
    {
     "data": {
      "image/png": "[encoded data removed]",
      "text/plain": [
       "<Figure size 864x360 with 2 Axes>"
      ]
     },
     "metadata": {
      "needs_background": "light"
     },
     "output_type": "display_data"
    }
   ],
   "source": [
    "fig, axes = plt.subplots(1, 2, figsize=(12,5))\n",
    "\n",
    "ax = axes[0]\n",
    "n = 2\n",
    "im = ax.pcolormesh(xmesh_low[:,:,n], ymesh_low[:,:,n], fgrid_low[:,:,n].T)\n",
    "plt.colorbar(im, ax=ax)\n",
    "\n",
    "ax = axes[1]\n",
    "im = ax.pcolormesh(xmesh_high[:,:,n*4], ymesh_high[:,:,n*4], fgrid_high[:,:,n*4].T)\n",
    "plt.colorbar(im, ax=ax)\n"
   ]
  },
  {
   "cell_type": "code",
   "execution_count": 27,
   "metadata": {},
   "outputs": [
    {
     "data": {
      "text/plain": [
       "<matplotlib.colorbar.Colorbar at 0x1aa57a65f8>"
      ]
     },
     "execution_count": 27,
     "metadata": {},
     "output_type": "execute_result"
    },
    {
     "data": {
      "image/png": "[encoded data removed]",
      "text/plain": [
       "<Figure size 864x360 with 4 Axes>"
      ]
     },
     "metadata": {
      "needs_background": "light"
     },
     "output_type": "display_data"
    }
   ],
   "source": [
    "fig, axes = plt.subplots(1, 2, figsize=(12,5))\n",
    "\n",
    "ax = axes[0]\n",
    "n = 10\n",
    "im = ax.pcolormesh(xmesh[:,:,n], ymesh[:,:,n], fgrid[:,:,n].T)\n",
    "plt.colorbar(im, ax=ax)\n",
    "\n",
    "z = np.unique(zmesh[:,:,n])\n",
    "\n",
    "ax = axes[1]\n",
    "inslice = np.abs(xtest[:,2] - z) < 0.01\n",
    "im = ax.scatter(xtest[inslice,0], xtest[inslice,1], c=ftest[inslice], s=10)\n",
    "plt.colorbar(im, ax=ax)"
   ]
  },
  {
   "cell_type": "code",
   "execution_count": 28,
   "metadata": {},
   "outputs": [],
   "source": [
    "output_dir = \"./monte-carlo-gradient-domainsimulation-output_1kpc\""
   ]
  },
  {
   "cell_type": "code",
   "execution_count": null,
   "metadata": {},
   "outputs": [
    {
     "name": "stdout",
     "output_type": "stream",
     "text": [
      "{'epochs': 2, 'natgrad_rate': 0.1, 'kernel_rate': 0, 'integrated_obs': True, 'batch_callback': None, 'batch_size': 5000, 'step_decay': 0.9, 'sig2_init': 2, 'ell_init': 0.07}\n",
      " ... [20000/100000 (20%)] ELBO: -8397.813986  (sig2, ell)+grad: (2.00, 0.07) (79.16, -20581.96))\n",
      " ... [40000/100000 (40%)] ELBO: -6271.824931  (sig2, ell)+grad: (2.00, 0.07) (80.22, -24361.96))\n",
      " ... [60000/100000 (60%)] ELBO: -4730.672758  (sig2, ell)+grad: (2.00, 0.07) (78.94, -18634.39))\n",
      " ... [80000/100000 (80%)] ELBO: -3675.472159  (sig2, ell)+grad: (2.00, 0.07) (76.34, -19898.01))\n",
      " ... [100000/100000 (100%)] ELBO: -2797.919868  (sig2, ell)+grad: (2.00, 0.07) (78.34, -18594.85))\n",
      "Epoch     0: -2797.920  (20   batches) \n",
      " ... [20000/100000 (20%)] ELBO: 773.196461  (sig2, ell)+grad: (2.00, 0.07) (79.18, -17498.58))\n",
      " ... [40000/100000 (40%)] ELBO: 763.296623  (sig2, ell)+grad: (2.00, 0.07) (80.22, -19468.84))\n",
      " ... [60000/100000 (60%)] ELBO: 832.219176  (sig2, ell)+grad: (2.00, 0.07) (78.93, -16792.07))\n",
      " ... [80000/100000 (80%)] ELBO: 845.243925  (sig2, ell)+grad: (2.00, 0.07) (76.34, -16560.74))\n",
      " ... [100000/100000 (100%)] ELBO: 950.723657  (sig2, ell)+grad: (2.00, 0.07) (78.34, -16602.01))\n",
      "Epoch     1: 950.724    (20   batches) \n"
     ]
    }
   ],
   "source": [
    "fit_kwargs = {'epochs'        : 2,\n",
    "              'natgrad_rate'  : 1e-1,\n",
    "              'kernel_rate'   : 0, #1e-6,\n",
    "              'integrated_obs': True,\n",
    "              'batch_callback': None, \n",
    "              'batch_size'    : 5000,\n",
    "              'step_decay'    : .9,\n",
    "              'sig2_init'     : 2,\n",
    "              'ell_init'      : 0.07}\n",
    "\n",
    "#########################################################################\n",
    "# Example: Integrated GP model using Squared Exp Kernel (analytical)    #\n",
    "#########################################################################\n",
    "eu.fit_model_and_save(\"SqExp-analytic\",\n",
    "      xobs=xobs, aobs=aobs[:,None], sobs=sobs[:,None],\n",
    "      kern=svgp.SqExp(), xinduce=xinduce,\n",
    "      xtest=xtest, etest=etest, ftest=ftest*50.,\n",
    "      xgrid=xgrid, fgrid=fgrid*50.,\n",
    "      output_dir=output_dir,\n",
    "      **fit_kwargs)\n"
   ]
  },
  {
   "cell_type": "code",
   "execution_count": null,
   "metadata": {},
   "outputs": [],
   "source": [
    "model_name = 'monte-carlo-gradient-domainsimulation-output_1kpc/SqExp-analytic'\n",
    "n=10\n",
    "z = np.unique(zmesh[:,:,n])\n",
    "inslice = np.abs(xobs[:,2] - z) < 0.01\n",
    "plot_grid(model_name, fgrid[:,:,n].value*50., xobs[inslice], aobs[inslice], n, xx1=xmesh, xx2=ymesh,pretty_name='SpExp-analytic')"
   ]
  },
  {
   "cell_type": "code",
   "execution_count": 1,
   "metadata": {},
   "outputs": [
    {
     "ename": "NameError",
     "evalue": "name 'eu' is not defined",
     "output_type": "error",
     "traceback": [
      "\u001b[0;31m---------------------------------------------------------------------------\u001b[0m",
      "\u001b[0;31mNameError\u001b[0m                                 Traceback (most recent call last)",
      "\u001b[0;32m<ipython-input-1-7172c4f3f86d>\u001b[0m in \u001b[0;36m<module>\u001b[0;34m\u001b[0m\n\u001b[1;32m      1\u001b[0m \u001b[0;31m#eu.plot_posterior_grid(model_name, xx1=xmesh, xx2=ymesh, pretty_name='SpExp-analytic')\u001b[0m\u001b[0;34m\u001b[0m\u001b[0;34m\u001b[0m\u001b[0;34m\u001b[0m\u001b[0m\n\u001b[0;32m----> 2\u001b[0;31m \u001b[0meu\u001b[0m\u001b[0;34m.\u001b[0m\u001b[0mmake_zscore_histogram\u001b[0m\u001b[0;34m(\u001b[0m\u001b[0mmodel_name\u001b[0m\u001b[0;34m,\u001b[0m \u001b[0mpretty_name\u001b[0m\u001b[0;34m=\u001b[0m\u001b[0;34m'SpExp-analytic'\u001b[0m\u001b[0;34m)\u001b[0m\u001b[0;34m\u001b[0m\u001b[0;34m\u001b[0m\u001b[0m\n\u001b[0m\u001b[1;32m      3\u001b[0m \u001b[0meu\u001b[0m\u001b[0;34m.\u001b[0m\u001b[0mmake_model_distance_plots\u001b[0m\u001b[0;34m(\u001b[0m\u001b[0mmodel_name\u001b[0m\u001b[0;34m,\u001b[0m \u001b[0mpretty_name\u001b[0m\u001b[0;34m=\u001b[0m\u001b[0;34m'SpExp-analytic'\u001b[0m\u001b[0;34m)\u001b[0m\u001b[0;34m\u001b[0m\u001b[0;34m\u001b[0m\u001b[0m\n\u001b[1;32m      4\u001b[0m \u001b[0meu\u001b[0m\u001b[0;34m.\u001b[0m\u001b[0mmake_error_plots\u001b[0m\u001b[0;34m(\u001b[0m\u001b[0moutput_dir\u001b[0m\u001b[0;34m,\u001b[0m \u001b[0mmodel_names\u001b[0m\u001b[0;34m=\u001b[0m\u001b[0;34m[\u001b[0m\u001b[0mmodel_name\u001b[0m\u001b[0;34m]\u001b[0m\u001b[0;34m,\u001b[0m \u001b[0mpretty_names\u001b[0m\u001b[0;34m=\u001b[0m\u001b[0;34m[\u001b[0m\u001b[0;34m'SpExp-analytic'\u001b[0m\u001b[0;34m]\u001b[0m\u001b[0;34m)\u001b[0m\u001b[0;34m\u001b[0m\u001b[0;34m\u001b[0m\u001b[0m\n\u001b[1;32m      5\u001b[0m \u001b[0meu\u001b[0m\u001b[0;34m.\u001b[0m\u001b[0mmake_qq_plots\u001b[0m\u001b[0;34m(\u001b[0m\u001b[0;34m[\u001b[0m\u001b[0mmodel_name\u001b[0m\u001b[0;34m]\u001b[0m\u001b[0;34m,\u001b[0m \u001b[0mpretty_names\u001b[0m\u001b[0;34m=\u001b[0m\u001b[0;34m[\u001b[0m\u001b[0;34m'SpExp-analytic'\u001b[0m\u001b[0;34m]\u001b[0m\u001b[0;34m)\u001b[0m\u001b[0;34m\u001b[0m\u001b[0;34m\u001b[0m\u001b[0m\n",
      "\u001b[0;31mNameError\u001b[0m: name 'eu' is not defined"
     ]
    }
   ],
   "source": [
    "#eu.plot_posterior_grid(model_name, xx1=xmesh, xx2=ymesh, pretty_name='SpExp-analytic')\n",
    "eu.make_zscore_histogram(model_name, pretty_name='SpExp-analytic')\n",
    "eu.make_model_distance_plots(model_name, pretty_name='SpExp-analytic')\n",
    "eu.make_error_plots(output_dir, model_names=[model_name], pretty_names=['SpExp-analytic'])\n",
    "eu.make_qq_plots([model_name], pretty_names=['SpExp-analytic'])"
   ]
  },
  {
   "cell_type": "code",
   "execution_count": 104,
   "metadata": {},
   "outputs": [],
   "source": []
  },
  {
   "cell_type": "code",
   "execution_count": null,
   "metadata": {},
   "outputs": [],
   "source": []
  },
  {
   "cell_type": "code",
   "execution_count": null,
   "metadata": {},
   "outputs": [],
   "source": []
  },
  {
   "cell_type": "code",
   "execution_count": null,
   "metadata": {},
   "outputs": [],
   "source": []
  },
  {
   "cell_type": "code",
   "execution_count": 84,
   "metadata": {},
   "outputs": [],
   "source": [
    "predictions = torch.load('monte-carlo-gradient-domainsimulation-output/SqExp-analytic/predictions.pkl')"
   ]
  },
  {
   "cell_type": "code",
   "execution_count": 85,
   "metadata": {},
   "outputs": [
    {
     "data": {
      "text/plain": [
       "41.09804278565571"
      ]
     },
     "execution_count": 85,
     "metadata": {},
     "output_type": "execute_result"
    }
   ],
   "source": [
    "np.max(predictions['fmu_test'])"
   ]
  },
  {
   "cell_type": "code",
   "execution_count": 86,
   "metadata": {},
   "outputs": [
    {
     "data": {
      "text/plain": [
       "0"
      ]
     },
     "execution_count": 86,
     "metadata": {},
     "output_type": "execute_result"
    }
   ],
   "source": [
    "np.sum(predictions['fmu_test'] == 0)"
   ]
  },
  {
   "cell_type": "code",
   "execution_count": 87,
   "metadata": {},
   "outputs": [
    {
     "data": {
      "text/plain": [
       "array([ 2.19123823,  2.94589538,  1.71459292, ..., -0.04580047,\n",
       "       23.59789498,  5.97113618])"
      ]
     },
     "execution_count": 87,
     "metadata": {},
     "output_type": "execute_result"
    }
   ],
   "source": [
    "predictions['fmu_test'][predictions['fmu_test'] != 0]"
   ]
  },
  {
   "cell_type": "code",
   "execution_count": 88,
   "metadata": {},
   "outputs": [
    {
     "data": {
      "text/plain": [
       "[<matplotlib.lines.Line2D at 0x1a334b09b0>]"
      ]
     },
     "execution_count": 88,
     "metadata": {},
     "output_type": "execute_result"
    },
    {
     "data": {
      "image/png": "[encoded data removed]",
      "text/plain": [
       "<Figure size 432x288 with 1 Axes>"
      ]
     },
     "metadata": {
      "needs_background": "light"
     },
     "output_type": "display_data"
    }
   ],
   "source": [
    "plt.plot(predictions['fmu_test'])\n"
   ]
  },
  {
   "cell_type": "markdown",
   "metadata": {},
   "source": [
    "Dataframe objects for a bunch of different kernels, including Sara's with her hyper parameters \n",
    "At least 1M observations "
   ]
  },
  {
   "cell_type": "code",
   "execution_count": null,
   "metadata": {},
   "outputs": [],
   "source": []
  },
  {
   "cell_type": "code",
   "execution_count": 11,
   "metadata": {},
   "outputs": [
    {
     "data": {
      "text/plain": [
       "array([ 0.03735441,  0.03093006, -0.01530889, ..., -0.05356902,\n",
       "       -0.148144  ,  0.15932871])"
      ]
     },
     "execution_count": 11,
     "metadata": {},
     "output_type": "execute_result"
    }
   ],
   "source": [
    "f['data']['px_true']"
   ]
  },
  {
   "cell_type": "code",
   "execution_count": 8,
   "metadata": {},
   "outputs": [
    {
     "name": "stdout",
     "output_type": "stream",
     "text": [
      "data\n"
     ]
    },
    {
     "ename": "AttributeError",
     "evalue": "'AttributeManager' object has no attribute 'iteritems'",
     "output_type": "error",
     "traceback": [
      "\u001b[0;31m---------------------------------------------------------------------------\u001b[0m",
      "\u001b[0;31mAttributeError\u001b[0m                            Traceback (most recent call last)",
      "\u001b[0;32m<ipython-input-8-95e7d28135c0>\u001b[0m in \u001b[0;36m<module>\u001b[0;34m\u001b[0m\n\u001b[1;32m      4\u001b[0m         \u001b[0mprint\u001b[0m\u001b[0;34m(\u001b[0m\u001b[0;34m\"    %s: %s\"\u001b[0m \u001b[0;34m%\u001b[0m \u001b[0;34m(\u001b[0m\u001b[0mkey\u001b[0m\u001b[0;34m,\u001b[0m \u001b[0mval\u001b[0m\u001b[0;34m)\u001b[0m\u001b[0;34m)\u001b[0m\u001b[0;34m\u001b[0m\u001b[0;34m\u001b[0m\u001b[0m\n\u001b[1;32m      5\u001b[0m \u001b[0;34m\u001b[0m\u001b[0m\n\u001b[0;32m----> 6\u001b[0;31m \u001b[0mf\u001b[0m\u001b[0;34m.\u001b[0m\u001b[0mvisititems\u001b[0m\u001b[0;34m(\u001b[0m\u001b[0mprint_attrs\u001b[0m\u001b[0;34m)\u001b[0m\u001b[0;34m\u001b[0m\u001b[0;34m\u001b[0m\u001b[0m\n\u001b[0m",
      "\u001b[0;32m/anaconda3/lib/python3.7/site-packages/h5py/_hl/group.py\u001b[0m in \u001b[0;36mvisititems\u001b[0;34m(self, func)\u001b[0m\n\u001b[1;32m    477\u001b[0m                 \u001b[0mname\u001b[0m \u001b[0;34m=\u001b[0m \u001b[0mself\u001b[0m\u001b[0;34m.\u001b[0m\u001b[0m_d\u001b[0m\u001b[0;34m(\u001b[0m\u001b[0mname\u001b[0m\u001b[0;34m)\u001b[0m\u001b[0;34m\u001b[0m\u001b[0;34m\u001b[0m\u001b[0m\n\u001b[1;32m    478\u001b[0m                 \u001b[0;32mreturn\u001b[0m \u001b[0mfunc\u001b[0m\u001b[0;34m(\u001b[0m\u001b[0mname\u001b[0m\u001b[0;34m,\u001b[0m \u001b[0mself\u001b[0m\u001b[0;34m[\u001b[0m\u001b[0mname\u001b[0m\u001b[0;34m]\u001b[0m\u001b[0;34m)\u001b[0m\u001b[0;34m\u001b[0m\u001b[0;34m\u001b[0m\u001b[0m\n\u001b[0;32m--> 479\u001b[0;31m             \u001b[0;32mreturn\u001b[0m \u001b[0mh5o\u001b[0m\u001b[0;34m.\u001b[0m\u001b[0mvisit\u001b[0m\u001b[0;34m(\u001b[0m\u001b[0mself\u001b[0m\u001b[0;34m.\u001b[0m\u001b[0mid\u001b[0m\u001b[0;34m,\u001b[0m \u001b[0mproxy\u001b[0m\u001b[0;34m)\u001b[0m\u001b[0;34m\u001b[0m\u001b[0;34m\u001b[0m\u001b[0m\n\u001b[0m\u001b[1;32m    480\u001b[0m \u001b[0;34m\u001b[0m\u001b[0m\n\u001b[1;32m    481\u001b[0m     \u001b[0;34m@\u001b[0m\u001b[0mwith_phil\u001b[0m\u001b[0;34m\u001b[0m\u001b[0;34m\u001b[0m\u001b[0m\n",
      "\u001b[0;32mh5py/_objects.pyx\u001b[0m in \u001b[0;36mh5py._objects.with_phil.wrapper\u001b[0;34m()\u001b[0m\n",
      "\u001b[0;32mh5py/_objects.pyx\u001b[0m in \u001b[0;36mh5py._objects.with_phil.wrapper\u001b[0;34m()\u001b[0m\n",
      "\u001b[0;32mh5py/h5o.pyx\u001b[0m in \u001b[0;36mh5py.h5o.visit\u001b[0;34m()\u001b[0m\n",
      "\u001b[0;32mh5py/defs.pyx\u001b[0m in \u001b[0;36mh5py.defs.H5Ovisit_by_name\u001b[0;34m()\u001b[0m\n",
      "\u001b[0;32mh5py/h5o.pyx\u001b[0m in \u001b[0;36mh5py.h5o.cb_obj_simple\u001b[0;34m()\u001b[0m\n",
      "\u001b[0;32m/anaconda3/lib/python3.7/site-packages/h5py/_hl/group.py\u001b[0m in \u001b[0;36mproxy\u001b[0;34m(name)\u001b[0m\n\u001b[1;32m    476\u001b[0m                 \u001b[0;34m\"\"\" Use the text name of the object, not bytes \"\"\"\u001b[0m\u001b[0;34m\u001b[0m\u001b[0;34m\u001b[0m\u001b[0m\n\u001b[1;32m    477\u001b[0m                 \u001b[0mname\u001b[0m \u001b[0;34m=\u001b[0m \u001b[0mself\u001b[0m\u001b[0;34m.\u001b[0m\u001b[0m_d\u001b[0m\u001b[0;34m(\u001b[0m\u001b[0mname\u001b[0m\u001b[0;34m)\u001b[0m\u001b[0;34m\u001b[0m\u001b[0;34m\u001b[0m\u001b[0m\n\u001b[0;32m--> 478\u001b[0;31m                 \u001b[0;32mreturn\u001b[0m \u001b[0mfunc\u001b[0m\u001b[0;34m(\u001b[0m\u001b[0mname\u001b[0m\u001b[0;34m,\u001b[0m \u001b[0mself\u001b[0m\u001b[0;34m[\u001b[0m\u001b[0mname\u001b[0m\u001b[0;34m]\u001b[0m\u001b[0;34m)\u001b[0m\u001b[0;34m\u001b[0m\u001b[0;34m\u001b[0m\u001b[0m\n\u001b[0m\u001b[1;32m    479\u001b[0m             \u001b[0;32mreturn\u001b[0m \u001b[0mh5o\u001b[0m\u001b[0;34m.\u001b[0m\u001b[0mvisit\u001b[0m\u001b[0;34m(\u001b[0m\u001b[0mself\u001b[0m\u001b[0;34m.\u001b[0m\u001b[0mid\u001b[0m\u001b[0;34m,\u001b[0m \u001b[0mproxy\u001b[0m\u001b[0;34m)\u001b[0m\u001b[0;34m\u001b[0m\u001b[0;34m\u001b[0m\u001b[0m\n\u001b[1;32m    480\u001b[0m \u001b[0;34m\u001b[0m\u001b[0m\n",
      "\u001b[0;32m<ipython-input-8-95e7d28135c0>\u001b[0m in \u001b[0;36mprint_attrs\u001b[0;34m(name, obj)\u001b[0m\n\u001b[1;32m      1\u001b[0m \u001b[0;32mdef\u001b[0m \u001b[0mprint_attrs\u001b[0m\u001b[0;34m(\u001b[0m\u001b[0mname\u001b[0m\u001b[0;34m,\u001b[0m \u001b[0mobj\u001b[0m\u001b[0;34m)\u001b[0m\u001b[0;34m:\u001b[0m\u001b[0;34m\u001b[0m\u001b[0;34m\u001b[0m\u001b[0m\n\u001b[1;32m      2\u001b[0m     \u001b[0mprint\u001b[0m\u001b[0;34m(\u001b[0m\u001b[0mname\u001b[0m\u001b[0;34m)\u001b[0m\u001b[0;34m\u001b[0m\u001b[0;34m\u001b[0m\u001b[0m\n\u001b[0;32m----> 3\u001b[0;31m     \u001b[0;32mfor\u001b[0m \u001b[0mkey\u001b[0m\u001b[0;34m,\u001b[0m \u001b[0mval\u001b[0m \u001b[0;32min\u001b[0m \u001b[0mobj\u001b[0m\u001b[0;34m.\u001b[0m\u001b[0mattrs\u001b[0m\u001b[0;34m.\u001b[0m\u001b[0miteritems\u001b[0m\u001b[0;34m(\u001b[0m\u001b[0;34m)\u001b[0m\u001b[0;34m:\u001b[0m\u001b[0;34m\u001b[0m\u001b[0;34m\u001b[0m\u001b[0m\n\u001b[0m\u001b[1;32m      4\u001b[0m         \u001b[0mprint\u001b[0m\u001b[0;34m(\u001b[0m\u001b[0;34m\"    %s: %s\"\u001b[0m \u001b[0;34m%\u001b[0m \u001b[0;34m(\u001b[0m\u001b[0mkey\u001b[0m\u001b[0;34m,\u001b[0m \u001b[0mval\u001b[0m\u001b[0;34m)\u001b[0m\u001b[0;34m)\u001b[0m\u001b[0;34m\u001b[0m\u001b[0;34m\u001b[0m\u001b[0m\n\u001b[1;32m      5\u001b[0m \u001b[0;34m\u001b[0m\u001b[0m\n",
      "\u001b[0;31mAttributeError\u001b[0m: 'AttributeManager' object has no attribute 'iteritems'"
     ]
    }
   ],
   "source": [
    "def print_attrs(name, obj):\n",
    "    print(name)\n",
    "    for key, val in obj.attrs.iteritems():\n",
    "        print(\"    %s: %s\" % (key, val))\n",
    "\n",
    "f.visititems(print_attrs)"
   ]
  },
  {
   "cell_type": "code",
   "execution_count": null,
   "metadata": {},
   "outputs": [],
   "source": []
  }
 ],
 "metadata": {
  "kernelspec": {
   "display_name": "Python 3",
   "language": "python",
   "name": "python3"
  },
  "language_info": {
   "codemirror_mode": {
    "name": "ipython",
    "version": 3
   },
   "file_extension": ".py",
   "mimetype": "text/x-python",
   "name": "python",
   "nbconvert_exporter": "python",
   "pygments_lexer": "ipython3",
   "version": "3.7.1"
  }
 },
 "nbformat": 4,
 "nbformat_minor": 2
}
